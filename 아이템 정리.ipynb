{
 "cells": [
  {
   "cell_type": "markdown",
   "metadata": {},
   "source": [
    "# 게임에서 이탈하는 사람들은 아이템을 정리하는 경향을 보이는가?"
   ]
  },
  {
   "cell_type": "code",
   "execution_count": 1,
   "metadata": {},
   "outputs": [],
   "source": [
    "import pandas as pd\n",
    "import numpy as np\n",
    "import matplotlib.pyplot as plt"
   ]
  },
  {
   "cell_type": "code",
   "execution_count": 2,
   "metadata": {},
   "outputs": [],
   "source": [
    "label = pd.read_csv('C:/Users/CPB06GameN/Desktop/PROGRAM/big/2019빅콘테스트_챔피언스리그_데이터_수정/train_label.csv')\n",
    "payment = pd.read_csv('C:/Users/CPB06GameN/Desktop/PROGRAM/big/2019빅콘테스트_챔피언스리그_데이터_수정/train_payment.csv')\n",
    "act = pd.read_csv('C:/Users/CPB06GameN/Desktop/PROGRAM/big/2019빅콘테스트_챔피언스리그_데이터_수정/train_activity.csv')\n",
    "trade = pd.read_csv('C:/Users/CPB06GameN/Desktop/PROGRAM/big/2019빅콘테스트_챔피언스리그_데이터_수정/train_trade.csv')\n",
    "\n"
   ]
  },
  {
   "cell_type": "code",
   "execution_count": 37,
   "metadata": {},
   "outputs": [
    {
     "name": "stdout",
     "output_type": "stream",
     "text": [
      "(1849325, 11) (1040143, 11) (809182, 11)\n"
     ]
    },
    {
     "data": {
      "text/html": [
       "<div>\n",
       "<style scoped>\n",
       "    .dataframe tbody tr th:only-of-type {\n",
       "        vertical-align: middle;\n",
       "    }\n",
       "\n",
       "    .dataframe tbody tr th {\n",
       "        vertical-align: top;\n",
       "    }\n",
       "\n",
       "    .dataframe thead th {\n",
       "        text-align: right;\n",
       "    }\n",
       "</style>\n",
       "<table border=\"1\" class=\"dataframe\">\n",
       "  <thead>\n",
       "    <tr style=\"text-align: right;\">\n",
       "      <th></th>\n",
       "      <th>day</th>\n",
       "      <th>time</th>\n",
       "      <th>type</th>\n",
       "      <th>server</th>\n",
       "      <th>acc_id</th>\n",
       "      <th>source_char_id</th>\n",
       "      <th>target_acc_id</th>\n",
       "      <th>target_char_id</th>\n",
       "      <th>item_type</th>\n",
       "      <th>item_amount</th>\n",
       "      <th>item_price</th>\n",
       "    </tr>\n",
       "  </thead>\n",
       "  <tbody>\n",
       "    <tr>\n",
       "      <th>0</th>\n",
       "      <td>7</td>\n",
       "      <td>21:13:05</td>\n",
       "      <td>1</td>\n",
       "      <td>ag</td>\n",
       "      <td>11439</td>\n",
       "      <td>385109</td>\n",
       "      <td>48152</td>\n",
       "      <td>34247</td>\n",
       "      <td>enchant_scroll</td>\n",
       "      <td>4.793968e-08</td>\n",
       "      <td>NaN</td>\n",
       "    </tr>\n",
       "    <tr>\n",
       "      <th>1</th>\n",
       "      <td>2</td>\n",
       "      <td>15:33:00</td>\n",
       "      <td>1</td>\n",
       "      <td>al</td>\n",
       "      <td>22220</td>\n",
       "      <td>259705</td>\n",
       "      <td>43228</td>\n",
       "      <td>379826</td>\n",
       "      <td>enchant_scroll</td>\n",
       "      <td>4.314571e-06</td>\n",
       "      <td>NaN</td>\n",
       "    </tr>\n",
       "    <tr>\n",
       "      <th>2</th>\n",
       "      <td>1</td>\n",
       "      <td>14:24:53</td>\n",
       "      <td>1</td>\n",
       "      <td>al</td>\n",
       "      <td>18212</td>\n",
       "      <td>164230</td>\n",
       "      <td>38145</td>\n",
       "      <td>34209</td>\n",
       "      <td>accessory</td>\n",
       "      <td>7.190952e-08</td>\n",
       "      <td>NaN</td>\n",
       "    </tr>\n",
       "    <tr>\n",
       "      <th>3</th>\n",
       "      <td>7</td>\n",
       "      <td>23:13:43</td>\n",
       "      <td>1</td>\n",
       "      <td>au</td>\n",
       "      <td>121622</td>\n",
       "      <td>49839</td>\n",
       "      <td>71226</td>\n",
       "      <td>281334</td>\n",
       "      <td>adena</td>\n",
       "      <td>9.587936e-03</td>\n",
       "      <td>NaN</td>\n",
       "    </tr>\n",
       "    <tr>\n",
       "      <th>4</th>\n",
       "      <td>2</td>\n",
       "      <td>12:43:33</td>\n",
       "      <td>0</td>\n",
       "      <td>bd</td>\n",
       "      <td>14421</td>\n",
       "      <td>344503</td>\n",
       "      <td>65220</td>\n",
       "      <td>210558</td>\n",
       "      <td>etc</td>\n",
       "      <td>1.198492e-07</td>\n",
       "      <td>0.000639</td>\n",
       "    </tr>\n",
       "  </tbody>\n",
       "</table>\n",
       "</div>"
      ],
      "text/plain": [
       "   day      time  type server  acc_id  source_char_id  target_acc_id  \\\n",
       "0    7  21:13:05     1     ag   11439          385109          48152   \n",
       "1    2  15:33:00     1     al   22220          259705          43228   \n",
       "2    1  14:24:53     1     al   18212          164230          38145   \n",
       "3    7  23:13:43     1     au  121622           49839          71226   \n",
       "4    2  12:43:33     0     bd   14421          344503          65220   \n",
       "\n",
       "   target_char_id       item_type   item_amount  item_price  \n",
       "0           34247  enchant_scroll  4.793968e-08         NaN  \n",
       "1          379826  enchant_scroll  4.314571e-06         NaN  \n",
       "2           34209       accessory  7.190952e-08         NaN  \n",
       "3          281334           adena  9.587936e-03         NaN  \n",
       "4          210558             etc  1.198492e-07    0.000639  "
      ]
     },
     "execution_count": 37,
     "metadata": {},
     "output_type": "execute_result"
    }
   ],
   "source": [
    "trade = pd.read_csv('C:/Users/CPB06GameN/Desktop/PROGRAM/big/2019빅콘테스트_챔피언스리그_데이터_수정/train_trade.csv')\n",
    "\n",
    "\n",
    "print(trade.shape, trade[trade['type']==1].shape, trade[trade['type']==0].shape)\\\n",
    "\n",
    "private_shop = trade[trade['type']==0]\n",
    "trade_shop = trade[trade['type']==1]\n",
    "\n",
    "\n",
    "len(set(trade.source_acc_id))\n",
    "# len(set(label.acc_id))\n",
    "trade1 = trade.rename(columns = {'source_acc_id':'acc_id'})\n",
    "trade2 = trade.rename(columns = {'acc_id':'source_acc_id',\n",
    "                                 'target_acc_id':'acc_id'})\n",
    "trade1.head()"
   ]
  },
  {
   "cell_type": "markdown",
   "metadata": {},
   "source": [
    "## LABEL에 있는 인원들 중 TRADE에도 있는 사람들\n",
    "\n",
    "중에 나는 판매자가 게임을 그만두는지를 알고 싶기 때문에 \n",
    "\n",
    "판매자인 trade_label_sell 로 선택하여 분석해보려고 한다.\n",
    "\n",
    "\n",
    "> trade_label_sell 에는 label에 있는 40000명중 28874만 존재한다.\n"
   ]
  },
  {
   "cell_type": "code",
   "execution_count": 39,
   "metadata": {},
   "outputs": [
    {
     "name": "stdout",
     "output_type": "stream",
     "text": [
      "(1403720, 13) 28874\n",
      "(1280083, 13) 31373\n"
     ]
    }
   ],
   "source": [
    "trade_label_sell = label.merge(trade1, on='acc_id', how='inner')\n",
    "print(trade_label_sell.shape, len(set(trade_label_sell.acc_id)) )\n",
    "\n",
    "trade_label_buy = label.merge(trade2, on='acc_id', how='inner')\n",
    "print(trade_label_buy.shape, len(set(trade_label_buy.acc_id)) )"
   ]
  },
  {
   "cell_type": "markdown",
   "metadata": {},
   "source": [
    "그리고 그 28874명 중 \n",
    "\n",
    "17899명은 64일까지 잔존한 인원들이고,\n",
    "\n",
    "10975명은 중간에 이탈한 인원이다."
   ]
  },
  {
   "cell_type": "code",
   "execution_count": 62,
   "metadata": {},
   "outputs": [
    {
     "name": "stdout",
     "output_type": "stream",
     "text": [
      "28874\n",
      "17899 10975\n"
     ]
    }
   ],
   "source": [
    "sell = trade_label_sell.groupby(['acc_id'], as_index=False).mean()\n",
    "print(sell.shape[0])\n",
    "\n",
    "print(sell[sell['survival_time']==64].shape[0], sell[sell['survival_time']!=64].shape[0])\n"
   ]
  },
  {
   "cell_type": "markdown",
   "metadata": {},
   "source": [
    "label 데이터에서 실제로 그만 둔 인원은 18004명이고,\n",
    "\n",
    "그 인원들 중 \n",
    "\n",
    "10975명이 아이템을 판매한 인원들이며, \n",
    "\n",
    "1012명이 1일차에 그만둔 사람들이다."
   ]
  },
  {
   "cell_type": "code",
   "execution_count": 53,
   "metadata": {},
   "outputs": [
    {
     "data": {
      "text/plain": [
       "(18004, 1012)"
      ]
     },
     "execution_count": 53,
     "metadata": {},
     "output_type": "execute_result"
    }
   ],
   "source": [
    "label[label['survival_time']!=64].shape[0], label[label['survival_time']==1].shape[0]"
   ]
  },
  {
   "cell_type": "code",
   "execution_count": null,
   "metadata": {},
   "outputs": [],
   "source": []
  },
  {
   "cell_type": "markdown",
   "metadata": {},
   "source": [
    "# 21일 이후의 거래 데이터 & 7일 이하 생존자들\n",
    "\n",
    "단순히 28일치의 거래 데이터로 64일을 모두 예측하는 것은 생각했던 것 만큼의 설명력이 없다고 판단..!\n",
    "\n",
    "때문에 그래도 설명할 수 있다고 판단되는 21일 이후의 거래 데이터 & 7일 이하 생존자들을 살펴보기로 한다."
   ]
  },
  {
   "cell_type": "code",
   "execution_count": 69,
   "metadata": {},
   "outputs": [
    {
     "data": {
      "text/plain": [
       "3721"
      ]
     },
     "execution_count": 69,
     "metadata": {},
     "output_type": "execute_result"
    }
   ],
   "source": [
    "label[label['survival_time']<8].shape[0]\n",
    "label_accid = label[label['survival_time']<8]['acc_id']\n",
    "label_accid = set(label_accid)\n",
    "len(label_accid)"
   ]
  },
  {
   "cell_type": "markdown",
   "metadata": {},
   "source": [
    "7일 이전에 그만둔 인원은 3721명."
   ]
  },
  {
   "cell_type": "code",
   "execution_count": 71,
   "metadata": {},
   "outputs": [
    {
     "data": {
      "text/plain": [
       "5791"
      ]
     },
     "execution_count": 71,
     "metadata": {},
     "output_type": "execute_result"
    }
   ],
   "source": [
    "sell1 = trade_label_sell.groupby(['day','acc_id'], as_index=False).count()\n",
    "sell2 = sell1[['day','acc_id','item_type']]\n",
    " \n",
    "sell_21 = sell2[sell2['day']>20]\n",
    "sell_acc_id = sell_21[sell_21['item_type']>np.mean(sell_21['item_type'])]['acc_id']\n",
    "sell_acc_id = set(sell_acc_id)\n",
    "len(sell_acc_id)"
   ]
  },
  {
   "cell_type": "markdown",
   "metadata": {},
   "source": [
    "21일 이후에 판매를 많이 하는 인원은 5791명.\n",
    "\n",
    "두 집단의 유저아이디를 집합으로 만들어서 교집합을 구하는 형태로 얼마나 일치하는지를 파악한다."
   ]
  },
  {
   "cell_type": "code",
   "execution_count": 74,
   "metadata": {},
   "outputs": [
    {
     "data": {
      "text/plain": [
       "249"
      ]
     },
     "execution_count": 74,
     "metadata": {},
     "output_type": "execute_result"
    }
   ],
   "source": [
    "len(sell_acc_id.intersection(label_accid))"
   ]
  },
  {
   "cell_type": "markdown",
   "metadata": {},
   "source": [
    "249명... 이 가설은 기각하는 것으로 결론."
   ]
  },
  {
   "cell_type": "code",
   "execution_count": null,
   "metadata": {},
   "outputs": [],
   "source": []
  },
  {
   "cell_type": "code",
   "execution_count": null,
   "metadata": {},
   "outputs": [],
   "source": []
  }
 ],
 "metadata": {
  "kernelspec": {
   "display_name": "Python 3",
   "language": "python",
   "name": "python3"
  },
  "language_info": {
   "codemirror_mode": {
    "name": "ipython",
    "version": 3
   },
   "file_extension": ".py",
   "mimetype": "text/x-python",
   "name": "python",
   "nbconvert_exporter": "python",
   "pygments_lexer": "ipython3",
   "version": "3.7.3"
  }
 },
 "nbformat": 4,
 "nbformat_minor": 2
}
