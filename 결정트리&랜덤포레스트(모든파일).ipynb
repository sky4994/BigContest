{
 "cells": [
  {
   "cell_type": "markdown",
   "metadata": {},
   "source": [
    "# 기본데이터 만들기 (처음 1번만)"
   ]
  },
  {
   "cell_type": "code",
   "execution_count": 165,
   "metadata": {
    "scrolled": false
   },
   "outputs": [
    {
     "name": "stdout",
     "output_type": "stream",
     "text": [
      "process - 1\n",
      "process - 2\n",
      "Index(['acc_id', 'survival_time', 'amount_spent', 'playtime', 'npc_kill',\n",
      "       'solo_exp', 'party_exp', 'quest_exp', 'rich_monster', 'death', 'revive',\n",
      "       'exp_recovery', 'fishing', 'private_shop', 'game_money_change',\n",
      "       'enchant_count', 'level', 'pledge_cnt', 'random_attacker_cnt',\n",
      "       'random_defender_cnt', 'temp_cnt', 'same_pledge_cnt', 'etc_cnt',\n",
      "       'num_opponent', 'amount_spent_pay', 'sell_item_cnt', 'buy_item_cnt',\n",
      "       'play_char_cnt', 'combat_char_cnt', 'pledge_combat_cnt',\n",
      "       'random_attacker_cnt_plg', 'random_defender_cnt_plg',\n",
      "       'same_pledge_cnt_plg', 'temp_cnt_plg', 'etc_cnt_plg',\n",
      "       'combat_play_time', 'non_combat_play_time'],\n",
      "      dtype='object')\n",
      "Index(['acc_id', 'survival_time', 'amount_spent', 'playtime', 'npc_kill',\n",
      "       'solo_exp', 'party_exp', 'quest_exp', 'rich_monster', 'death', 'revive',\n",
      "       'exp_recovery', 'fishing', 'private_shop', 'game_money_change',\n",
      "       'enchant_count', 'level', 'pledge_cnt', 'random_attacker_cnt',\n",
      "       'random_defender_cnt', 'temp_cnt', 'same_pledge_cnt', 'etc_cnt',\n",
      "       'num_opponent', 'amount_spent_pay', 'sell_item_cnt', 'buy_item_cnt',\n",
      "       'play_char_cnt', 'combat_char_cnt', 'pledge_combat_cnt',\n",
      "       'random_attacker_cnt_plg', 'random_defender_cnt_plg',\n",
      "       'same_pledge_cnt_plg', 'temp_cnt_plg', 'etc_cnt_plg',\n",
      "       'combat_play_time', 'non_combat_play_time'],\n",
      "      dtype='object')\n"
     ]
    }
   ],
   "source": [
    "# ======================================================================================================================\n",
    "import pandas as pd\n",
    "import matplotlib.pyplot as plt\n",
    "import seaborn as sns\n",
    "import matplotlib\n",
    "from sklearn.preprocessing import MinMaxScaler\n",
    "import tensorflow as tf\n",
    "import numpy as np\n",
    "import random\n",
    "from sklearn.model_selection import train_test_split\n",
    "import scipy as cp\n",
    "# ======================================================================================================================\n",
    "\n",
    "scaler = MinMaxScaler()\n",
    "random.seed(54654)\n",
    "\n",
    "matplotlib.rcParams['font.family']='Malgun Gothic'   # 한글 사용\n",
    "matplotlib.rcParams['axes.unicode_minus'] = False\n",
    "\n",
    "label = pd.read_csv('C:/Users/CPB06GameN/Desktop/PROGRAM/big/train_label.csv')\n",
    "\n",
    "\n",
    "\n",
    "# ======================================================================================================================\n",
    "print(\"process - 1\")\n",
    "\n",
    "activity = pd.read_csv('C:/Users/CPB06GameN/Desktop/PROGRAM/big/train_activity.csv')\n",
    "\n",
    "# activity acc_id로 groupby\n",
    "# - 평균을 내지 않은 이유 : 평균을 냈을 경우 캐릭터는 많지만\n",
    "#   한 캐릭터만으로 활동한 사람의 정보가 과소평가 될 가능성이 있음\n",
    "activity = activity.groupby(['acc_id'], as_index = False).sum()\n",
    "activity.drop(columns = ['day','char_id'], inplace = True)\n",
    "# print(activity.head())\n",
    "\n",
    "\n",
    "\n",
    "# ======================================================================================================================\n",
    "\n",
    "\n",
    "combat = pd.read_csv('C:/Users/CPB06GameN/Desktop/PROGRAM/big/train_combat.csv')\n",
    "\n",
    "combat.drop(columns = ['day', 'server', 'char_id', 'class'], inplace = True)\n",
    "combat_a = combat.groupby(['acc_id'], as_index = False).sum()\n",
    "combat_a.drop(columns = 'level', inplace = True)\n",
    "\n",
    "combat_b = combat.groupby(['acc_id'], as_index = False).max()\n",
    "#  combat.groupby('acc_id', as_index = False).sum().sort_values('acc_id')\n",
    "\n",
    "# acc_id 기준으로 정리\n",
    "\n",
    "combat_b = combat_b[['acc_id', 'level']]\n",
    "combat = pd.merge(combat_b, combat_a, how = 'inner', on = 'acc_id')\n",
    "\n",
    "\n",
    "\n",
    "# ======================================================================================================================\n",
    "\n",
    "\n",
    "payment = pd.read_csv('C:/Users/CPB06GameN/Desktop/PROGRAM/big/train_payment.csv')\n",
    "\n",
    "payment = payment.groupby('acc_id', as_index = False).sum()\n",
    "payment.drop(columns = 'day', inplace = True)\n",
    "\n",
    "payment.rename(columns = {'amount_spent' : 'amount_spent_pay'}, inplace = True)\n",
    "\n",
    "\n",
    "# ======================================================================================================================\n",
    "\n",
    "\n",
    "trade = pd.read_csv('C:/Users/CPB06GameN/Desktop/PROGRAM/big/train_trade.csv')\n",
    "\n",
    "# 거래에 참여한 횟수를 기준으로\n",
    "\n",
    "# 판매자로서 활동한 acc_id\n",
    "trade_a = trade.groupby('source_acc_id', as_index = False).count()\n",
    "trade_a = trade_a[['source_acc_id', 'day']]\n",
    "\n",
    "# 구매자로서 활동한 acc_id\n",
    "trade_b = trade.groupby('target_acc_id', as_index = False).count()\n",
    "trade_b = trade_b[['target_acc_id', 'day']]\n",
    "\n",
    "x = trade_a['day'].sum() - trade_b['day'].sum()\n",
    "# print(x) # 0\n",
    "\n",
    "trade_a.rename(columns={'source_acc_id':'acc_id',\n",
    "                        'day':'sell_item_cnt'}, inplace=True)\n",
    "trade_b.rename(columns={'target_acc_id':'acc_id',\n",
    "                        'day':'buy_item_cnt'}, inplace=True)\n",
    "\n",
    "trade = pd.merge(trade_a, trade_b, how = 'outer', on = 'acc_id')\n",
    "\n",
    "# 실제 데이터 검색\n",
    "# trade[trade['source_acc_id'] == 6].count()\n",
    "\n",
    "# 데이터 검증\n",
    "# trade_a[trade_a['source_acc_id'] == 6]\n",
    "\n",
    "\n",
    "# ======================================================================================================================\n",
    "\n",
    "\n",
    "pledge = pd.read_csv('C:/Users/CPB06GameN/Desktop/PROGRAM/big/train_pledge.csv')\n",
    "\n",
    "ple_1 = pledge.groupby(['server', 'pledge_id', 'day'], as_index = False).mean()\n",
    "ple_1.drop(columns = ['acc_id', 'char_id', 'day'], inplace = True)\n",
    "ple_1 = ple_1.groupby(['server', 'pledge_id'], as_index = False).sum()\n",
    "\n",
    "ple_a = pledge.groupby(['acc_id', 'char_id', 'server', 'pledge_id', 'day'], as_index = False).mean()\n",
    "ple_a = ple_a.groupby(['acc_id', 'char_id', 'server', 'pledge_id'], as_index = False).sum()\n",
    "ple_a = ple_a[['acc_id', 'char_id', 'server', 'pledge_id']]\n",
    "\n",
    "pledge = pd.merge(ple_a, ple_1, how = 'outer', on = ['server', 'pledge_id'])\n",
    "pledge.drop(columns = ['char_id', 'server', 'pledge_id'], inplace = True)\n",
    "pledge_total = pledge.groupby(['acc_id'], as_index = False).mean()\n",
    "\n",
    "pledge_total.rename(columns = {'random_attacker_cnt' : 'random_attacker_cnt_plg',\n",
    "                              'random_defender_cnt' : 'random_defender_cnt_plg',\n",
    "                              'same_pledge_cnt' : 'same_pledge_cnt_plg',\n",
    "                              'temp_cnt' : 'temp_cnt_plg',\n",
    "                              'etc_cnt':'etc_cnt_plg'}, inplace = True)\n",
    "\n",
    "# ple_1[(ple_1['pledge_id'] == 25467) & (ple_1['server'] == 'aq')]\n",
    "# ple_a[(ple_a['pledge_id'] == 25467) & (ple_a['server'] == 'aq')]\n",
    "\n",
    "\n",
    "# ======================================================================================================================\n",
    "print(\"process - 2\")\n",
    "\n",
    "# label + activity\n",
    "label_a = pd.merge(label, activity, how = 'outer', on = 'acc_id')\n",
    "\n",
    "# (label + activity) + combat\n",
    "label_b = pd.merge(label_a, combat, how = 'outer', on = 'acc_id')\n",
    "\n",
    "# (label + activity + combat) + payment\n",
    "label_c = pd.merge(label_b, payment, how = 'outer', on = 'acc_id')\n",
    "\n",
    "# (label + activity + combat + payment) + trade\n",
    "label_d = pd.merge(label_c, trade, how = 'outer', on = 'acc_id')\n",
    "label_d = label_d[label_d['survival_time'] >= 1]\n",
    "\n",
    "# (label + activity + combat + payment + trade) + pledge_total\n",
    "label_z = pd.merge(label_d, pledge_total, how = 'outer', on = 'acc_id')\n",
    "\n",
    "data = label_z.fillna(0)\n",
    "print(data.columns)\n",
    "\n",
    "data[['playtime', 'npc_kill',\n",
    "       'solo_exp', 'party_exp', 'quest_exp', 'rich_monster', 'death', 'revive',\n",
    "       'exp_recovery', 'fishing', 'private_shop', 'game_money_change',\n",
    "       'enchant_count', 'level', 'pledge_cnt', 'random_attacker_cnt',\n",
    "       'random_defender_cnt', 'temp_cnt', 'same_pledge_cnt', 'etc_cnt',\n",
    "       'num_opponent', 'amount_spent_pay', 'sell_item_cnt', 'buy_item_cnt',\n",
    "       'play_char_cnt', 'combat_char_cnt', 'pledge_combat_cnt',\n",
    "       'random_attacker_cnt_plg', 'random_defender_cnt_plg',\n",
    "       'same_pledge_cnt_plg', 'temp_cnt_plg', 'etc_cnt_plg',\n",
    "       'combat_play_time', 'non_combat_play_time']] = \\\n",
    "    scaler.fit_transform(data[['playtime', 'npc_kill',\n",
    "       'solo_exp', 'party_exp', 'quest_exp', 'rich_monster', 'death', 'revive',\n",
    "       'exp_recovery', 'fishing', 'private_shop', 'game_money_change',\n",
    "       'enchant_count', 'level', 'pledge_cnt', 'random_attacker_cnt',\n",
    "       'random_defender_cnt', 'temp_cnt', 'same_pledge_cnt', 'etc_cnt',\n",
    "       'num_opponent', 'amount_spent_pay', 'sell_item_cnt', 'buy_item_cnt',\n",
    "       'play_char_cnt', 'combat_char_cnt', 'pledge_combat_cnt',\n",
    "       'random_attacker_cnt_plg', 'random_defender_cnt_plg',\n",
    "       'same_pledge_cnt_plg', 'temp_cnt_plg', 'etc_cnt_plg',\n",
    "       'combat_play_time', 'non_combat_play_time']])\n",
    "\n",
    "data = data.fillna(0)\n",
    "print(data.columns)\n",
    "\n",
    "\n",
    "data.to_csv('AllMergeFromDonny.csv')\n",
    "# ======================================================================================================================\n"
   ]
  },
  {
   "cell_type": "markdown",
   "metadata": {},
   "source": [
    "# 데이터 불러오기"
   ]
  },
  {
   "cell_type": "code",
   "execution_count": 32,
   "metadata": {},
   "outputs": [
    {
     "name": "stdout",
     "output_type": "stream",
     "text": [
      "(40000, 37)\n"
     ]
    },
    {
     "data": {
      "text/plain": [
       "Index(['acc_id', 'survival_time', 'amount_spent', 'playtime', 'npc_kill',\n",
       "       'solo_exp', 'party_exp', 'quest_exp', 'rich_monster', 'death', 'revive',\n",
       "       'exp_recovery', 'fishing', 'private_shop', 'game_money_change',\n",
       "       'enchant_count', 'level', 'pledge_cnt', 'random_attacker_cnt',\n",
       "       'random_defender_cnt', 'temp_cnt', 'same_pledge_cnt', 'etc_cnt',\n",
       "       'num_opponent', 'amount_spent_pay', 'sell_item_cnt', 'buy_item_cnt',\n",
       "       'play_char_cnt', 'combat_char_cnt', 'pledge_combat_cnt',\n",
       "       'random_attacker_cnt_plg', 'random_defender_cnt_plg',\n",
       "       'same_pledge_cnt_plg', 'temp_cnt_plg', 'etc_cnt_plg',\n",
       "       'combat_play_time', 'non_combat_play_time'],\n",
       "      dtype='object')"
      ]
     },
     "execution_count": 32,
     "metadata": {},
     "output_type": "execute_result"
    }
   ],
   "source": [
    "# ======================================================================================================================\n",
    "import pandas as pd\n",
    "import matplotlib.pyplot as plt\n",
    "import seaborn as sns\n",
    "import matplotlib\n",
    "from sklearn.preprocessing import MinMaxScaler\n",
    "import tensorflow as tf\n",
    "import numpy as np\n",
    "import random\n",
    "from sklearn.model_selection import train_test_split\n",
    "import scipy as cp\n",
    "# ======================================================================================================================\n",
    "scaler = MinMaxScaler()\n",
    "random.seed(54654)\n",
    "\n",
    "matplotlib.rcParams['font.family']='Malgun Gothic'   # 한글 사용\n",
    "matplotlib.rcParams['axes.unicode_minus'] = False\n",
    "# ======================================================================================================================\n",
    "\n",
    "data = pd.read_csv('AllMergeFromDonny.csv')\n",
    "data.drop('Unnamed: 0', axis=1, inplace=True)\n",
    "print(data.shape)\n",
    "data.columns"
   ]
  },
  {
   "cell_type": "markdown",
   "metadata": {},
   "source": [
    "## 데이터를 생존과 과금여부로 나눠보기"
   ]
  },
  {
   "cell_type": "code",
   "execution_count": 33,
   "metadata": {
    "scrolled": false
   },
   "outputs": [
    {
     "name": "stdout",
     "output_type": "stream",
     "text": [
      "18004 \n",
      " 21996\n",
      "16438 \n",
      " 23562\n",
      "Index(['acc_id', 'survival_time', 'amount_spent', 'playtime', 'npc_kill',\n",
      "       'solo_exp', 'party_exp', 'quest_exp', 'rich_monster', 'death', 'revive',\n",
      "       'exp_recovery', 'fishing', 'private_shop', 'game_money_change',\n",
      "       'enchant_count', 'level', 'pledge_cnt', 'random_attacker_cnt',\n",
      "       'random_defender_cnt', 'temp_cnt', 'same_pledge_cnt', 'etc_cnt',\n",
      "       'num_opponent', 'amount_spent_pay', 'sell_item_cnt', 'buy_item_cnt',\n",
      "       'play_char_cnt', 'combat_char_cnt', 'pledge_combat_cnt',\n",
      "       'random_attacker_cnt_plg', 'random_defender_cnt_plg',\n",
      "       'same_pledge_cnt_plg', 'temp_cnt_plg', 'etc_cnt_plg',\n",
      "       'combat_play_time', 'non_combat_play_time', 'survived', 'cash'],\n",
      "      dtype='object')\n"
     ]
    },
    {
     "data": {
      "text/plain": [
       "(40000, 35)"
      ]
     },
     "execution_count": 33,
     "metadata": {},
     "output_type": "execute_result"
    }
   ],
   "source": [
    "# 생존여부\n",
    "data.loc[data['survival_time'] < 64, \"survived\"] = 0\n",
    "data.loc[data['survival_time'] == 64, \"survived\"] = 1\n",
    "\n",
    "# 과금 여부\n",
    "data.loc[data['amount_spent'] == 0, \"cash\"] = 0\n",
    "data.loc[data['amount_spent'] > 0, \"cash\"] = 1\n",
    "\n",
    "# data.drop(['acc_id','survival_time','amount_spent', 'survived'], axis=1, inplace = True)\n",
    "\n",
    "data.head()\n",
    "\n",
    "# 나눈 것을 다시 한번 숫자 카운팅 해보기\n",
    "print(data['survived'][data['survived']==0].count(),'\\n',\n",
    "     data['survived'][data['survived']==1].count())\n",
    "\n",
    "print(data['cash'][data['cash']==0].count(),'\\n',\n",
    "     data['cash'][data['cash']==1].count())\n",
    "\n",
    "print(data.columns)\n",
    "\n",
    "survival_time = data[['acc_id','survival_time']]\n",
    "amount_spent = data[['acc_id','amount_spent']]\n",
    "\n",
    "data1 = data.drop(columns=['amount_spent','cash','survived','survival_time'], axis=1)\n",
    "data1.shape\n",
    "# ======================================================================================================================"
   ]
  },
  {
   "cell_type": "markdown",
   "metadata": {},
   "source": [
    "# 생존여부로 결정트리, 랜덤포레스트"
   ]
  },
  {
   "cell_type": "code",
   "execution_count": 4,
   "metadata": {},
   "outputs": [
    {
     "data": {
      "text/plain": [
       "((28000, 35), (12000, 35), (28000,), (12000,))"
      ]
     },
     "execution_count": 4,
     "metadata": {},
     "output_type": "execute_result"
    }
   ],
   "source": [
    "# ======================================================================================================================\n",
    "\n",
    "from sklearn.model_selection import train_test_split\n",
    "\n",
    "y = data['survived']\n",
    "\n",
    "\n",
    "x = data[['acc_id','playtime', 'npc_kill',\n",
    "       'solo_exp', 'party_exp', 'quest_exp', 'rich_monster', 'death', 'revive',\n",
    "       'exp_recovery', 'fishing', 'private_shop', 'game_money_change',\n",
    "       'enchant_count', 'level', 'pledge_cnt', 'random_attacker_cnt',\n",
    "       'random_defender_cnt', 'temp_cnt', 'same_pledge_cnt', 'etc_cnt',\n",
    "       'num_opponent',  'sell_item_cnt','amount_spent_pay', 'buy_item_cnt',\n",
    "       'play_char_cnt', 'combat_char_cnt', 'pledge_combat_cnt',\n",
    "       'random_attacker_cnt_plg', 'random_defender_cnt_plg',\n",
    "       'same_pledge_cnt_plg', 'temp_cnt_plg', 'etc_cnt_plg',\n",
    "       'combat_play_time', 'non_combat_play_time']]\n",
    "\n",
    "\n",
    "#훈련세트, 테스트세트 나누기\n",
    "train_x, test_x, train_y, test_y = train_test_split(x, y, test_size = 0.3)\n",
    "\n",
    "train_x.shape, test_x.shape, train_y.shape, test_y.shape"
   ]
  },
  {
   "cell_type": "code",
   "execution_count": 5,
   "metadata": {},
   "outputs": [
    {
     "name": "stdout",
     "output_type": "stream",
     "text": [
      "0.6988333333333333\n"
     ]
    },
    {
     "data": {
      "text/plain": [
       "'payment-lable.gv.pdf'"
      ]
     },
     "execution_count": 5,
     "metadata": {},
     "output_type": "execute_result"
    }
   ],
   "source": [
    "## DecisionTree\n",
    "from sklearn.tree import DecisionTreeClassifier\n",
    "from sklearn.ensemble import RandomForestClassifier\n",
    "\n",
    "decision = DecisionTreeClassifier(max_depth = 5).fit(train_x,train_y)\n",
    "# print(decision.score(train_x, train_y))\n",
    "print(decision.score(test_x, test_y))\n",
    "\n",
    "from sklearn.tree import export_graphviz\n",
    "import graphviz\n",
    "import pydot\n",
    "\n",
    "export_graphviz(decision,\n",
    "                feature_names = x.columns,\n",
    "                class_names = ['Death', 'Survived'],\n",
    "                out_file = 'decisionTree1.dot',\n",
    "                impurity = True,\n",
    "                filled = True)\n",
    "\n",
    "# Encoding 중요\n",
    "# (graph,) = pydot.graph_from_dot_file('decisionTree1.dot', encoding='utf8')\n",
    "\n",
    "# Dot 파일을 Png 이미지로 저장\n",
    "# graph.write_png('decisionTree1.png')\n",
    "\n",
    "with open('decisionTree1.dot') as f:\n",
    "    dot_graph = str(open(\"decisionTree1.dot\", \"rb\").read(), 'utf8')\n",
    "\n",
    "src = graphviz.Source(dot_graph)\n",
    "src.render('payment-lable.gv', view=True)"
   ]
  },
  {
   "cell_type": "markdown",
   "metadata": {},
   "source": [
    "# 생존여부를 0,1로 하여 3개의 모델을 앙상블"
   ]
  },
  {
   "cell_type": "code",
   "execution_count": null,
   "metadata": {},
   "outputs": [
    {
     "name": "stderr",
     "output_type": "stream",
     "text": [
      "C:\\Users\\CPB06GameN\\Anaconda3\\lib\\site-packages\\sklearn\\linear_model\\logistic.py:433: FutureWarning: Default solver will be changed to 'lbfgs' in 0.22. Specify a solver to silence this warning.\n",
      "  FutureWarning)\n",
      "C:\\Users\\CPB06GameN\\Anaconda3\\lib\\site-packages\\sklearn\\ensemble\\forest.py:246: FutureWarning: The default value of n_estimators will change from 10 in version 0.20 to 100 in 0.22.\n",
      "  \"10 in version 0.20 to 100 in 0.22.\", FutureWarning)\n",
      "C:\\Users\\CPB06GameN\\Anaconda3\\lib\\site-packages\\sklearn\\svm\\base.py:196: FutureWarning: The default value of gamma will change from 'auto' to 'scale' in version 0.22 to account better for unscaled features. Set gamma explicitly to 'auto' or 'scale' to avoid this warning.\n",
      "  \"avoid this warning.\", FutureWarning)\n"
     ]
    }
   ],
   "source": [
    "# from sklearn.ensemble import RandomForestClassifier\n",
    "# from sklearn.ensemble import VotingClassifier\n",
    "# from sklearn.linear_model import LogisticRegression\n",
    "# from sklearn.svm import SVC\n",
    "\n",
    "# log_clf = LogisticRegression(random_state=42)\n",
    "# rnd_clf = RandomForestClassifier(random_state=42)\n",
    "# svm_clf = SVC(random_state=42)\n",
    "\n",
    "# # voting_clf_hard = VotingClassifier(\n",
    "# #     estimators=[('lr', log_clf), ('rf', rnd_clf), ('svc', svm_clf)],\n",
    "# #     voting='hard')\n",
    "# # voting_clf.fit(X_train, y_train)\n",
    "\n",
    "\n",
    "# voting_clf_soft = VotingClassifier(\n",
    "#     estimators=[('lr', log_clf), ('rf', rnd_clf), ('svc', svm_clf)],\n",
    "#     voting='soft')\n",
    "# voting_clf_soft.fit(train_x, train_y)\n",
    "\n",
    "# from sklearn.metrics import accuracy_score\n",
    "\n",
    "# for clf in (log_clf, rnd_clf, svm_clf, voting_clf):\n",
    "#     clf.fit(train_x, train_y)\n",
    "#     y_pred = clf.predict(test_x)\n",
    "#     print(clf.__class__.__name__, accuracy_score(test_y, y_pred))\n",
    "\n"
   ]
  },
  {
   "cell_type": "markdown",
   "metadata": {},
   "source": [
    "# 1~64로 랜덤포레스트 예측 해보기"
   ]
  },
  {
   "cell_type": "code",
   "execution_count": 26,
   "metadata": {},
   "outputs": [],
   "source": [
    "data_cash_yes = data_cash\n",
    "# data_cash_yes.columns\n",
    "\n",
    "# data_cash_yes = data[['combat_play_time','death','enchant_count','etc_cnt',\n",
    "#           'etc_cnt_plg','exp_recovery','level','non_combat_play_time',\n",
    "#           'num_opponent','party_exp','play_char_cnt','pledge_combat_cnt',\n",
    "#           'private_shop','quest_exp','random_attacker_cnt','random_attacker_cnt_plg',\n",
    "#           'random_defender_cnt','random_defender_cnt_plg','same_pledge_cnt_plg',\n",
    "#           'sell_item_cnt','temp_cnt','temp_cnt_plg','survival_time']]\n",
    "\n",
    "# [data_cash['survival_predict']==0]\n",
    "y_data = [[i] for i in data_cash_yes['survival_time'].tolist() ]\n",
    "y= y_data \n",
    "\n",
    "data_cash_yes.drop(['survival_time'], axis=1, inplace=True)\n",
    "\n",
    "x_data = [ data_cash_yes.iloc[i,:].tolist() for i in range(len(data_cash_yes.index.values))]\n",
    "X = x_data\n",
    "\n",
    "from sklearn.model_selection import train_test_split\n",
    "\n",
    "x_train, X_test, y_train, y_test = train_test_split(X, y, test_size = 1/3, random_state = 70) #42\n",
    "\n",
    "# multi_variable_linear_regression.py\n",
    "# 4"
   ]
  },
  {
   "cell_type": "code",
   "execution_count": 44,
   "metadata": {
    "scrolled": false
   },
   "outputs": [
    {
     "name": "stderr",
     "output_type": "stream",
     "text": [
      "C:\\Users\\CPB06GameN\\Anaconda3\\lib\\site-packages\\ipykernel_launcher.py:10: DataConversionWarning: A column-vector y was passed when a 1d array was expected. Please change the shape of y to (n_samples,), for example using ravel().\n",
      "  # Remove the CWD from sys.path while we load stuff.\n",
      "C:\\Users\\CPB06GameN\\Anaconda3\\lib\\site-packages\\sklearn\\utils\\validation.py:761: DataConversionWarning: A column-vector y was passed when a 1d array was expected. Please change the shape of y to (n_samples, ), for example using ravel().\n",
      "  y = column_or_1d(y, warn=True)\n"
     ]
    },
    {
     "name": "stdout",
     "output_type": "stream",
     "text": [
      "훈련 세트 정확도: 0.232\n",
      "테스트 세트 정확도: 0.207\n",
      "[64. 29. 29. ... 64.  1. 64.]\n",
      "[64. 64. 29. ... 64. 64. 64.]\n",
      "5526\n",
      "RandomForestClassifier 정확도 : 0.14748461816865727\n",
      "GradientBoostingClassifier 정확도 : 0.20684039087947884\n"
     ]
    }
   ],
   "source": [
    "import pandas as pd\n",
    "\n",
    "from sklearn.model_selection import train_test_split\n",
    "from sklearn.ensemble import RandomForestClassifier\n",
    "from sklearn import metrics\n",
    "from sklearn.ensemble import GradientBoostingClassifier\n",
    "\n",
    "# 학습 진행\n",
    "rfr = RandomForestClassifier(n_estimators=400, max_depth = 1,random_state=0)\n",
    "rfr.fit(x_train, y_train)\n",
    "\n",
    "gbrt = GradientBoostingClassifier(n_estimators=400, max_depth=1, learning_rate=0.01, random_state=0)\n",
    "gbrt.fit(x_train, y_train)\n",
    "\n",
    "print(\"훈련 세트 정확도: {:.3f}\".format(gbrt.score(x_train, y_train)))\n",
    "print(\"테스트 세트 정확도: {:.3f}\".format(gbrt.score(X_test, y_test)))\n",
    "    \n",
    "    \n",
    "# 예측 \n",
    "rfr_y_pred = rfr.predict(X_test)\n",
    "print(rfr_y_pred)\n",
    "gbc_y_pred = gbrt.predict(X_test)\n",
    "print(gbc_y_pred)\n",
    "print(len(list(y_test)))\n",
    "\n",
    "# 정확도 확인\n",
    "print('RandomForestClassifier 정확도 :', metrics.accuracy_score(y_test, rfr_y_pred))\n",
    "print('GradientBoostingClassifier 정확도 :', metrics.accuracy_score(y_test, gbc_y_pred))"
   ]
  },
  {
   "cell_type": "markdown",
   "metadata": {},
   "source": [
    "## 생존/비생존으로 랜덤포레스트"
   ]
  },
  {
   "cell_type": "code",
   "execution_count": 34,
   "metadata": {},
   "outputs": [
    {
     "name": "stdout",
     "output_type": "stream",
     "text": [
      "0.754\n",
      "<class 'pandas.core.frame.DataFrame'>\n"
     ]
    },
    {
     "data": {
      "text/html": [
       "<div>\n",
       "<style scoped>\n",
       "    .dataframe tbody tr th:only-of-type {\n",
       "        vertical-align: middle;\n",
       "    }\n",
       "\n",
       "    .dataframe tbody tr th {\n",
       "        vertical-align: top;\n",
       "    }\n",
       "\n",
       "    .dataframe thead th {\n",
       "        text-align: right;\n",
       "    }\n",
       "</style>\n",
       "<table border=\"1\" class=\"dataframe\">\n",
       "  <thead>\n",
       "    <tr style=\"text-align: right;\">\n",
       "      <th></th>\n",
       "      <th>survival_predict</th>\n",
       "    </tr>\n",
       "  </thead>\n",
       "  <tbody>\n",
       "    <tr>\n",
       "      <th>0</th>\n",
       "      <td>1.0</td>\n",
       "    </tr>\n",
       "    <tr>\n",
       "      <th>1</th>\n",
       "      <td>1.0</td>\n",
       "    </tr>\n",
       "    <tr>\n",
       "      <th>2</th>\n",
       "      <td>0.0</td>\n",
       "    </tr>\n",
       "    <tr>\n",
       "      <th>3</th>\n",
       "      <td>1.0</td>\n",
       "    </tr>\n",
       "    <tr>\n",
       "      <th>4</th>\n",
       "      <td>1.0</td>\n",
       "    </tr>\n",
       "  </tbody>\n",
       "</table>\n",
       "</div>"
      ],
      "text/plain": [
       "   survival_predict\n",
       "0               1.0\n",
       "1               1.0\n",
       "2               0.0\n",
       "3               1.0\n",
       "4               1.0"
      ]
     },
     "execution_count": 34,
     "metadata": {},
     "output_type": "execute_result"
    }
   ],
   "source": [
    "# ======================================================================================================================\n",
    "rfc = RandomForestClassifier(n_estimators=200)\n",
    "rfc.fit(train_x,train_y)\n",
    "# print(clf.score(train_x, train_y))\n",
    "print(rfc.score(test_x, test_y))\n",
    "# rfc_y_score = rfc.predict_proba(test_x)\n",
    "\n",
    "rfc_y_score = rfc.predict(data1)\n",
    "rfc_y = pd.DataFrame(rfc_y_score, columns = ['survival_predict'])\n",
    "print(type(rfc_y))\n",
    "rfc_y.head()\n",
    "# ======================================================================================================================\n"
   ]
  },
  {
   "cell_type": "markdown",
   "metadata": {},
   "source": [
    "# 랜덤포레스트 결과에서 예측값 뽑기"
   ]
  },
  {
   "cell_type": "code",
   "execution_count": null,
   "metadata": {},
   "outputs": [],
   "source": [
    "rfc_y_score = rfc.predict(data1)\n",
    "rfc_y = pd.DataFrame(rfc_y_score, columns = ['survival_predict'])\n",
    "print(type(rfc_y))"
   ]
  },
  {
   "cell_type": "code",
   "execution_count": 35,
   "metadata": {},
   "outputs": [
    {
     "name": "stdout",
     "output_type": "stream",
     "text": [
      "<class 'pandas.core.frame.DataFrame'>\n"
     ]
    }
   ],
   "source": [
    "data_cash = pd.concat([data1, rfc_y], axis=1)\n",
    "data_cash.head()\n",
    "rfc_y.shape\n",
    "print(len(data_cash.columns))"
   ]
  },
  {
   "cell_type": "code",
   "execution_count": 37,
   "metadata": {},
   "outputs": [
    {
     "name": "stdout",
     "output_type": "stream",
     "text": [
      "Index(['acc_id', 'playtime', 'npc_kill', 'solo_exp', 'party_exp', 'quest_exp',\n",
      "       'rich_monster', 'death', 'revive', 'exp_recovery', 'fishing',\n",
      "       'private_shop', 'game_money_change', 'enchant_count', 'level',\n",
      "       'pledge_cnt', 'random_attacker_cnt', 'random_defender_cnt', 'temp_cnt',\n",
      "       'same_pledge_cnt', 'etc_cnt', 'num_opponent', 'amount_spent_pay',\n",
      "       'sell_item_cnt', 'buy_item_cnt', 'play_char_cnt', 'combat_char_cnt',\n",
      "       'pledge_combat_cnt', 'random_attacker_cnt_plg',\n",
      "       'random_defender_cnt_plg', 'same_pledge_cnt_plg', 'temp_cnt_plg',\n",
      "       'etc_cnt_plg', 'combat_play_time', 'non_combat_play_time',\n",
      "       'survival_predict', 'survival_time'],\n",
      "      dtype='object')\n",
      "(23422, 37) (21996, 37)\n",
      "(16578, 37) (18004, 37)\n"
     ]
    }
   ],
   "source": [
    "data_cash = data_cash.merge(survival_time, on='acc_id', how='inner')\n",
    "print(data_cash.columns)\n",
    "data_cash.shape\n",
    "print(data_cash[data_cash['survival_predict']==1].shape, data_cash[data_cash['survival_time']==64].shape)\n",
    "print(data_cash[data_cash['survival_predict']==0].shape, data_cash[data_cash['survival_time']<64].shape)"
   ]
  },
  {
   "cell_type": "markdown",
   "metadata": {},
   "source": [
    "# 생존이 0(도중 이탈자)인 인원들로 다시 해보기"
   ]
  },
  {
   "cell_type": "code",
   "execution_count": 38,
   "metadata": {},
   "outputs": [
    {
     "name": "stderr",
     "output_type": "stream",
     "text": [
      "C:\\Users\\CPB06GameN\\Anaconda3\\lib\\site-packages\\pandas\\core\\frame.py:4097: SettingWithCopyWarning: \n",
      "A value is trying to be set on a copy of a slice from a DataFrame\n",
      "\n",
      "See the caveats in the documentation: http://pandas.pydata.org/pandas-docs/stable/user_guide/indexing.html#returning-a-view-versus-a-copy\n",
      "  errors=errors,\n"
     ]
    }
   ],
   "source": [
    "data_cash_yes = data_cash[data_cash[ 'survival_predict'] == 0 ]\n",
    "data_cash_yes.columns\n",
    "\n",
    "\n",
    "\n",
    "y_data = [[i] for i in data_cash_yes['survival_time'].tolist() ]\n",
    "y = y_data \n",
    "\n",
    "data_cash_yes.drop(['acc_id','survival_time','survival_predict'], axis=1, inplace=True)\n",
    "\n",
    "x_data = [ data_cash_yes.iloc[i,:].tolist() for i in range(len(data_cash_yes.index.values))]\n",
    "X = x_data\n",
    "\n",
    "from sklearn.model_selection import train_test_split\n",
    "\n",
    "x_train, X_test, y_train, y_test = train_test_split(X, y, test_size = 1/3, random_state = 70) \n",
    "\n",
    "\n",
    "# multi_variable_linear_regression.py\n",
    "# 4"
   ]
  },
  {
   "cell_type": "code",
   "execution_count": 39,
   "metadata": {},
   "outputs": [
    {
     "name": "stderr",
     "output_type": "stream",
     "text": [
      "C:\\Users\\CPB06GameN\\Anaconda3\\lib\\site-packages\\ipykernel_launcher.py:10: DataConversionWarning: A column-vector y was passed when a 1d array was expected. Please change the shape of y to (n_samples,), for example using ravel().\n",
      "  # Remove the CWD from sys.path while we load stuff.\n"
     ]
    },
    {
     "name": "stdout",
     "output_type": "stream",
     "text": [
      "[18. 29. 29. ...  1. 48. 11.]\n",
      "[[10.0], [11.0], [29.0], [6.0], [8.0], [1.0], [29.0], [9.0], [54.0], [58.0], [34.0], [64.0], [22.0], [20.0], [29.0], [38.0], [1.0], [17.0], [26.0], [46.0], [17.0], [21.0], [14.0], [3.0], [29.0], [8.0], [2.0], [36.0], [4.0], [23.0], [21.0], [29.0], [10.0], [1.0], [1.0], [8.0], [17.0], [27.0], [24.0], [48.0], [2.0], [8.0], [36.0], [1.0], [48.0], [7.0], [10.0], [28.0], [29.0], [4.0], [29.0], [36.0], [1.0], [22.0], [60.0], [8.0], [19.0], [8.0], [6.0], [14.0], [33.0], [29.0], [32.0], [11.0], [18.0], [1.0], [14.0], [29.0], [1.0], [4.0], [20.0], [10.0], [29.0], [1.0], [3.0], [13.0], [52.0], [2.0], [29.0], [2.0], [4.0], [26.0], [52.0], [1.0], [22.0], [64.0], [8.0], [26.0], [64.0], [11.0], [37.0], [10.0], [1.0], [8.0], [31.0], [2.0], [10.0], [8.0], [18.0], [7.0], [5.0], [13.0], [1.0], [25.0], [21.0], [46.0], [29.0], [14.0], [1.0], [29.0], [10.0], [20.0], [3.0], [8.0], [1.0], [15.0], [13.0], [10.0], [64.0], [20.0], [10.0], [60.0], [58.0], [22.0], [29.0], [4.0], [10.0], [8.0], [3.0], [29.0], [4.0], [2.0], [11.0], [12.0], [7.0], [6.0], [8.0], [64.0], [7.0], [29.0], [47.0], [29.0], [18.0], [64.0], [52.0], [46.0], [4.0], [1.0], [1.0], [22.0], [12.0], [26.0], [1.0], [8.0], [8.0], [28.0], [49.0], [25.0], [31.0], [39.0], [45.0], [62.0], [35.0], [29.0], [49.0], [24.0], [29.0], [24.0], [3.0], [1.0], [19.0], [4.0], [33.0], [27.0], [7.0], [14.0], [36.0], [9.0], [9.0], [16.0], [16.0], [41.0], [52.0], [4.0], [3.0], [35.0], [29.0], [14.0], [18.0], [64.0], [36.0], [8.0], [2.0], [46.0], [17.0], [17.0], [29.0], [29.0], [3.0], [17.0], [27.0], [35.0], [2.0], [45.0], [3.0], [15.0], [15.0], [5.0], [48.0], [29.0], [1.0], [3.0], [39.0], [2.0], [27.0], [64.0], [10.0], [6.0], [8.0], [32.0], [4.0], [1.0], [53.0], [10.0], [1.0], [20.0], [22.0], [53.0], [55.0], [58.0], [2.0], [8.0], [1.0], [64.0], [4.0], [11.0], [21.0], [58.0], [29.0], [37.0], [38.0], [29.0], [7.0], [11.0], [57.0], [1.0], [36.0], [64.0], [17.0], [60.0], [43.0], [64.0], [18.0], [7.0], [64.0], [58.0], [5.0], [22.0], [29.0], [11.0], [32.0], [23.0], [64.0], [8.0], [38.0], [54.0], [8.0], [1.0], [22.0], [22.0], [25.0], [13.0], [29.0], [2.0], [29.0], [1.0], [64.0], [8.0], [8.0], [22.0], [8.0], [10.0], [3.0], [8.0], [18.0], [3.0], [29.0], [11.0], [26.0], [64.0], [40.0], [16.0], [58.0], [64.0], [39.0], [64.0], [27.0], [11.0], [58.0], [7.0], [1.0], [26.0], [21.0], [20.0], [8.0], [29.0], [36.0], [29.0], [6.0], [29.0], [22.0], [4.0], [6.0], [22.0], [64.0], [1.0], [42.0], [62.0], [11.0], [61.0], [31.0], [1.0], [26.0], [41.0], [30.0], [27.0], [3.0], [8.0], [64.0], [29.0], [54.0], [32.0], [64.0], [29.0], [3.0], [34.0], [22.0], [8.0], [2.0], [8.0], [12.0], [25.0], [8.0], [25.0], [50.0], [16.0], [64.0], [1.0], [24.0], [37.0], [29.0], [37.0], [21.0], [4.0], [29.0], [27.0], [16.0], [43.0], [58.0], [46.0], [1.0], [33.0], [51.0], [29.0], [36.0], [16.0], [4.0], [21.0], [58.0], [53.0], [14.0], [10.0], [8.0], [1.0], [32.0], [30.0], [8.0], [37.0], [64.0], [8.0], [37.0], [28.0], [25.0], [15.0], [64.0], [4.0], [37.0], [4.0], [55.0], [4.0], [42.0], [1.0], [10.0], [21.0], [64.0], [8.0], [8.0], [4.0], [36.0], [2.0], [34.0], [64.0], [50.0], [27.0], [11.0], [37.0], [64.0], [4.0], [37.0], [36.0], [23.0], [2.0], [29.0], [17.0], [27.0], [36.0], [10.0], [29.0], [43.0], [18.0], [8.0], [3.0], [21.0], [16.0], [6.0], [4.0], [5.0], [16.0], [39.0], [1.0], [9.0], [4.0], [23.0], [19.0], [29.0], [22.0], [64.0], [29.0], [23.0], [17.0], [64.0], [34.0], [25.0], [23.0], [7.0], [44.0], [64.0], [33.0], [2.0], [24.0], [2.0], [16.0], [2.0], [46.0], [8.0], [26.0], [29.0], [3.0], [23.0], [23.0], [42.0], [22.0], [4.0], [26.0], [29.0], [22.0], [2.0], [39.0], [16.0], [46.0], [8.0], [16.0], [40.0], [30.0], [1.0], [2.0], [8.0], [26.0], [40.0], [17.0], [36.0], [19.0], [7.0], [30.0], [3.0], [22.0], [3.0], [2.0], [29.0], [40.0], [10.0], [62.0], [18.0], [29.0], [1.0], [29.0], [1.0], [20.0], [62.0], [45.0], [23.0], [42.0], [8.0], [23.0], [52.0], [5.0], [12.0], [22.0], [6.0], [4.0], [64.0], [28.0], [27.0], [25.0], [37.0], [26.0], [15.0], [57.0], [38.0], [64.0], [19.0], [5.0], [35.0], [64.0], [29.0], [14.0], [52.0], [1.0], [64.0], [29.0], [43.0], [28.0], [38.0], [2.0], [44.0], [64.0], [13.0], [7.0], [64.0], [64.0], [49.0], [29.0], [4.0], [1.0], [2.0], [28.0], [64.0], [7.0], [59.0], [20.0], [4.0], [15.0], [3.0], [12.0], [11.0], [3.0], [29.0], [46.0], [12.0], [44.0], [10.0], [7.0], [17.0], [14.0], [8.0], [2.0], [4.0], [47.0], [16.0], [29.0], [3.0], [29.0], [16.0], [1.0], [11.0], [44.0], [8.0], [64.0], [18.0], [40.0], [29.0], [20.0], [7.0], [29.0], [8.0], [36.0], [8.0], [8.0], [48.0], [29.0], [1.0], [3.0], [8.0], [64.0], [64.0], [1.0], [29.0], [52.0], [53.0], [4.0], [64.0], [29.0], [9.0], [17.0], [64.0], [35.0], [8.0], [52.0], [31.0], [20.0], [29.0], [29.0], [1.0], [16.0], [35.0], [40.0], [8.0], [14.0], [17.0], [45.0], [29.0], [30.0], [44.0], [2.0], [19.0], [8.0], [19.0], [64.0], [3.0], [28.0], [17.0], [63.0], [22.0], [1.0], [1.0], [8.0], [60.0], [11.0], [34.0], [8.0], [11.0], [8.0], [46.0], [31.0], [45.0], [55.0], [2.0], [26.0], [26.0], [8.0], [1.0], [10.0], [26.0], [3.0], [35.0], [17.0], [17.0], [8.0], [23.0], [5.0], [27.0], [28.0], [29.0], [29.0], [29.0], [63.0], [29.0], [46.0], [12.0], [3.0], [7.0], [8.0], [60.0], [3.0], [1.0], [64.0], [57.0], [16.0], [10.0], [3.0], [64.0], [64.0], [8.0], [29.0], [23.0], [54.0], [18.0], [1.0], [8.0], [18.0], [8.0], [2.0], [31.0], [64.0], [32.0], [8.0], [1.0], [29.0], [25.0], [58.0], [8.0], [38.0], [21.0], [24.0], [1.0], [19.0], [41.0], [3.0], [5.0], [3.0], [29.0], [59.0], [8.0], [48.0], [26.0], [3.0], [6.0], [40.0], [14.0], [29.0], [50.0], [48.0], [4.0], [14.0], [1.0], [13.0], [4.0], [21.0], [58.0], [14.0], [54.0], [8.0], [49.0], [35.0], [1.0], [40.0], [29.0], [49.0], [57.0], [37.0], [2.0], [16.0], [1.0], [9.0], [29.0], [25.0], [55.0], [5.0], [26.0], [36.0], [22.0], [9.0], [18.0], [40.0], [29.0], [64.0], [29.0], [10.0], [4.0], [15.0], [7.0], [10.0], [24.0], [4.0], [11.0], [50.0], [8.0], [19.0], [15.0], [16.0], [64.0], [31.0], [4.0], [40.0], [23.0], [1.0], [19.0], [19.0], [7.0], [29.0], [16.0], [15.0], [52.0], [23.0], [3.0], [43.0], [37.0], [8.0], [8.0], [62.0], [1.0], [14.0], [15.0], [28.0], [9.0], [29.0], [25.0], [29.0], [29.0], [47.0], [18.0], [41.0], [25.0], [43.0], [29.0], [18.0], [53.0], [3.0], [23.0], [64.0], [8.0], [15.0], [29.0], [14.0], [64.0], [8.0], [12.0], [61.0], [38.0], [18.0], [43.0], [4.0], [22.0], [22.0], [3.0], [13.0], [23.0], [42.0], [50.0], [36.0], [21.0], [1.0], [15.0], [7.0], [23.0], [29.0], [17.0], [64.0], [3.0], [23.0], [8.0], [37.0], [22.0], [8.0], [37.0], [4.0], [29.0], [1.0], [29.0], [15.0], [16.0], [34.0], [22.0], [29.0], [1.0], [33.0], [40.0], [12.0], [29.0], [29.0], [11.0], [40.0], [15.0], [29.0], [41.0], [23.0], [58.0], [52.0], [52.0], [18.0], [7.0], [62.0], [35.0], [18.0], [13.0], [21.0], [31.0], [50.0], [64.0], [7.0], [19.0], [11.0], [3.0], [29.0], [52.0], [1.0], [29.0], [64.0], [35.0], [8.0], [49.0], [21.0], [2.0], [29.0], [22.0], [57.0], [29.0], [4.0], [31.0], [3.0], [2.0], [40.0], [59.0], [17.0], [58.0], [44.0], [4.0], [27.0], [30.0], [42.0], [29.0], [15.0], [1.0], [16.0], [18.0], [8.0], [64.0], [54.0], [29.0], [64.0], [3.0], [24.0], [29.0], [64.0], [2.0], [12.0], [25.0], [18.0], [1.0], [3.0], [1.0], [4.0], [60.0], [29.0], [22.0], [17.0], [64.0], [16.0], [29.0], [41.0], [36.0], [14.0], [3.0], [64.0], [39.0], [2.0], [27.0], [30.0], [10.0], [51.0], [64.0], [57.0], [58.0], [33.0], [14.0], [55.0], [8.0], [29.0], [3.0], [63.0], [8.0], [38.0], [35.0], [15.0], [15.0], [57.0], [9.0], [29.0], [57.0], [29.0], [64.0], [64.0], [11.0], [29.0], [45.0], [7.0], [34.0], [37.0], [28.0], [8.0], [57.0], [64.0], [58.0], [29.0], [52.0], [50.0], [1.0], [31.0], [23.0], [16.0], [4.0], [44.0], [60.0], [29.0], [43.0], [10.0], [1.0], [29.0], [20.0], [26.0], [21.0], [1.0], [18.0], [19.0], [64.0], [4.0], [13.0], [58.0], [31.0], [49.0], [10.0], [64.0], [4.0], [23.0], [37.0], [33.0], [1.0], [12.0], [1.0], [20.0], [28.0], [32.0], [8.0], [8.0], [44.0], [10.0], [29.0], [27.0], [54.0], [36.0], [14.0], [16.0], [9.0], [2.0], [40.0], [13.0], [35.0], [29.0], [1.0], [39.0], [4.0], [34.0], [37.0], [49.0], [46.0], [50.0], [31.0], [11.0], [29.0], [64.0], [50.0], [22.0], [8.0], [21.0], [8.0], [11.0], [1.0], [21.0], [4.0], [7.0], [36.0], [8.0], [64.0], [44.0], [1.0], [8.0], [47.0], [19.0], [64.0], [37.0], [29.0], [1.0], [62.0], [22.0], [4.0], [40.0], [9.0], [40.0], [29.0], [46.0], [59.0], [29.0], [20.0], [64.0], [64.0], [26.0], [11.0], [23.0], [22.0], [10.0], [27.0], [13.0], [53.0], [4.0], [9.0], [32.0], [52.0], [1.0], [40.0], [15.0], [35.0], [1.0], [27.0], [8.0], [18.0], [29.0], [3.0], [49.0], [50.0], [29.0], [11.0], [19.0], [1.0], [3.0], [3.0], [26.0], [12.0], [31.0], [51.0], [29.0], [3.0], [17.0], [33.0], [10.0], [16.0], [6.0], [17.0], [8.0], [21.0], [15.0], [64.0], [26.0], [23.0], [22.0], [27.0], [8.0], [15.0], [8.0], [8.0], [62.0], [47.0], [22.0], [1.0], [44.0], [49.0], [7.0], [19.0], [28.0], [8.0], [10.0], [22.0], [23.0], [17.0], [18.0], [2.0], [22.0], [36.0], [29.0], [13.0], [44.0], [16.0], [4.0], [29.0], [29.0], [19.0], [25.0], [22.0], [1.0], [29.0], [12.0], [33.0], [4.0], [17.0], [64.0], [7.0], [10.0], [10.0], [29.0], [23.0], [32.0], [6.0], [4.0], [1.0], [29.0], [60.0], [1.0], [39.0], [2.0], [59.0], [16.0], [5.0], [29.0], [16.0], [3.0], [52.0], [64.0], [25.0], [37.0], [22.0], [5.0], [4.0], [47.0], [1.0], [1.0], [3.0], [28.0], [19.0], [5.0], [64.0], [23.0], [58.0], [64.0], [22.0], [27.0], [59.0], [10.0], [19.0], [64.0], [8.0], [3.0], [46.0], [54.0], [16.0], [4.0], [51.0], [13.0], [8.0], [8.0], [41.0], [13.0], [39.0], [11.0], [22.0], [29.0], [37.0], [18.0], [4.0], [4.0], [1.0], [10.0], [14.0], [37.0], [36.0], [29.0], [22.0], [14.0], [26.0], [1.0], [64.0], [3.0], [23.0], [15.0], [15.0], [37.0], [10.0], [6.0], [58.0], [29.0], [14.0], [21.0], [44.0], [8.0], [49.0], [8.0], [29.0], [3.0], [15.0], [15.0], [35.0], [38.0], [1.0], [29.0], [29.0], [29.0], [11.0], [64.0], [8.0], [22.0], [1.0], [29.0], [17.0], [15.0], [8.0], [17.0], [2.0], [38.0], [1.0], [24.0], [48.0], [27.0], [40.0], [19.0], [1.0], [13.0], [29.0], [23.0], [19.0], [3.0], [29.0], [5.0], [36.0], [1.0], [22.0], [14.0], [19.0], [22.0], [29.0], [48.0], [10.0], [2.0], [35.0], [29.0], [57.0], [8.0], [38.0], [50.0], [14.0], [11.0], [50.0], [1.0], [64.0], [48.0], [1.0], [16.0], [10.0], [27.0], [62.0], [11.0], [4.0], [17.0], [54.0], [42.0], [8.0], [24.0], [29.0], [51.0], [13.0], [62.0], [16.0], [64.0], [24.0], [10.0], [15.0], [5.0], [4.0], [16.0], [10.0], [8.0], [1.0], [10.0], [64.0], [45.0], [29.0], [5.0], [46.0], [39.0], [51.0], [26.0], [1.0], [16.0], [28.0], [29.0], [37.0], [34.0], [1.0], [1.0], [55.0], [43.0], [18.0], [64.0], [36.0], [14.0], [37.0], [29.0], [24.0], [4.0], [29.0], [57.0], [1.0], [64.0], [8.0], [1.0], [36.0], [64.0], [29.0], [29.0], [5.0], [22.0], [29.0], [21.0], [23.0], [7.0], [64.0], [59.0], [45.0], [46.0], [8.0], [26.0], [29.0], [34.0], [64.0], [46.0], [14.0], [8.0], [28.0], [27.0], [64.0], [32.0], [1.0], [29.0], [21.0], [64.0], [1.0], [4.0], [1.0], [61.0], [8.0], [64.0], [9.0], [57.0], [18.0], [38.0], [39.0], [8.0], [4.0], [4.0], [33.0], [64.0], [4.0], [64.0], [64.0], [26.0], [9.0], [64.0], [27.0], [8.0], [57.0], [11.0], [30.0], [17.0], [21.0], [54.0], [62.0], [37.0], [60.0], [64.0], [22.0], [8.0], [4.0], [18.0], [1.0], [17.0], [43.0], [24.0], [23.0], [4.0], [8.0], [15.0], [29.0], [28.0], [8.0], [64.0], [39.0], [64.0], [11.0], [35.0], [29.0], [1.0], [3.0], [64.0], [1.0], [3.0], [29.0], [53.0], [23.0], [1.0], [64.0], [10.0], [29.0], [6.0], [48.0], [13.0], [51.0], [64.0], [44.0], [9.0], [29.0], [8.0], [34.0], [24.0], [31.0], [29.0], [53.0], [3.0], [48.0], [19.0], [1.0], [43.0], [23.0], [29.0], [46.0], [12.0], [26.0], [41.0], [1.0], [39.0], [3.0], [29.0], [29.0], [3.0], [59.0], [27.0], [50.0], [15.0], [1.0], [32.0], [58.0], [10.0], [64.0], [27.0], [8.0], [33.0], [47.0], [3.0], [16.0], [3.0], [8.0], [2.0], [64.0], [2.0], [8.0], [38.0], [8.0], [26.0], [6.0], [44.0], [64.0], [36.0], [25.0], [24.0], [20.0], [8.0], [3.0], [61.0], [21.0], [64.0], [4.0], [36.0], [22.0], [27.0], [5.0], [64.0], [4.0], [29.0], [3.0], [24.0], [18.0], [29.0], [8.0], [64.0], [59.0], [48.0], [2.0], [64.0], [17.0], [4.0], [64.0], [16.0], [31.0], [50.0], [15.0], [32.0], [4.0], [10.0], [15.0], [5.0], [35.0], [55.0], [16.0], [4.0], [31.0], [26.0], [29.0], [37.0], [3.0], [30.0], [38.0], [29.0], [16.0], [39.0], [28.0], [55.0], [19.0], [4.0], [62.0], [3.0], [17.0], [55.0], [64.0], [43.0], [58.0], [64.0], [7.0], [3.0], [33.0], [35.0], [23.0], [1.0], [1.0], [29.0], [29.0], [12.0], [27.0], [36.0], [64.0], [3.0], [53.0], [64.0], [10.0], [64.0], [2.0], [29.0], [41.0], [25.0], [8.0], [14.0], [61.0], [36.0], [64.0], [52.0], [24.0], [5.0], [12.0], [12.0], [15.0], [9.0], [59.0], [59.0], [18.0], [23.0], [2.0], [1.0], [3.0], [64.0], [8.0], [39.0], [20.0], [44.0], [11.0], [58.0], [30.0], [19.0], [29.0], [64.0], [24.0], [8.0], [9.0], [13.0], [46.0], [50.0], [29.0], [3.0], [29.0], [49.0], [4.0], [8.0], [24.0], [35.0], [1.0], [18.0], [1.0], [13.0], [6.0], [3.0], [3.0], [1.0], [3.0], [13.0], [50.0], [59.0], [19.0], [39.0], [4.0], [4.0], [6.0], [29.0], [11.0], [9.0], [29.0], [8.0], [13.0], [16.0], [34.0], [21.0], [60.0], [8.0], [64.0], [64.0], [32.0], [8.0], [8.0], [1.0], [12.0], [4.0], [22.0], [22.0], [36.0], [6.0], [50.0], [28.0], [29.0], [24.0], [14.0], [8.0], [1.0], [35.0], [24.0], [53.0], [15.0], [3.0], [5.0], [29.0], [29.0], [20.0], [20.0], [19.0], [41.0], [17.0], [27.0], [54.0], [29.0], [8.0], [12.0], [34.0], [30.0], [36.0], [15.0], [8.0], [36.0], [29.0], [1.0], [36.0], [10.0], [8.0], [29.0], [22.0], [28.0], [23.0], [12.0], [23.0], [20.0], [1.0], [1.0], [29.0], [8.0], [8.0], [39.0], [11.0], [16.0], [8.0], [44.0], [25.0], [56.0], [1.0], [59.0], [6.0], [57.0], [7.0], [34.0], [51.0], [38.0], [17.0], [48.0], [64.0], [17.0], [18.0], [3.0], [32.0], [6.0], [50.0], [39.0], [19.0], [13.0], [15.0], [29.0], [50.0], [64.0], [8.0], [1.0], [21.0], [10.0], [3.0], [46.0], [20.0], [30.0], [64.0], [13.0], [1.0], [18.0], [24.0], [32.0], [62.0], [57.0], [3.0], [8.0], [57.0], [51.0], [30.0], [8.0], [46.0], [9.0], [54.0], [29.0], [36.0], [55.0], [4.0], [8.0], [1.0], [2.0], [17.0], [64.0], [58.0], [8.0], [19.0], [18.0], [18.0], [48.0], [2.0], [27.0], [50.0], [10.0], [23.0], [29.0], [29.0], [29.0], [22.0], [8.0], [59.0], [22.0], [12.0], [8.0], [64.0], [22.0], [9.0], [21.0], [64.0], [29.0], [35.0], [29.0], [27.0], [14.0], [1.0], [27.0], [29.0], [1.0], [20.0], [46.0], [19.0], [8.0], [39.0], [21.0], [37.0], [6.0], [2.0], [18.0], [10.0], [37.0], [20.0], [64.0], [1.0], [8.0], [64.0], [64.0], [1.0], [36.0], [12.0], [10.0], [14.0], [57.0], [3.0], [1.0], [36.0], [1.0], [27.0], [54.0], [1.0], [14.0], [22.0], [44.0], [58.0], [46.0], [27.0], [4.0], [6.0], [18.0], [37.0], [16.0], [26.0], [61.0], [4.0], [18.0], [29.0], [12.0], [16.0], [64.0], [58.0], [22.0], [30.0], [5.0], [44.0], [4.0], [26.0], [2.0], [3.0], [5.0], [2.0], [37.0], [31.0], [9.0], [32.0], [1.0], [8.0], [8.0], [64.0], [51.0], [39.0], [43.0], [64.0], [22.0], [27.0], [64.0], [64.0], [19.0], [64.0], [50.0], [12.0], [21.0], [18.0], [34.0], [1.0], [14.0], [28.0], [59.0], [63.0], [4.0], [29.0], [23.0], [4.0], [3.0], [24.0], [59.0], [37.0], [57.0], [29.0], [14.0], [21.0], [8.0], [29.0], [6.0], [4.0], [26.0], [3.0], [37.0], [20.0], [4.0], [4.0], [29.0], [19.0], [3.0], [9.0], [29.0], [2.0], [4.0], [58.0], [44.0], [15.0], [8.0], [12.0], [33.0], [9.0], [4.0], [26.0], [18.0], [38.0], [40.0], [7.0], [1.0], [27.0], [64.0], [21.0], [10.0], [15.0], [29.0], [3.0], [64.0], [12.0], [49.0], [64.0], [29.0], [36.0], [4.0], [16.0], [5.0], [8.0], [43.0], [53.0], [1.0], [14.0], [23.0], [56.0], [48.0], [8.0], [64.0], [1.0], [31.0], [50.0], [6.0], [23.0], [20.0], [3.0], [48.0], [5.0], [19.0], [3.0], [15.0], [29.0], [29.0], [14.0], [21.0], [25.0], [1.0], [29.0], [8.0], [54.0], [17.0], [4.0], [1.0], [8.0], [58.0], [4.0], [56.0], [1.0], [22.0], [37.0], [43.0], [1.0], [6.0], [32.0], [20.0], [8.0], [29.0], [31.0], [61.0], [64.0], [8.0], [30.0], [14.0], [30.0], [39.0], [13.0], [36.0], [64.0], [8.0], [29.0], [39.0], [40.0], [22.0], [40.0], [40.0], [4.0], [64.0], [58.0], [63.0], [64.0], [35.0], [29.0], [39.0], [2.0], [1.0], [28.0], [4.0], [11.0], [19.0], [24.0], [29.0], [18.0], [8.0], [23.0], [29.0], [1.0], [19.0], [29.0], [36.0], [8.0], [29.0], [6.0], [52.0], [27.0], [43.0], [8.0], [52.0], [3.0], [63.0], [21.0], [8.0], [3.0], [29.0], [6.0], [59.0], [4.0], [42.0], [20.0], [36.0], [4.0], [13.0], [36.0], [18.0], [12.0], [64.0], [4.0], [25.0], [3.0], [10.0], [40.0], [6.0], [64.0], [1.0], [29.0], [64.0], [40.0], [9.0], [37.0], [17.0], [29.0], [64.0], [61.0], [45.0], [11.0], [15.0], [63.0], [29.0], [14.0], [31.0], [4.0], [48.0], [8.0], [29.0], [64.0], [40.0], [8.0], [64.0], [29.0], [64.0], [35.0], [3.0], [34.0], [64.0], [23.0], [10.0], [64.0], [36.0], [12.0], [9.0], [63.0], [12.0], [64.0], [64.0], [1.0], [64.0], [10.0], [1.0], [8.0], [8.0], [8.0], [29.0], [62.0], [1.0], [50.0], [1.0], [8.0], [27.0], [3.0], [33.0], [29.0], [45.0], [4.0], [29.0], [52.0], [3.0], [3.0], [1.0], [64.0], [64.0], [12.0], [1.0], [36.0], [1.0], [20.0], [1.0], [42.0], [22.0], [43.0], [29.0], [29.0], [21.0], [57.0], [64.0], [21.0], [25.0], [64.0], [29.0], [63.0], [16.0], [2.0], [64.0], [6.0], [23.0], [1.0], [2.0], [10.0], [23.0], [8.0], [8.0], [27.0], [64.0], [29.0], [8.0], [4.0], [23.0], [1.0], [9.0], [16.0], [46.0], [22.0], [24.0], [45.0], [27.0], [22.0], [63.0], [1.0], [1.0], [1.0], [38.0], [40.0], [16.0], [4.0], [6.0], [38.0], [1.0], [64.0], [59.0], [4.0], [10.0], [31.0], [4.0], [64.0], [29.0], [10.0], [26.0], [42.0], [6.0], [1.0], [29.0], [3.0], [4.0], [57.0], [64.0], [8.0], [19.0], [44.0], [49.0], [10.0], [29.0], [11.0], [51.0], [4.0], [1.0], [29.0], [8.0], [11.0], [58.0], [64.0], [20.0], [60.0], [15.0], [11.0], [8.0], [19.0], [4.0], [17.0], [3.0], [11.0], [17.0], [11.0], [8.0], [3.0], [21.0], [22.0], [27.0], [49.0], [29.0], [8.0], [8.0], [60.0], [48.0], [7.0], [18.0], [64.0], [62.0], [39.0], [36.0], [64.0], [28.0], [11.0], [8.0], [3.0], [39.0], [4.0], [64.0], [60.0], [8.0], [24.0], [28.0], [29.0], [22.0], [64.0], [26.0], [14.0], [29.0], [30.0], [7.0], [23.0], [8.0], [29.0], [8.0], [22.0], [39.0], [16.0], [10.0], [29.0], [39.0], [34.0], [37.0], [17.0], [64.0], [22.0], [22.0], [8.0], [3.0], [8.0], [21.0], [36.0], [8.0], [1.0], [22.0], [8.0], [11.0], [64.0], [19.0], [58.0], [23.0], [2.0], [3.0], [2.0], [6.0], [9.0], [18.0], [2.0], [11.0], [24.0], [25.0], [10.0], [47.0], [3.0], [4.0], [27.0], [2.0], [9.0], [43.0], [1.0], [51.0], [1.0], [23.0], [37.0], [50.0], [41.0], [36.0], [10.0], [4.0], [6.0], [25.0], [46.0], [64.0], [16.0], [13.0], [53.0], [46.0], [36.0], [19.0], [14.0], [11.0], [48.0], [53.0], [60.0], [6.0], [36.0], [31.0], [29.0], [44.0], [1.0], [33.0], [23.0], [45.0], [29.0], [19.0], [29.0], [50.0], [64.0], [39.0], [4.0], [11.0], [19.0], [36.0], [3.0], [19.0], [17.0], [10.0], [63.0], [64.0], [36.0], [51.0], [24.0], [42.0], [18.0], [8.0], [46.0], [4.0], [60.0], [4.0], [4.0], [3.0], [31.0], [3.0], [2.0], [31.0], [64.0], [10.0], [8.0], [29.0], [13.0], [64.0], [9.0], [32.0], [3.0], [30.0], [54.0], [8.0], [8.0], [21.0], [1.0], [33.0], [8.0], [10.0], [41.0], [7.0], [64.0], [48.0], [12.0], [40.0], [29.0], [1.0], [12.0], [28.0], [1.0], [1.0], [30.0], [10.0], [1.0], [13.0], [6.0], [16.0], [3.0], [33.0], [44.0], [4.0], [64.0], [39.0], [1.0], [29.0], [5.0], [31.0], [49.0], [31.0], [37.0], [43.0], [41.0], [31.0], [55.0], [63.0], [20.0], [1.0], [46.0], [42.0], [8.0], [22.0], [4.0], [28.0], [2.0], [8.0], [8.0], [8.0], [3.0], [64.0], [30.0], [8.0], [1.0], [23.0], [35.0], [28.0], [21.0], [4.0], [64.0], [19.0], [5.0], [12.0], [61.0], [12.0], [10.0], [9.0], [60.0], [4.0], [2.0], [64.0], [1.0], [21.0], [8.0], [12.0], [60.0], [64.0], [22.0], [61.0], [35.0], [8.0], [37.0], [61.0], [16.0], [17.0], [3.0], [1.0], [27.0], [24.0], [8.0], [5.0], [34.0], [8.0], [64.0], [1.0], [10.0], [37.0], [1.0], [44.0], [51.0], [20.0], [30.0], [41.0], [2.0], [1.0], [5.0], [27.0], [39.0], [10.0], [8.0], [23.0], [11.0], [64.0], [3.0], [16.0], [7.0], [29.0], [2.0], [28.0], [64.0], [64.0], [64.0], [1.0], [1.0], [17.0], [8.0], [64.0], [32.0], [8.0], [20.0], [24.0], [9.0], [29.0], [44.0], [8.0], [54.0], [64.0], [22.0], [42.0], [1.0], [9.0], [3.0], [31.0], [43.0], [64.0], [37.0], [64.0], [27.0], [1.0], [21.0], [31.0], [13.0], [3.0], [53.0], [7.0], [29.0], [45.0], [1.0], [7.0], [16.0], [36.0], [29.0], [11.0], [4.0], [10.0], [16.0], [5.0], [36.0], [57.0], [29.0], [34.0], [62.0], [58.0], [17.0], [19.0], [4.0], [62.0], [24.0], [24.0], [5.0], [37.0], [24.0], [7.0], [29.0], [22.0], [39.0], [51.0], [23.0], [42.0], [6.0], [29.0], [4.0], [22.0], [46.0], [15.0], [18.0], [35.0], [58.0], [2.0], [34.0], [16.0], [29.0], [16.0], [64.0], [58.0], [15.0], [15.0], [3.0], [3.0], [59.0], [64.0], [3.0], [3.0], [64.0], [12.0], [48.0], [8.0], [29.0], [15.0], [57.0], [23.0], [13.0], [33.0], [47.0], [16.0], [1.0], [29.0], [4.0], [8.0], [8.0], [12.0], [7.0], [8.0], [52.0], [20.0], [25.0], [8.0], [8.0], [21.0], [1.0], [8.0], [20.0], [47.0], [29.0], [37.0], [29.0], [29.0], [29.0], [35.0], [27.0], [24.0], [8.0], [12.0], [10.0], [64.0], [33.0], [64.0], [59.0], [28.0], [8.0], [22.0], [4.0], [64.0], [64.0], [29.0], [12.0], [19.0], [35.0], [22.0], [16.0], [29.0], [1.0], [2.0], [8.0], [1.0], [20.0], [8.0], [8.0], [3.0], [55.0], [64.0], [4.0], [1.0], [64.0], [46.0], [29.0], [16.0], [23.0], [26.0], [14.0], [36.0], [1.0], [10.0], [5.0], [51.0], [40.0], [62.0], [21.0], [18.0], [29.0], [33.0], [43.0], [2.0], [25.0], [59.0], [11.0], [64.0], [10.0], [62.0], [2.0], [3.0], [1.0], [4.0], [1.0], [64.0], [1.0], [13.0], [54.0], [29.0], [64.0], [10.0], [23.0], [28.0], [15.0], [23.0], [29.0], [29.0], [29.0], [29.0], [48.0], [34.0], [2.0], [64.0], [15.0], [64.0], [64.0], [6.0], [2.0], [29.0], [14.0], [58.0], [14.0], [29.0], [21.0], [37.0], [64.0], [23.0], [4.0], [1.0], [50.0], [15.0], [29.0], [2.0], [8.0], [17.0], [29.0], [44.0], [7.0], [64.0], [29.0], [25.0], [52.0], [16.0], [1.0], [20.0], [50.0], [10.0], [4.0], [59.0], [18.0], [6.0], [18.0], [64.0], [29.0], [23.0], [2.0], [1.0], [64.0], [29.0], [35.0], [43.0], [60.0], [29.0], [1.0], [29.0], [11.0], [44.0], [10.0], [40.0], [64.0], [60.0], [64.0], [1.0], [64.0], [23.0], [64.0], [64.0], [36.0], [29.0], [45.0], [4.0], [25.0], [20.0], [22.0], [39.0], [25.0], [4.0], [31.0], [1.0], [48.0], [37.0], [9.0], [2.0], [8.0], [8.0], [16.0], [51.0], [9.0], [61.0], [64.0], [8.0], [28.0], [6.0], [64.0], [2.0], [64.0], [15.0], [60.0], [1.0], [37.0], [56.0], [3.0], [1.0], [58.0], [3.0], [44.0], [2.0], [32.0], [50.0], [64.0], [51.0], [64.0], [14.0], [8.0], [15.0], [36.0], [61.0], [29.0], [64.0], [29.0], [1.0], [63.0], [64.0], [34.0], [1.0], [21.0], [8.0], [36.0], [23.0], [32.0], [62.0], [36.0], [1.0], [29.0], [29.0], [3.0], [4.0], [57.0], [41.0], [8.0], [1.0], [18.0], [21.0], [17.0], [25.0], [16.0], [22.0], [3.0], [10.0], [10.0], [44.0], [15.0], [64.0], [57.0], [64.0], [61.0], [22.0], [24.0], [16.0], [2.0], [8.0], [30.0], [29.0], [1.0], [44.0], [12.0], [13.0], [62.0], [8.0], [2.0], [8.0], [35.0], [46.0], [11.0], [27.0], [39.0], [22.0], [23.0], [4.0], [13.0], [29.0], [30.0], [32.0], [8.0], [8.0], [53.0], [3.0], [17.0], [5.0], [57.0], [2.0], [39.0], [10.0], [36.0], [63.0], [64.0], [23.0], [3.0], [36.0], [21.0], [2.0], [64.0], [36.0], [10.0], [39.0], [36.0], [19.0], [3.0], [59.0], [59.0], [10.0], [29.0], [7.0], [22.0], [56.0], [4.0], [17.0], [31.0], [29.0], [24.0], [29.0], [8.0], [59.0], [11.0], [26.0], [64.0], [10.0], [51.0], [18.0], [22.0], [4.0], [16.0], [11.0], [14.0], [24.0], [60.0], [35.0], [1.0], [40.0], [7.0], [36.0], [41.0], [35.0], [22.0], [35.0], [9.0], [28.0], [13.0], [12.0], [22.0], [40.0], [40.0], [64.0], [22.0], [51.0], [1.0], [35.0], [22.0], [1.0], [38.0], [46.0], [32.0], [23.0], [52.0], [64.0], [2.0], [7.0], [5.0], [63.0], [64.0], [4.0], [4.0], [9.0], [40.0], [33.0], [3.0], [29.0], [64.0], [9.0], [12.0], [19.0], [64.0], [40.0], [3.0], [64.0], [29.0], [8.0], [9.0], [42.0], [2.0], [58.0], [36.0], [17.0], [33.0], [17.0], [25.0], [44.0], [29.0], [27.0], [14.0], [14.0], [9.0], [26.0], [49.0], [23.0], [29.0], [27.0], [64.0], [43.0], [21.0], [8.0], [29.0], [24.0], [57.0], [8.0], [7.0], [41.0], [18.0], [64.0], [1.0], [42.0], [26.0], [8.0], [1.0], [57.0], [48.0], [7.0], [8.0], [4.0], [21.0], [14.0], [64.0], [18.0], [1.0], [57.0], [57.0], [56.0], [29.0], [8.0], [63.0], [39.0], [10.0], [17.0], [21.0], [11.0], [22.0], [26.0], [8.0], [12.0], [2.0], [23.0], [16.0], [1.0], [22.0], [25.0], [8.0], [64.0], [28.0], [55.0], [64.0], [4.0], [23.0], [13.0], [22.0], [27.0], [10.0], [1.0], [3.0], [1.0], [64.0], [64.0], [28.0], [1.0], [19.0], [17.0], [33.0], [62.0], [7.0], [21.0], [19.0], [5.0], [3.0], [3.0], [25.0], [28.0], [23.0], [57.0], [45.0], [8.0], [7.0], [8.0], [29.0], [10.0], [16.0], [50.0], [43.0], [8.0], [17.0], [36.0], [4.0], [22.0], [50.0], [3.0], [51.0], [10.0], [60.0], [56.0], [8.0], [31.0], [23.0], [2.0], [1.0], [58.0], [61.0], [1.0], [4.0], [7.0], [39.0], [60.0], [64.0], [29.0], [29.0], [2.0], [1.0], [37.0], [26.0], [8.0], [3.0], [7.0], [1.0], [10.0], [40.0], [19.0], [10.0], [8.0], [13.0], [29.0], [19.0], [18.0], [62.0], [64.0], [8.0], [11.0], [21.0], [23.0], [60.0], [8.0], [29.0], [36.0], [2.0], [17.0], [28.0], [1.0], [2.0], [62.0], [64.0], [18.0], [24.0], [22.0], [64.0], [38.0], [59.0], [15.0], [8.0], [4.0], [46.0], [24.0], [3.0], [39.0], [4.0], [24.0], [15.0], [17.0], [22.0], [35.0], [46.0], [64.0], [22.0], [57.0], [13.0], [4.0], [35.0], [12.0], [18.0], [57.0], [5.0], [29.0], [59.0], [15.0], [29.0], [16.0], [8.0], [3.0], [11.0], [64.0], [18.0], [7.0], [4.0], [10.0], [22.0], [28.0], [4.0], [1.0], [58.0], [19.0], [11.0], [36.0], [22.0], [18.0], [34.0], [16.0], [17.0], [23.0], [11.0], [39.0], [28.0], [22.0], [1.0], [18.0], [22.0], [64.0], [23.0], [12.0], [63.0], [19.0], [23.0], [22.0], [3.0], [64.0], [23.0], [32.0], [50.0], [64.0], [17.0], [8.0], [32.0], [16.0], [2.0], [44.0], [10.0], [1.0], [58.0], [37.0], [19.0], [55.0], [13.0], [37.0], [7.0], [64.0], [19.0], [16.0], [29.0], [64.0], [12.0], [34.0], [7.0], [8.0], [9.0], [4.0], [8.0], [54.0], [4.0], [15.0], [17.0], [61.0], [18.0], [39.0], [18.0], [16.0], [8.0], [2.0], [18.0], [22.0], [37.0], [25.0], [1.0], [22.0], [23.0], [22.0], [36.0], [17.0], [1.0], [11.0], [10.0], [28.0], [60.0], [1.0], [55.0], [43.0], [31.0], [38.0], [37.0], [15.0], [39.0], [1.0], [20.0], [10.0], [23.0], [12.0], [12.0], [28.0], [8.0], [57.0], [64.0], [5.0], [33.0], [11.0], [52.0], [30.0], [29.0], [35.0], [1.0], [12.0], [8.0], [17.0], [64.0], [22.0], [13.0], [61.0], [29.0], [19.0], [60.0], [44.0], [1.0], [36.0], [38.0], [3.0], [1.0], [40.0], [31.0], [15.0], [1.0], [4.0], [7.0], [64.0], [10.0], [1.0], [38.0], [3.0], [36.0], [25.0], [56.0], [64.0], [47.0], [17.0], [29.0], [58.0], [29.0], [32.0], [8.0], [1.0], [29.0], [54.0], [29.0], [3.0], [30.0], [8.0], [64.0], [23.0], [42.0], [4.0], [29.0], [39.0], [46.0], [5.0], [59.0], [35.0], [12.0], [50.0], [57.0], [1.0], [8.0], [3.0], [39.0], [31.0], [61.0], [20.0], [37.0], [17.0], [20.0], [54.0], [52.0], [37.0], [50.0], [51.0], [9.0], [4.0], [10.0], [54.0], [8.0], [33.0], [8.0], [8.0], [29.0], [64.0], [64.0], [14.0], [60.0], [3.0], [37.0], [35.0], [9.0], [4.0], [3.0], [12.0], [36.0], [28.0], [64.0], [18.0], [1.0], [30.0], [3.0], [28.0], [64.0], [33.0], [1.0], [29.0], [57.0], [4.0], [8.0], [23.0], [1.0], [44.0], [64.0], [25.0], [46.0], [10.0], [20.0], [18.0], [3.0], [4.0], [8.0], [4.0], [58.0], [45.0], [44.0], [8.0], [64.0], [8.0], [4.0], [34.0], [64.0], [44.0], [1.0], [10.0], [57.0], [43.0], [2.0], [8.0], [64.0], [30.0], [64.0], [4.0], [1.0], [36.0], [15.0], [60.0], [29.0], [37.0], [29.0], [62.0], [21.0], [38.0], [64.0], [64.0], [37.0], [29.0], [29.0], [20.0], [29.0], [29.0], [4.0], [22.0], [57.0], [36.0], [12.0], [4.0], [21.0], [19.0], [57.0], [3.0], [8.0], [9.0], [1.0], [8.0], [21.0], [21.0], [16.0], [64.0], [36.0], [3.0], [1.0], [8.0], [64.0], [6.0], [29.0], [63.0], [17.0], [64.0], [17.0], [8.0], [1.0], [29.0], [60.0], [64.0], [1.0], [7.0], [64.0], [29.0], [43.0], [3.0], [11.0], [44.0], [43.0], [64.0], [5.0], [29.0], [64.0], [60.0], [8.0], [5.0], [24.0], [4.0], [54.0], [20.0], [2.0], [19.0], [1.0], [62.0], [12.0], [50.0], [2.0], [14.0], [28.0], [3.0], [6.0], [29.0], [64.0], [29.0], [29.0], [50.0], [4.0], [38.0], [7.0], [23.0], [19.0], [29.0], [29.0], [64.0], [13.0], [11.0], [8.0], [1.0], [8.0], [39.0], [37.0], [8.0], [40.0], [29.0], [6.0], [5.0], [16.0], [52.0], [3.0], [14.0], [64.0], [1.0], [55.0], [2.0], [19.0], [9.0], [10.0], [26.0], [43.0], [8.0], [1.0], [18.0], [52.0], [29.0], [8.0], [49.0], [26.0], [64.0], [6.0], [7.0], [9.0], [29.0], [42.0], [64.0], [50.0], [17.0], [3.0], [34.0], [59.0], [15.0], [8.0], [36.0], [34.0], [60.0], [56.0], [56.0], [8.0], [1.0], [29.0], [30.0], [14.0], [51.0], [37.0], [11.0], [19.0], [15.0], [31.0], [9.0], [3.0], [8.0], [15.0], [2.0], [8.0], [7.0], [26.0], [35.0], [46.0], [11.0], [2.0], [64.0], [2.0], [29.0], [1.0], [32.0], [22.0], [29.0], [47.0], [3.0], [29.0], [52.0], [29.0], [55.0], [36.0], [3.0], [5.0], [2.0], [1.0], [35.0], [56.0], [3.0], [46.0], [19.0], [9.0], [64.0], [36.0], [56.0], [23.0], [29.0], [49.0], [34.0], [8.0], [27.0], [22.0], [17.0], [3.0], [8.0], [13.0], [12.0], [2.0], [43.0], [60.0], [15.0], [28.0], [29.0], [45.0], [18.0], [41.0], [22.0], [57.0], [1.0], [29.0], [1.0], [23.0], [2.0], [28.0], [57.0], [35.0], [55.0], [55.0], [53.0], [64.0], [9.0], [15.0], [13.0], [29.0], [14.0], [4.0], [3.0], [23.0], [22.0], [51.0], [36.0], [12.0], [1.0], [53.0], [11.0], [8.0], [29.0], [21.0], [29.0], [64.0], [35.0], [3.0], [31.0], [41.0], [22.0], [36.0], [64.0], [59.0], [21.0], [39.0], [29.0], [17.0], [8.0], [28.0], [29.0], [64.0], [23.0], [64.0], [56.0], [49.0], [39.0], [8.0], [21.0], [7.0], [34.0], [25.0], [3.0], [64.0], [64.0], [20.0], [24.0], [40.0], [25.0], [17.0], [61.0], [57.0], [43.0], [1.0], [36.0], [64.0], [29.0], [20.0], [64.0], [36.0], [35.0], [17.0], [27.0], [3.0], [8.0], [2.0], [9.0], [18.0], [50.0], [3.0], [11.0], [16.0], [22.0], [53.0], [18.0], [22.0], [13.0], [24.0], [43.0], [28.0], [29.0], [40.0], [31.0], [34.0], [36.0], [4.0], [50.0], [8.0], [57.0], [12.0], [60.0], [53.0], [55.0], [36.0], [28.0], [64.0], [15.0], [1.0], [64.0], [53.0], [29.0], [9.0], [15.0], [28.0], [64.0], [29.0], [64.0], [50.0], [11.0], [17.0], [9.0], [21.0], [22.0], [36.0], [4.0], [22.0], [58.0], [2.0], [5.0], [8.0], [15.0], [36.0], [39.0], [29.0], [49.0], [2.0], [29.0], [23.0], [43.0], [29.0], [20.0], [64.0], [3.0], [1.0], [8.0], [6.0], [55.0], [42.0], [58.0], [12.0], [8.0], [34.0], [62.0], [4.0], [59.0], [17.0], [17.0], [8.0], [42.0], [41.0], [50.0], [8.0], [29.0], [36.0], [40.0], [29.0], [27.0], [19.0], [64.0], [11.0], [35.0], [50.0], [7.0], [3.0], [8.0], [58.0], [6.0], [20.0], [2.0], [38.0], [56.0], [29.0], [40.0], [8.0], [23.0], [55.0], [8.0], [64.0], [29.0], [64.0], [1.0], [19.0], [36.0], [1.0], [51.0], [30.0], [55.0], [3.0], [54.0], [44.0], [22.0], [15.0], [64.0], [36.0], [16.0], [4.0], [19.0], [31.0], [50.0], [3.0], [25.0], [41.0], [4.0], [20.0], [24.0], [33.0], [11.0], [10.0], [29.0], [10.0], [23.0], [37.0], [36.0], [44.0], [21.0], [38.0], [1.0], [14.0], [37.0], [10.0], [8.0], [64.0], [2.0], [1.0], [3.0], [19.0], [60.0], [51.0], [1.0], [29.0], [8.0], [29.0], [4.0], [1.0], [29.0], [5.0], [14.0], [49.0], [64.0], [3.0], [50.0], [50.0], [2.0], [50.0], [17.0], [15.0], [29.0], [9.0], [15.0], [29.0], [32.0], [8.0], [8.0], [64.0], [33.0], [31.0], [17.0], [60.0], [21.0], [10.0], [9.0], [9.0], [22.0], [36.0], [4.0], [39.0], [27.0], [2.0], [39.0], [24.0], [64.0], [19.0], [16.0], [9.0], [32.0], [48.0], [11.0], [23.0], [23.0], [2.0], [29.0], [40.0], [41.0], [18.0], [46.0], [30.0], [29.0], [56.0], [29.0], [5.0], [1.0], [36.0], [3.0], [39.0], [19.0], [14.0], [1.0], [43.0], [15.0], [9.0], [36.0], [54.0], [23.0], [1.0], [40.0], [8.0], [30.0], [4.0], [29.0], [34.0], [35.0], [7.0], [7.0], [1.0], [22.0], [36.0], [45.0], [31.0], [64.0], [29.0], [8.0], [8.0], [1.0], [64.0], [17.0], [4.0], [22.0], [29.0], [24.0], [1.0], [7.0], [18.0], [33.0], [60.0], [64.0], [22.0], [33.0], [8.0], [5.0], [30.0], [55.0], [29.0], [8.0], [16.0], [16.0], [50.0], [25.0], [8.0], [15.0], [21.0], [25.0], [11.0], [2.0], [8.0], [43.0], [2.0], [7.0], [47.0], [29.0], [24.0], [29.0], [60.0], [1.0], [29.0], [29.0], [18.0], [7.0], [32.0], [5.0], [39.0], [3.0], [26.0], [47.0], [18.0], [8.0], [8.0], [9.0], [29.0], [4.0], [3.0], [26.0], [51.0], [56.0], [50.0], [32.0], [18.0], [1.0], [23.0], [11.0], [11.0], [10.0], [1.0], [12.0], [29.0], [29.0], [22.0], [22.0], [8.0], [31.0], [2.0], [29.0], [34.0], [31.0], [6.0], [22.0], [34.0], [4.0], [61.0], [43.0], [64.0], [4.0], [62.0], [31.0], [25.0], [57.0], [23.0], [35.0], [7.0], [4.0], [4.0], [49.0], [9.0], [1.0], [4.0], [59.0], [33.0], [31.0], [36.0], [8.0], [43.0], [44.0], [64.0], [60.0], [36.0], [11.0], [2.0], [35.0], [29.0], [63.0], [20.0], [29.0], [1.0], [31.0], [6.0], [10.0], [39.0], [64.0], [64.0], [21.0], [31.0], [36.0], [9.0], [62.0], [20.0], [8.0], [8.0], [43.0], [61.0], [36.0], [18.0], [8.0], [17.0], [2.0], [43.0], [48.0], [35.0], [3.0], [1.0], [10.0], [36.0], [21.0], [36.0], [14.0], [15.0], [8.0], [8.0], [34.0], [23.0], [21.0], [8.0], [27.0], [17.0], [2.0], [7.0], [28.0], [1.0], [3.0], [4.0], [8.0], [2.0], [21.0], [10.0], [7.0], [56.0], [26.0], [1.0], [1.0], [12.0], [4.0], [29.0], [8.0], [14.0], [54.0], [36.0], [6.0], [64.0], [17.0], [1.0], [36.0], [20.0], [64.0], [3.0], [9.0], [64.0], [60.0], [29.0], [27.0], [19.0], [36.0], [29.0], [34.0], [1.0], [20.0], [1.0], [44.0], [9.0], [25.0], [22.0], [5.0], [12.0], [4.0], [7.0], [8.0], [49.0], [8.0], [23.0], [22.0], [37.0], [27.0], [18.0], [3.0], [33.0], [25.0], [31.0], [19.0], [24.0], [64.0], [55.0], [29.0], [31.0], [4.0], [2.0], [29.0], [50.0], [26.0], [50.0], [5.0], [23.0], [23.0], [64.0], [64.0], [11.0], [64.0], [8.0], [28.0], [29.0], [24.0], [7.0], [64.0], [1.0], [64.0], [22.0], [56.0], [2.0], [64.0], [64.0], [1.0], [27.0], [21.0], [28.0], [17.0], [57.0], [28.0], [8.0], [29.0], [1.0], [4.0], [29.0], [1.0], [28.0], [50.0], [8.0], [29.0], [32.0], [54.0], [18.0], [38.0], [13.0], [29.0], [8.0], [8.0], [15.0], [30.0], [4.0], [29.0], [64.0], [1.0], [15.0], [31.0], [3.0], [21.0], [8.0], [23.0], [22.0], [47.0], [8.0], [15.0], [56.0], [34.0], [8.0], [3.0], [33.0], [51.0], [62.0], [17.0], [25.0], [11.0], [29.0], [50.0], [32.0], [64.0], [31.0], [18.0], [48.0], [3.0], [15.0], [59.0], [24.0], [36.0], [16.0], [57.0], [17.0], [29.0], [10.0], [20.0], [6.0], [1.0], [1.0], [55.0], [8.0], [11.0], [13.0], [31.0], [41.0], [29.0], [10.0], [47.0], [8.0], [16.0], [20.0], [48.0], [40.0], [64.0], [41.0], [8.0], [3.0], [2.0], [19.0], [24.0], [34.0], [29.0], [2.0], [37.0], [23.0], [19.0], [20.0], [8.0], [22.0], [62.0], [8.0], [36.0], [62.0], [57.0], [8.0], [64.0], [29.0], [29.0], [1.0], [64.0], [8.0], [29.0], [2.0], [29.0], [9.0], [50.0], [57.0], [3.0], [16.0], [10.0], [23.0], [8.0], [22.0], [64.0], [29.0], [3.0], [29.0], [64.0], [56.0], [4.0], [14.0], [9.0], [8.0], [2.0], [8.0], [22.0], [3.0], [8.0], [26.0], [39.0], [25.0], [5.0], [22.0], [1.0], [64.0], [17.0], [26.0], [8.0], [16.0], [51.0], [29.0], [40.0], [2.0], [10.0], [16.0], [64.0], [17.0], [33.0], [1.0], [25.0], [8.0], [8.0], [8.0], [29.0], [44.0], [1.0], [18.0], [8.0], [9.0], [10.0], [3.0], [58.0], [1.0], [9.0], [36.0], [58.0], [1.0], [17.0], [25.0], [4.0], [26.0], [21.0], [42.0], [24.0], [2.0], [36.0], [20.0], [1.0], [26.0], [1.0], [40.0], [5.0], [29.0], [64.0], [64.0], [39.0], [27.0], [1.0], [17.0], [4.0], [4.0], [48.0], [50.0], [15.0], [12.0], [9.0], [29.0], [64.0], [27.0], [8.0], [58.0], [36.0], [64.0], [43.0], [18.0], [1.0], [17.0], [1.0], [22.0], [11.0], [12.0], [10.0], [37.0], [19.0], [30.0], [29.0], [28.0], [5.0], [8.0], [39.0], [1.0], [32.0], [8.0], [62.0], [40.0], [34.0], [19.0], [4.0], [22.0], [26.0], [3.0], [24.0], [10.0], [24.0], [21.0], [8.0], [64.0], [18.0], [9.0], [62.0], [8.0], [4.0], [51.0], [34.0], [14.0], [3.0], [20.0], [3.0], [16.0], [38.0], [8.0], [21.0], [8.0], [4.0], [10.0], [64.0], [3.0], [29.0], [31.0], [2.0], [61.0], [31.0], [9.0], [4.0], [8.0], [4.0], [28.0], [53.0], [11.0], [64.0], [62.0], [57.0], [29.0], [30.0], [3.0], [10.0], [7.0], [20.0], [29.0], [36.0], [21.0], [18.0], [9.0], [6.0], [24.0], [22.0], [9.0], [19.0], [61.0], [8.0], [14.0], [14.0], [14.0], [1.0], [64.0], [30.0], [8.0], [16.0], [40.0], [64.0], [64.0], [26.0], [31.0], [28.0], [55.0], [3.0], [18.0], [1.0], [3.0], [36.0], [54.0], [34.0], [29.0], [11.0], [8.0], [64.0], [21.0], [3.0], [8.0], [6.0], [14.0], [15.0], [2.0], [53.0], [39.0], [8.0], [29.0], [23.0], [2.0], [20.0], [31.0], [29.0], [35.0], [3.0], [31.0], [17.0], [52.0], [37.0], [46.0], [4.0], [4.0], [64.0], [4.0], [39.0], [10.0], [36.0], [58.0], [43.0], [38.0], [47.0], [64.0], [1.0], [47.0], [41.0], [43.0], [12.0], [19.0], [9.0], [19.0], [13.0], [40.0], [53.0], [36.0], [28.0], [8.0], [6.0], [4.0], [32.0], [23.0], [10.0], [27.0], [30.0], [29.0], [29.0], [4.0], [23.0], [22.0], [21.0], [64.0], [35.0], [15.0], [1.0], [8.0], [58.0], [29.0], [29.0], [39.0], [29.0], [8.0], [64.0], [1.0], [1.0], [2.0], [20.0], [29.0], [8.0], [6.0], [22.0], [28.0], [36.0], [1.0], [64.0], [50.0], [31.0], [4.0], [30.0], [1.0], [13.0], [24.0], [27.0], [15.0], [64.0], [4.0], [29.0], [63.0], [17.0], [60.0], [8.0], [36.0], [37.0], [2.0], [29.0], [22.0], [64.0], [26.0], [58.0], [58.0], [4.0], [29.0], [2.0], [19.0], [16.0], [4.0], [9.0], [31.0], [5.0], [7.0], [3.0], [16.0], [1.0], [4.0], [3.0], [11.0], [36.0], [1.0], [59.0], [2.0], [25.0], [2.0], [1.0], [26.0], [40.0], [15.0], [8.0], [14.0], [29.0], [15.0], [41.0], [7.0], [2.0], [21.0], [30.0], [24.0], [2.0], [6.0], [50.0], [9.0], [3.0], [13.0], [29.0], [23.0], [61.0], [64.0], [7.0], [17.0], [43.0], [23.0], [50.0], [35.0], [29.0], [57.0], [6.0], [64.0], [36.0], [41.0], [40.0], [5.0], [46.0], [8.0], [39.0], [22.0], [39.0], [10.0], [29.0], [6.0], [15.0], [31.0], [53.0], [1.0], [2.0], [2.0], [45.0], [1.0], [17.0], [8.0], [14.0], [26.0], [32.0], [2.0], [29.0], [15.0], [54.0], [8.0], [15.0], [24.0], [23.0], [1.0], [23.0], [8.0], [37.0], [22.0], [23.0], [54.0], [1.0], [1.0], [27.0], [1.0], [6.0], [29.0], [22.0], [29.0], [29.0], [15.0], [24.0], [29.0], [16.0], [6.0], [64.0], [19.0], [29.0], [29.0], [4.0], [7.0], [21.0], [61.0], [2.0], [64.0], [52.0], [9.0], [43.0], [20.0], [3.0], [47.0], [2.0], [1.0], [61.0], [64.0], [64.0], [3.0], [8.0], [16.0], [2.0], [26.0], [37.0], [32.0], [14.0], [24.0], [31.0], [1.0], [23.0], [64.0], [2.0], [29.0], [8.0], [28.0], [14.0], [8.0], [4.0], [48.0], [43.0], [44.0], [36.0], [49.0], [13.0], [4.0], [15.0], [64.0], [27.0], [28.0], [27.0], [13.0], [36.0], [29.0], [53.0], [8.0], [24.0], [20.0], [16.0], [2.0], [7.0], [57.0], [23.0], [18.0], [23.0], [8.0], [21.0], [30.0], [36.0], [10.0], [58.0], [28.0], [35.0], [1.0], [48.0], [1.0], [26.0], [29.0], [2.0], [35.0], [13.0], [34.0], [2.0], [15.0], [37.0], [22.0], [22.0], [51.0], [29.0], [6.0], [64.0], [2.0], [36.0], [58.0], [64.0], [5.0], [2.0], [64.0], [29.0], [24.0], [8.0], [29.0], [8.0], [64.0], [36.0], [20.0], [5.0], [17.0], [2.0], [20.0], [3.0], [10.0], [64.0], [17.0], [39.0], [2.0], [25.0], [22.0], [1.0], [37.0], [29.0], [18.0], [1.0], [64.0], [40.0], [10.0], [36.0], [19.0], [29.0], [39.0], [36.0], [22.0], [3.0], [30.0], [59.0], [23.0], [1.0], [1.0], [39.0], [30.0], [37.0], [8.0], [50.0], [56.0], [62.0], [62.0], [51.0], [34.0], [1.0], [29.0], [9.0], [1.0], [4.0], [64.0], [63.0], [10.0], [31.0], [64.0], [32.0], [28.0], [5.0], [20.0], [5.0], [1.0], [29.0], [22.0], [13.0], [6.0], [10.0], [15.0], [2.0], [12.0], [64.0], [14.0], [3.0], [43.0], [8.0], [2.0], [18.0], [8.0], [3.0], [27.0], [13.0], [29.0], [8.0], [29.0], [3.0], [60.0], [35.0], [16.0], [11.0], [29.0], [1.0], [27.0], [8.0], [58.0], [1.0], [46.0], [18.0], [28.0], [64.0], [39.0], [18.0], [32.0], [55.0], [43.0], [60.0], [4.0], [24.0], [16.0], [14.0], [29.0], [18.0], [6.0], [18.0], [2.0], [29.0], [8.0], [29.0], [29.0], [31.0], [23.0], [14.0], [3.0], [39.0], [2.0], [37.0], [10.0], [1.0], [29.0], [21.0], [4.0], [3.0], [7.0], [1.0], [8.0], [64.0], [60.0], [56.0], [53.0], [46.0], [11.0], [13.0], [29.0], [9.0], [32.0], [8.0], [32.0], [56.0], [14.0], [22.0], [6.0], [38.0], [15.0], [12.0], [14.0], [51.0], [16.0], [10.0], [57.0], [2.0], [8.0], [29.0], [10.0], [13.0], [29.0], [29.0], [31.0], [8.0], [4.0], [58.0], [22.0], [64.0], [50.0], [8.0], [17.0], [39.0], [1.0], [1.0], [26.0], [60.0], [55.0], [14.0], [20.0], [18.0], [31.0], [7.0], [29.0], [34.0], [64.0], [24.0], [10.0], [64.0], [8.0], [3.0], [50.0], [26.0], [34.0], [39.0], [16.0], [3.0], [8.0], [57.0], [21.0], [21.0], [4.0], [23.0], [8.0], [19.0], [37.0], [42.0], [48.0], [16.0], [31.0], [16.0], [20.0], [64.0], [28.0], [5.0], [7.0], [2.0], [36.0], [36.0], [36.0], [52.0], [39.0], [10.0], [10.0], [27.0], [28.0], [2.0], [44.0], [19.0], [64.0], [1.0], [6.0], [3.0], [64.0], [2.0], [27.0], [35.0], [53.0], [1.0], [24.0], [51.0], [34.0], [1.0], [57.0], [1.0], [27.0], [8.0], [36.0], [12.0], [1.0], [21.0], [32.0], [36.0], [24.0], [13.0], [48.0], [23.0], [61.0], [49.0], [8.0], [29.0], [25.0], [3.0], [29.0], [41.0], [10.0], [19.0], [23.0], [34.0], [39.0], [64.0], [28.0], [26.0], [17.0], [13.0], [55.0], [42.0], [29.0], [21.0], [3.0], [64.0], [10.0], [28.0], [29.0], [1.0], [26.0], [8.0], [44.0], [54.0], [33.0], [17.0], [64.0], [20.0], [28.0], [14.0], [51.0], [16.0], [10.0], [34.0], [22.0], [17.0], [3.0], [64.0], [58.0], [29.0], [30.0], [64.0], [8.0], [34.0], [62.0], [39.0], [10.0], [64.0], [8.0], [1.0], [27.0], [3.0], [46.0], [23.0], [4.0], [3.0], [15.0], [4.0], [7.0], [3.0], [1.0], [58.0], [8.0], [55.0], [37.0], [28.0], [22.0], [30.0], [3.0], [64.0], [29.0], [64.0], [35.0], [18.0], [10.0], [8.0], [3.0], [47.0], [6.0], [3.0], [64.0], [20.0], [6.0], [1.0], [32.0], [10.0], [18.0], [4.0], [12.0], [64.0], [64.0], [3.0], [36.0], [22.0], [29.0], [4.0], [12.0], [26.0], [23.0], [23.0], [10.0], [56.0], [29.0], [57.0], [38.0], [33.0], [56.0], [29.0], [64.0], [22.0], [58.0], [3.0], [3.0], [13.0], [29.0], [20.0], [4.0], [36.0], [64.0], [23.0], [17.0], [16.0], [30.0], [2.0], [29.0], [6.0], [64.0], [18.0], [8.0], [3.0], [63.0], [64.0], [3.0], [29.0], [61.0], [23.0], [29.0], [17.0], [4.0], [64.0], [13.0], [27.0], [6.0], [58.0], [29.0], [43.0], [29.0], [3.0], [44.0], [29.0], [4.0], [29.0], [17.0], [21.0], [3.0], [14.0], [25.0], [22.0], [33.0], [64.0], [27.0], [22.0], [57.0], [39.0], [46.0], [64.0], [3.0], [64.0], [54.0], [23.0], [34.0], [24.0], [23.0], [8.0], [14.0], [56.0], [8.0], [23.0], [5.0], [9.0], [20.0], [1.0], [59.0], [8.0], [21.0], [62.0], [64.0], [19.0], [64.0], [39.0], [23.0], [64.0], [1.0], [44.0], [30.0], [35.0], [36.0], [34.0], [2.0], [62.0], [47.0], [56.0], [1.0], [3.0], [5.0], [25.0], [1.0], [49.0], [10.0], [23.0], [1.0], [3.0], [30.0], [3.0], [63.0], [25.0], [16.0], [22.0], [8.0], [64.0], [51.0], [3.0], [49.0], [18.0], [9.0], [53.0], [47.0], [64.0], [4.0], [7.0], [2.0], [3.0], [26.0], [3.0], [3.0], [4.0], [3.0], [9.0], [8.0], [1.0], [40.0], [26.0], [29.0], [4.0], [1.0], [48.0], [63.0]]\n",
      "정확도 : 0.3264567499095186\n"
     ]
    }
   ],
   "source": [
    "import pandas as pd\n",
    " \n",
    "from sklearn import datasets\n",
    "from sklearn.model_selection import train_test_split\n",
    "from sklearn.ensemble import RandomForestClassifier\n",
    "from sklearn import metrics\n",
    "\n",
    "# 학습 진행\n",
    "forest = RandomForestClassifier(n_estimators=100)\n",
    "forest.fit(x_train, y_train)\n",
    " \n",
    "# 예측 \n",
    "y_pred = forest.predict(X_test)\n",
    "print(y_pred)\n",
    "print(list(y_test))\n",
    " \n",
    "# 정확도 확인\n",
    "print('정확도 :', metrics.accuracy_score(y_test, y_pred))"
   ]
  },
  {
   "cell_type": "code",
   "execution_count": null,
   "metadata": {},
   "outputs": [],
   "source": []
  },
  {
   "cell_type": "code",
   "execution_count": null,
   "metadata": {},
   "outputs": [],
   "source": []
  },
  {
   "cell_type": "code",
   "execution_count": null,
   "metadata": {},
   "outputs": [],
   "source": []
  },
  {
   "cell_type": "markdown",
   "metadata": {},
   "source": [
    "# 과금여부로 결정트리, 랜덤포레스트"
   ]
  },
  {
   "cell_type": "code",
   "execution_count": 23,
   "metadata": {},
   "outputs": [
    {
     "name": "stdout",
     "output_type": "stream",
     "text": [
      "<class 'pandas.core.frame.DataFrame'>\n",
      "36\n"
     ]
    },
    {
     "data": {
      "text/plain": [
       "Index(['acc_id', 'playtime', 'npc_kill', 'solo_exp', 'party_exp', 'quest_exp',\n",
       "       'rich_monster', 'death', 'revive', 'exp_recovery', 'fishing',\n",
       "       'private_shop', 'game_money_change', 'enchant_count', 'level',\n",
       "       'pledge_cnt', 'random_attacker_cnt', 'random_defender_cnt', 'temp_cnt',\n",
       "       'same_pledge_cnt', 'etc_cnt', 'num_opponent', 'amount_spent_pay',\n",
       "       'sell_item_cnt', 'buy_item_cnt', 'play_char_cnt', 'combat_char_cnt',\n",
       "       'pledge_combat_cnt', 'random_attacker_cnt_plg',\n",
       "       'random_defender_cnt_plg', 'same_pledge_cnt_plg', 'temp_cnt_plg',\n",
       "       'etc_cnt_plg', 'combat_play_time', 'non_combat_play_time',\n",
       "       'cash_predict'],\n",
       "      dtype='object')"
      ]
     },
     "execution_count": 23,
     "metadata": {},
     "output_type": "execute_result"
    }
   ],
   "source": [
    "import tensorflow as tf\n",
    "\n",
    "\n",
    "X = tf.placeholder(tf.float32,shape=[None,data_cash_yes.shape[1]])\n",
    "Y = tf.placeholder(tf.float32,shape=[None,1])\n",
    "\n",
    "W = tf.Variable(tf.random_normal([data_cash_yes.shape[1],1]), name='weight')\n",
    "b = tf.Variable(tf.random_normal([1]), name='bias')\n",
    "\n",
    "hypothesis = tf.matmul(X,W) + b  #\n",
    "\n",
    "cost = tf.reduce_mean(tf.square(hypothesis - Y))\n",
    "\n",
    "optimizer = tf.train.AdamOptimizer(learning_rate=3e-1)\n",
    "train = optimizer.minimize(cost)\n",
    "\n",
    "\n",
    "\n",
    "# RMSE( root-mean-square error ) : 평균 제곱 근 오차\n",
    "# 평균 제곱근편차(RMSD) 또는 평균 제곱근오차(RMSE)는 추정값 또는 모델이 예측한 값과\n",
    "# 실제 환경에서 관찰되는 값의 차이를 다룰 때 흔히 사용하는 측도이다.\n",
    "# 정밀도를 표현하는데 적합하다.\n",
    "\n",
    "targets = tf.placeholder(tf.float32,[None,1])  # 답(Y)\n",
    "predictions = tf.placeholder(tf.float32,[None,1]) # 예측 값\n",
    "rmse = tf.sqrt(tf.reduce_mean(tf.square(targets-predictions)))\n",
    "\n",
    "sess = tf.Session()\n",
    "sess.run(tf.global_variables_initializer())\n",
    "\n",
    "# start training\n",
    "for step in range(10001):\n",
    "    cost_val, W_val, b_val, _ = \\\n",
    "        sess.run([cost, W, b, train],\n",
    "                 feed_dict={X:x_data, Y:y_data})\n",
    "    if step % 1000 == 0:\n",
    "        print(step, cost_val, W_val, b_val)\n",
    "\n",
    "# Test step\n",
    "test_predict = sess.run(hypothesis,feed_dict={X:X_test})\n",
    "rmse_val = sess.run(rmse,feed_dict={targets:y_test,predictions:test_predict})\n",
    "print('RMSE: {}'.format(rmse_val))\n",
    "\n",
    "\n",
    "total_error = tf.reduce_sum(tf.square(tf.subtract(y_test, tf.reduce_mean(y_test))))\n",
    "unexplained_error = tf.reduce_sum(tf.square(tf.subtract(y_test, test_predict)))\n",
    "R_squared = tf.subtract(1.0,tf.divide( unexplained_error,total_error))\n",
    "\n",
    "print('R_sqr: {}'.format(sess.run(R_squared)))\n",
    "\n",
    "prd = sess.run(hypothesis, feed_dict = {X:X_test})"
   ]
  },
  {
   "cell_type": "markdown",
   "metadata": {},
   "source": [
    "# 랜덤포레스트로 회귀 분석해보기"
   ]
  },
  {
   "cell_type": "code",
   "execution_count": 49,
   "metadata": {},
   "outputs": [
    {
     "name": "stdout",
     "output_type": "stream",
     "text": [
      "16438 \n",
      " 23562\n"
     ]
    },
    {
     "data": {
      "text/plain": [
       "((28000, 35), (12000, 35), (28000,), (12000,))"
      ]
     },
     "execution_count": 49,
     "metadata": {},
     "output_type": "execute_result"
    }
   ],
   "source": [
    "import pandas as pd\n",
    "import numpy as np\n",
    "import matplotlib.pyplot as plt\n",
    "from matplotlib import style\n",
    "from sklearn.metrics import r2_score\n",
    "from sklearn.ensemble import RandomForestRegressor\n",
    "from sklearn.model_selection import train_test_split\n",
    "\n",
    "# 과금 여부\n",
    "data.loc[data['amount_spent'] == 0, \"cash\"] = 0\n",
    "data.loc[data['amount_spent'] > 0, \"cash\"] = 1\n",
    "\n",
    "print(data['cash'][data['cash']==0].count(),'\\n',\n",
    "     data['cash'][data['cash']==1].count())\n",
    "\n",
    "amount_spent = data[['acc_id','amount_spent']]\n",
    "\n",
    "data1 = data.drop(columns=['amount_spent','cash','survived','survival_time'], axis=1)\n",
    "data1.shape\n",
    "\n",
    "# ==========================================================================================================\n",
    "\n",
    "y = data['cash']\n",
    "\n",
    "\n",
    "x = data[['acc_id','playtime', 'npc_kill',\n",
    "       'solo_exp', 'party_exp', 'quest_exp', 'rich_monster', 'death', 'revive',\n",
    "       'exp_recovery', 'fishing', 'private_shop', 'game_money_change',\n",
    "       'enchant_count', 'level', 'pledge_cnt', 'random_attacker_cnt',\n",
    "       'random_defender_cnt', 'temp_cnt', 'same_pledge_cnt', 'etc_cnt',\n",
    "       'num_opponent',  'sell_item_cnt','amount_spent_pay', 'buy_item_cnt',\n",
    "       'play_char_cnt', 'combat_char_cnt', 'pledge_combat_cnt',\n",
    "       'random_attacker_cnt_plg', 'random_defender_cnt_plg',\n",
    "       'same_pledge_cnt_plg', 'temp_cnt_plg', 'etc_cnt_plg',\n",
    "       'combat_play_time', 'non_combat_play_time']]\n",
    "\n",
    "\n",
    "#훈련세트, 테스트세트 나누기\n",
    "train_x, test_x, train_y, test_y = train_test_split(x, y, test_size = 0.3)\n",
    "\n",
    "train_x.shape, test_x.shape, train_y.shape, test_y.shape"
   ]
  },
  {
   "cell_type": "code",
   "execution_count": 54,
   "metadata": {},
   "outputs": [
    {
     "name": "stdout",
     "output_type": "stream",
     "text": [
      "<class 'pandas.core.frame.DataFrame'>\n"
     ]
    },
    {
     "data": {
      "text/plain": [
       "0.8574166666666667"
      ]
     },
     "execution_count": 54,
     "metadata": {},
     "output_type": "execute_result"
    }
   ],
   "source": [
    "rfc = RandomForestClassifier(n_estimators=200)\n",
    "rfc.fit(train_x, train_y)\n",
    "rfc_y_score = rfc.predict(data1)\n",
    "rfc_y = pd.DataFrame(rfc_y_score, columns = ['amount_predict'])\n",
    "print(type(rfc_y))\n",
    "rfc.score(test_x,test_y)"
   ]
  },
  {
   "cell_type": "code",
   "execution_count": 55,
   "metadata": {},
   "outputs": [
    {
     "name": "stdout",
     "output_type": "stream",
     "text": [
      "36\n",
      "Index(['acc_id', 'playtime', 'npc_kill', 'solo_exp', 'party_exp', 'quest_exp',\n",
      "       'rich_monster', 'death', 'revive', 'exp_recovery', 'fishing',\n",
      "       'private_shop', 'game_money_change', 'enchant_count', 'level',\n",
      "       'pledge_cnt', 'random_attacker_cnt', 'random_defender_cnt', 'temp_cnt',\n",
      "       'same_pledge_cnt', 'etc_cnt', 'num_opponent', 'amount_spent_pay',\n",
      "       'sell_item_cnt', 'buy_item_cnt', 'play_char_cnt', 'combat_char_cnt',\n",
      "       'pledge_combat_cnt', 'random_attacker_cnt_plg',\n",
      "       'random_defender_cnt_plg', 'same_pledge_cnt_plg', 'temp_cnt_plg',\n",
      "       'etc_cnt_plg', 'combat_play_time', 'non_combat_play_time',\n",
      "       'amount_predict', 'survival_time'],\n",
      "      dtype='object')\n",
      "(24623, 37) (0, 37)\n",
      "(15377, 37) (40000, 37)\n"
     ]
    }
   ],
   "source": [
    "data_cash = pd.concat([data1, rfc_y], axis=1)\n",
    "data_cash.head()\n",
    "rfc_y.shape\n",
    "print(len(data_cash.columns))\n",
    "\n",
    "data_cash = data_cash.merge(survival_time, on='acc_id', how='inner')\n",
    "print(data_cash.columns)\n",
    "data_cash.shape\n",
    "print(data_cash[data_cash['amount_predict']==1].shape, data_cash[data_cash['amount_predict']==64].shape)\n",
    "print(data_cash[data_cash['amount_predict']==0].shape, data_cash[data_cash['amount_predict']<64].shape)"
   ]
  },
  {
   "cell_type": "code",
   "execution_count": null,
   "metadata": {},
   "outputs": [],
   "source": []
  },
  {
   "cell_type": "code",
   "execution_count": 45,
   "metadata": {},
   "outputs": [],
   "source": [
    "import pandas as pd\n",
    "import numpy as np\n",
    "import matplotlib.pyplot as plt\n",
    "from matplotlib import style\n",
    "from sklearn.metrics import r2_score\n",
    "from sklearn.ensemble import RandomForestRegressor\n",
    "from sklearn.model_selection import train_test_split\n",
    "\n",
    "data_cash = data1.merge(amount_spent, on='acc_id', how='inner')\n",
    "\n",
    "y_data = [[i] for i in data_cash['amount_spent'].tolist() ]\n",
    "y= y_data \n",
    "\n",
    "data_cash.drop(['amount_spent'], axis=1, inplace=True)\n",
    "\n",
    "x_data = [ data_cash.iloc[i,:].tolist() for i in range(len(data_cash.index.values))]\n",
    "X = x_data\n",
    "\n",
    "\n",
    "\n",
    "x_train, X_test, y_train, y_test = train_test_split(X, y, test_size = 1/3, random_state = 70) #42\n",
    "\n",
    "# multi_variable_linear_regression.py\n",
    "# 4"
   ]
  },
  {
   "cell_type": "code",
   "execution_count": 48,
   "metadata": {},
   "outputs": [
    {
     "name": "stderr",
     "output_type": "stream",
     "text": [
      "C:\\Users\\CPB06GameN\\Anaconda3\\lib\\site-packages\\ipykernel_launcher.py:3: DataConversionWarning: A column-vector y was passed when a 1d array was expected. Please change the shape of y to (n_samples,), for example using ravel().\n",
      "  This is separate from the ipykernel package so we can avoid doing imports until\n"
     ]
    },
    {
     "name": "stdout",
     "output_type": "stream",
     "text": [
      "R2 score \n",
      " Train : 0.861, \t Test : 0.051\n"
     ]
    }
   ],
   "source": [
    "rfr = RandomForestRegressor(n_estimators=1000,max_depth=None, criterion = 'mse', random_state=1, n_jobs = -1)\n",
    "\n",
    "rfr.fit(x_train, y_train)\n",
    "y_train_pred = rfr.predict(x_train)\n",
    "y_test_pred = rfr.predict(X_test)\n",
    "\n",
    "r2_train = r2_score(y_train, y_train_pred)\n",
    "r2_test = r2_score(y_test, y_test_pred)\n",
    "\n",
    "print('R2 score \\n Train : {0:.3f}, \\t Test : {1:.3f}'.format(round(r2_train,3), round(r2_test,3)))\n",
    "\n",
    "# sort_value = data_cash.ravel().argsort()\n",
    "# plt.plot(data_cash[sort_value], rfr.predict(data_cash[sort_value]), c='r', lw=1, label='랜덤포레스트' )\n",
    "\n",
    "# plt.scatter(x_train, y_train, c='lightgray', marker='o', label = '트레이닝 데이터')\n",
    "# plt.scatter(x_test, y_test, c='greem', marker='s', label = '테스트 데이터')\n",
    "# plt.legend()\n",
    "# plt.show()"
   ]
  },
  {
   "cell_type": "code",
   "execution_count": 47,
   "metadata": {},
   "outputs": [
    {
     "ename": "NameError",
     "evalue": "name 'log_clf' is not defined",
     "output_type": "error",
     "traceback": [
      "\u001b[1;31m---------------------------------------------------------------------------\u001b[0m",
      "\u001b[1;31mNameError\u001b[0m                                 Traceback (most recent call last)",
      "\u001b[1;32m<ipython-input-47-6b8d073e8460>\u001b[0m in \u001b[0;36m<module>\u001b[1;34m\u001b[0m\n\u001b[0;32m      1\u001b[0m \u001b[1;32mfrom\u001b[0m \u001b[0msklearn\u001b[0m\u001b[1;33m.\u001b[0m\u001b[0mmetrics\u001b[0m \u001b[1;32mimport\u001b[0m \u001b[0maccuracy_score\u001b[0m\u001b[1;33m\u001b[0m\u001b[1;33m\u001b[0m\u001b[0m\n\u001b[0;32m      2\u001b[0m \u001b[1;33m\u001b[0m\u001b[0m\n\u001b[1;32m----> 3\u001b[1;33m \u001b[1;32mfor\u001b[0m \u001b[0mclf\u001b[0m \u001b[1;32min\u001b[0m \u001b[1;33m(\u001b[0m\u001b[0mlog_clf\u001b[0m\u001b[1;33m,\u001b[0m \u001b[0mrnd_clf\u001b[0m\u001b[1;33m,\u001b[0m \u001b[0msvm_clf\u001b[0m\u001b[1;33m,\u001b[0m \u001b[0mvoting_clf\u001b[0m\u001b[1;33m)\u001b[0m\u001b[1;33m:\u001b[0m\u001b[1;33m\u001b[0m\u001b[1;33m\u001b[0m\u001b[0m\n\u001b[0m\u001b[0;32m      4\u001b[0m     \u001b[0mclf\u001b[0m\u001b[1;33m.\u001b[0m\u001b[0mfit\u001b[0m\u001b[1;33m(\u001b[0m\u001b[0mX_train\u001b[0m\u001b[1;33m,\u001b[0m \u001b[0my_train\u001b[0m\u001b[1;33m)\u001b[0m\u001b[1;33m\u001b[0m\u001b[1;33m\u001b[0m\u001b[0m\n\u001b[0;32m      5\u001b[0m     \u001b[0my_pred\u001b[0m \u001b[1;33m=\u001b[0m \u001b[0mclf\u001b[0m\u001b[1;33m.\u001b[0m\u001b[0mpredict\u001b[0m\u001b[1;33m(\u001b[0m\u001b[0mX_test\u001b[0m\u001b[1;33m)\u001b[0m\u001b[1;33m\u001b[0m\u001b[1;33m\u001b[0m\u001b[0m\n",
      "\u001b[1;31mNameError\u001b[0m: name 'log_clf' is not defined"
     ]
    }
   ],
   "source": [
    "from sklearn.metrics import accuracy_score\n",
    "\n",
    "for clf in (log_clf, rnd_clf, svm_clf, voting_clf):\n",
    "    clf.fit(X_train, y_train)\n",
    "    y_pred = clf.predict(X_test)\n",
    "    print(clf.__class__.__name__, accuracy_score(y_test, y_pred))"
   ]
  },
  {
   "cell_type": "code",
   "execution_count": null,
   "metadata": {},
   "outputs": [],
   "source": []
  }
 ],
 "metadata": {
  "kernelspec": {
   "display_name": "Python 3",
   "language": "python",
   "name": "python3"
  },
  "language_info": {
   "codemirror_mode": {
    "name": "ipython",
    "version": 3
   },
   "file_extension": ".py",
   "mimetype": "text/x-python",
   "name": "python",
   "nbconvert_exporter": "python",
   "pygments_lexer": "ipython3",
   "version": "3.7.3"
  }
 },
 "nbformat": 4,
 "nbformat_minor": 2
}
