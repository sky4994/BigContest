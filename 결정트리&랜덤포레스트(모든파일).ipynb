{
 "cells": [
  {
   "cell_type": "markdown",
   "metadata": {},
   "source": [
    "# 기본데이터 만들기 (처음 1번만)"
   ]
  },
  {
   "cell_type": "code",
   "execution_count": 165,
   "metadata": {
    "scrolled": false
   },
   "outputs": [
    {
     "name": "stdout",
     "output_type": "stream",
     "text": [
      "process - 1\n",
      "process - 2\n",
      "Index(['acc_id', 'survival_time', 'amount_spent', 'playtime', 'npc_kill',\n",
      "       'solo_exp', 'party_exp', 'quest_exp', 'rich_monster', 'death', 'revive',\n",
      "       'exp_recovery', 'fishing', 'private_shop', 'game_money_change',\n",
      "       'enchant_count', 'level', 'pledge_cnt', 'random_attacker_cnt',\n",
      "       'random_defender_cnt', 'temp_cnt', 'same_pledge_cnt', 'etc_cnt',\n",
      "       'num_opponent', 'amount_spent_pay', 'sell_item_cnt', 'buy_item_cnt',\n",
      "       'play_char_cnt', 'combat_char_cnt', 'pledge_combat_cnt',\n",
      "       'random_attacker_cnt_plg', 'random_defender_cnt_plg',\n",
      "       'same_pledge_cnt_plg', 'temp_cnt_plg', 'etc_cnt_plg',\n",
      "       'combat_play_time', 'non_combat_play_time'],\n",
      "      dtype='object')\n",
      "Index(['acc_id', 'survival_time', 'amount_spent', 'playtime', 'npc_kill',\n",
      "       'solo_exp', 'party_exp', 'quest_exp', 'rich_monster', 'death', 'revive',\n",
      "       'exp_recovery', 'fishing', 'private_shop', 'game_money_change',\n",
      "       'enchant_count', 'level', 'pledge_cnt', 'random_attacker_cnt',\n",
      "       'random_defender_cnt', 'temp_cnt', 'same_pledge_cnt', 'etc_cnt',\n",
      "       'num_opponent', 'amount_spent_pay', 'sell_item_cnt', 'buy_item_cnt',\n",
      "       'play_char_cnt', 'combat_char_cnt', 'pledge_combat_cnt',\n",
      "       'random_attacker_cnt_plg', 'random_defender_cnt_plg',\n",
      "       'same_pledge_cnt_plg', 'temp_cnt_plg', 'etc_cnt_plg',\n",
      "       'combat_play_time', 'non_combat_play_time'],\n",
      "      dtype='object')\n"
     ]
    }
   ],
   "source": [
    "# ======================================================================================================================\n",
    "import pandas as pd\n",
    "import matplotlib.pyplot as plt\n",
    "import seaborn as sns\n",
    "import matplotlib\n",
    "from sklearn.preprocessing import MinMaxScaler\n",
    "import tensorflow as tf\n",
    "import numpy as np\n",
    "import random\n",
    "from sklearn.model_selection import train_test_split\n",
    "import scipy as cp\n",
    "# ======================================================================================================================\n",
    "\n",
    "scaler = MinMaxScaler()\n",
    "random.seed(54654)\n",
    "\n",
    "matplotlib.rcParams['font.family']='Malgun Gothic'   # 한글 사용\n",
    "matplotlib.rcParams['axes.unicode_minus'] = False\n",
    "\n",
    "label = pd.read_csv('C:/Users/CPB06GameN/Desktop/PROGRAM/big/train_label.csv')\n",
    "\n",
    "\n",
    "\n",
    "# ======================================================================================================================\n",
    "print(\"process - 1\")\n",
    "\n",
    "activity = pd.read_csv('C:/Users/CPB06GameN/Desktop/PROGRAM/big/train_activity.csv')\n",
    "\n",
    "# activity acc_id로 groupby\n",
    "# - 평균을 내지 않은 이유 : 평균을 냈을 경우 캐릭터는 많지만\n",
    "#   한 캐릭터만으로 활동한 사람의 정보가 과소평가 될 가능성이 있음\n",
    "activity = activity.groupby(['acc_id'], as_index = False).sum()\n",
    "activity.drop(columns = ['day','char_id'], inplace = True)\n",
    "# print(activity.head())\n",
    "\n",
    "\n",
    "\n",
    "# ======================================================================================================================\n",
    "\n",
    "\n",
    "combat = pd.read_csv('C:/Users/CPB06GameN/Desktop/PROGRAM/big/train_combat.csv')\n",
    "\n",
    "combat.drop(columns = ['day', 'server', 'char_id', 'class'], inplace = True)\n",
    "combat_a = combat.groupby(['acc_id'], as_index = False).sum()\n",
    "combat_a.drop(columns = 'level', inplace = True)\n",
    "\n",
    "combat_b = combat.groupby(['acc_id'], as_index = False).max()\n",
    "#  combat.groupby('acc_id', as_index = False).sum().sort_values('acc_id')\n",
    "\n",
    "# acc_id 기준으로 정리\n",
    "\n",
    "combat_b = combat_b[['acc_id', 'level']]\n",
    "combat = pd.merge(combat_b, combat_a, how = 'inner', on = 'acc_id')\n",
    "\n",
    "\n",
    "\n",
    "# ======================================================================================================================\n",
    "\n",
    "\n",
    "payment = pd.read_csv('C:/Users/CPB06GameN/Desktop/PROGRAM/big/train_payment.csv')\n",
    "\n",
    "payment = payment.groupby('acc_id', as_index = False).sum()\n",
    "payment.drop(columns = 'day', inplace = True)\n",
    "\n",
    "payment.rename(columns = {'amount_spent' : 'amount_spent_pay'}, inplace = True)\n",
    "\n",
    "\n",
    "# ======================================================================================================================\n",
    "\n",
    "\n",
    "trade = pd.read_csv('C:/Users/CPB06GameN/Desktop/PROGRAM/big/train_trade.csv')\n",
    "\n",
    "# 거래에 참여한 횟수를 기준으로\n",
    "\n",
    "# 판매자로서 활동한 acc_id\n",
    "trade_a = trade.groupby('source_acc_id', as_index = False).count()\n",
    "trade_a = trade_a[['source_acc_id', 'day']]\n",
    "\n",
    "# 구매자로서 활동한 acc_id\n",
    "trade_b = trade.groupby('target_acc_id', as_index = False).count()\n",
    "trade_b = trade_b[['target_acc_id', 'day']]\n",
    "\n",
    "x = trade_a['day'].sum() - trade_b['day'].sum()\n",
    "# print(x) # 0\n",
    "\n",
    "trade_a.rename(columns={'source_acc_id':'acc_id',\n",
    "                        'day':'sell_item_cnt'}, inplace=True)\n",
    "trade_b.rename(columns={'target_acc_id':'acc_id',\n",
    "                        'day':'buy_item_cnt'}, inplace=True)\n",
    "\n",
    "trade = pd.merge(trade_a, trade_b, how = 'outer', on = 'acc_id')\n",
    "\n",
    "# 실제 데이터 검색\n",
    "# trade[trade['source_acc_id'] == 6].count()\n",
    "\n",
    "# 데이터 검증\n",
    "# trade_a[trade_a['source_acc_id'] == 6]\n",
    "\n",
    "\n",
    "# ======================================================================================================================\n",
    "\n",
    "\n",
    "pledge = pd.read_csv('C:/Users/CPB06GameN/Desktop/PROGRAM/big/train_pledge.csv')\n",
    "\n",
    "ple_1 = pledge.groupby(['server', 'pledge_id', 'day'], as_index = False).mean()\n",
    "ple_1.drop(columns = ['acc_id', 'char_id', 'day'], inplace = True)\n",
    "ple_1 = ple_1.groupby(['server', 'pledge_id'], as_index = False).sum()\n",
    "\n",
    "ple_a = pledge.groupby(['acc_id', 'char_id', 'server', 'pledge_id', 'day'], as_index = False).mean()\n",
    "ple_a = ple_a.groupby(['acc_id', 'char_id', 'server', 'pledge_id'], as_index = False).sum()\n",
    "ple_a = ple_a[['acc_id', 'char_id', 'server', 'pledge_id']]\n",
    "\n",
    "pledge = pd.merge(ple_a, ple_1, how = 'outer', on = ['server', 'pledge_id'])\n",
    "pledge.drop(columns = ['char_id', 'server', 'pledge_id'], inplace = True)\n",
    "pledge_total = pledge.groupby(['acc_id'], as_index = False).mean()\n",
    "\n",
    "pledge_total.rename(columns = {'random_attacker_cnt' : 'random_attacker_cnt_plg',\n",
    "                              'random_defender_cnt' : 'random_defender_cnt_plg',\n",
    "                              'same_pledge_cnt' : 'same_pledge_cnt_plg',\n",
    "                              'temp_cnt' : 'temp_cnt_plg',\n",
    "                              'etc_cnt':'etc_cnt_plg'}, inplace = True)\n",
    "\n",
    "# ple_1[(ple_1['pledge_id'] == 25467) & (ple_1['server'] == 'aq')]\n",
    "# ple_a[(ple_a['pledge_id'] == 25467) & (ple_a['server'] == 'aq')]\n",
    "\n",
    "\n",
    "# ======================================================================================================================\n",
    "print(\"process - 2\")\n",
    "\n",
    "# label + activity\n",
    "label_a = pd.merge(label, activity, how = 'outer', on = 'acc_id')\n",
    "\n",
    "# (label + activity) + combat\n",
    "label_b = pd.merge(label_a, combat, how = 'outer', on = 'acc_id')\n",
    "\n",
    "# (label + activity + combat) + payment\n",
    "label_c = pd.merge(label_b, payment, how = 'outer', on = 'acc_id')\n",
    "\n",
    "# (label + activity + combat + payment) + trade\n",
    "label_d = pd.merge(label_c, trade, how = 'outer', on = 'acc_id')\n",
    "label_d = label_d[label_d['survival_time'] >= 1]\n",
    "\n",
    "# (label + activity + combat + payment + trade) + pledge_total\n",
    "label_z = pd.merge(label_d, pledge_total, how = 'outer', on = 'acc_id')\n",
    "\n",
    "data = label_z.fillna(0)\n",
    "print(data.columns)\n",
    "\n",
    "data[['playtime', 'npc_kill',\n",
    "       'solo_exp', 'party_exp', 'quest_exp', 'rich_monster', 'death', 'revive',\n",
    "       'exp_recovery', 'fishing', 'private_shop', 'game_money_change',\n",
    "       'enchant_count', 'level', 'pledge_cnt', 'random_attacker_cnt',\n",
    "       'random_defender_cnt', 'temp_cnt', 'same_pledge_cnt', 'etc_cnt',\n",
    "       'num_opponent', 'amount_spent_pay', 'sell_item_cnt', 'buy_item_cnt',\n",
    "       'play_char_cnt', 'combat_char_cnt', 'pledge_combat_cnt',\n",
    "       'random_attacker_cnt_plg', 'random_defender_cnt_plg',\n",
    "       'same_pledge_cnt_plg', 'temp_cnt_plg', 'etc_cnt_plg',\n",
    "       'combat_play_time', 'non_combat_play_time']] = \\\n",
    "    scaler.fit_transform(data[['playtime', 'npc_kill',\n",
    "       'solo_exp', 'party_exp', 'quest_exp', 'rich_monster', 'death', 'revive',\n",
    "       'exp_recovery', 'fishing', 'private_shop', 'game_money_change',\n",
    "       'enchant_count', 'level', 'pledge_cnt', 'random_attacker_cnt',\n",
    "       'random_defender_cnt', 'temp_cnt', 'same_pledge_cnt', 'etc_cnt',\n",
    "       'num_opponent', 'amount_spent_pay', 'sell_item_cnt', 'buy_item_cnt',\n",
    "       'play_char_cnt', 'combat_char_cnt', 'pledge_combat_cnt',\n",
    "       'random_attacker_cnt_plg', 'random_defender_cnt_plg',\n",
    "       'same_pledge_cnt_plg', 'temp_cnt_plg', 'etc_cnt_plg',\n",
    "       'combat_play_time', 'non_combat_play_time']])\n",
    "\n",
    "data = data.fillna(0)\n",
    "print(data.columns)\n",
    "\n",
    "\n",
    "data.to_csv('AllMergeFromDonny.csv')\n",
    "# ======================================================================================================================\n"
   ]
  },
  {
   "cell_type": "markdown",
   "metadata": {},
   "source": [
    "# 데이터 불러오기"
   ]
  },
  {
   "cell_type": "code",
   "execution_count": 18,
   "metadata": {},
   "outputs": [
    {
     "name": "stdout",
     "output_type": "stream",
     "text": [
      "(40000, 37)\n"
     ]
    },
    {
     "data": {
      "text/plain": [
       "Index(['acc_id', 'survival_time', 'amount_spent', 'playtime', 'npc_kill',\n",
       "       'solo_exp', 'party_exp', 'quest_exp', 'rich_monster', 'death', 'revive',\n",
       "       'exp_recovery', 'fishing', 'private_shop', 'game_money_change',\n",
       "       'enchant_count', 'level', 'pledge_cnt', 'random_attacker_cnt',\n",
       "       'random_defender_cnt', 'temp_cnt', 'same_pledge_cnt', 'etc_cnt',\n",
       "       'num_opponent', 'amount_spent_pay', 'sell_item_cnt', 'buy_item_cnt',\n",
       "       'play_char_cnt', 'combat_char_cnt', 'pledge_combat_cnt',\n",
       "       'random_attacker_cnt_plg', 'random_defender_cnt_plg',\n",
       "       'same_pledge_cnt_plg', 'temp_cnt_plg', 'etc_cnt_plg',\n",
       "       'combat_play_time', 'non_combat_play_time'],\n",
       "      dtype='object')"
      ]
     },
     "execution_count": 18,
     "metadata": {},
     "output_type": "execute_result"
    }
   ],
   "source": [
    "# ======================================================================================================================\n",
    "import pandas as pd\n",
    "import matplotlib.pyplot as plt\n",
    "import seaborn as sns\n",
    "import matplotlib\n",
    "from sklearn.preprocessing import MinMaxScaler\n",
    "import tensorflow as tf\n",
    "import numpy as np\n",
    "import random\n",
    "from sklearn.model_selection import train_test_split\n",
    "import scipy as cp\n",
    "# ======================================================================================================================\n",
    "scaler = MinMaxScaler()\n",
    "random.seed(54654)\n",
    "\n",
    "matplotlib.rcParams['font.family']='Malgun Gothic'   # 한글 사용\n",
    "matplotlib.rcParams['axes.unicode_minus'] = False\n",
    "# ======================================================================================================================\n",
    "\n",
    "data = pd.read_csv('AllMergeFromDonny.csv')\n",
    "data.drop('Unnamed: 0', axis=1, inplace=True)\n",
    "print(data.shape)\n",
    "data.columns"
   ]
  },
  {
   "cell_type": "markdown",
   "metadata": {},
   "source": [
    "## 데이터를 생존과 과금여부로 나눠보기"
   ]
  },
  {
   "cell_type": "code",
   "execution_count": 41,
   "metadata": {
    "scrolled": false
   },
   "outputs": [
    {
     "name": "stdout",
     "output_type": "stream",
     "text": [
      "18004 \n",
      " 21996\n",
      "16438 \n",
      " 23562\n",
      "Index(['acc_id', 'survival_time', 'amount_spent', 'playtime', 'npc_kill',\n",
      "       'solo_exp', 'party_exp', 'quest_exp', 'rich_monster', 'death', 'revive',\n",
      "       'exp_recovery', 'fishing', 'private_shop', 'game_money_change',\n",
      "       'enchant_count', 'level', 'pledge_cnt', 'random_attacker_cnt',\n",
      "       'random_defender_cnt', 'temp_cnt', 'same_pledge_cnt', 'etc_cnt',\n",
      "       'num_opponent', 'amount_spent_pay', 'sell_item_cnt', 'buy_item_cnt',\n",
      "       'play_char_cnt', 'combat_char_cnt', 'pledge_combat_cnt',\n",
      "       'random_attacker_cnt_plg', 'random_defender_cnt_plg',\n",
      "       'same_pledge_cnt_plg', 'temp_cnt_plg', 'etc_cnt_plg',\n",
      "       'combat_play_time', 'non_combat_play_time', 'survived', 'cash'],\n",
      "      dtype='object')\n"
     ]
    },
    {
     "data": {
      "text/plain": [
       "(40000, 35)"
      ]
     },
     "execution_count": 41,
     "metadata": {},
     "output_type": "execute_result"
    }
   ],
   "source": [
    "# 생존여부\n",
    "data.loc[data['survival_time'] < 64, \"survived\"] = 0\n",
    "data.loc[data['survival_time'] == 64, \"survived\"] = 1\n",
    "\n",
    "# 과금 여부\n",
    "data.loc[data['amount_spent'] == 0, \"cash\"] = 0\n",
    "data.loc[data['amount_spent'] > 0, \"cash\"] = 1\n",
    "\n",
    "# data.drop(['acc_id','survival_time','amount_spent', 'survived'], axis=1, inplace = True)\n",
    "\n",
    "data.head()\n",
    "\n",
    "# 나눈 것을 다시 한번 숫자 카운팅 해보기\n",
    "print(data['survived'][data['survived']==0].count(),'\\n',\n",
    "     data['survived'][data['survived']==1].count())\n",
    "\n",
    "print(data['cash'][data['cash']==0].count(),'\\n',\n",
    "     data['cash'][data['cash']==1].count())\n",
    "\n",
    "print(data.columns)\n",
    "\n",
    "survival_time = data[['acc_id','survival_time']]\n",
    "amount_spent = data[['acc_id','amount_spent']]\n",
    "\n",
    "data1 = data.drop(columns=['amount_spent','cash','survived','survival_time'], axis=1)\n",
    "data1.shape\n",
    "# ======================================================================================================================"
   ]
  },
  {
   "cell_type": "markdown",
   "metadata": {},
   "source": [
    "# 생존여부로 결정트리, 랜덤포레스트"
   ]
  },
  {
   "cell_type": "code",
   "execution_count": null,
   "metadata": {},
   "outputs": [],
   "source": [
    "# ======================================================================================================================\n",
    "\n",
    "from sklearn.model_selection import train_test_split\n",
    "\n",
    "y = data['survived']\n",
    "\n",
    "\n",
    "x = data[['acc_id','playtime', 'npc_kill',\n",
    "       'solo_exp', 'party_exp', 'quest_exp', 'rich_monster', 'death', 'revive',\n",
    "       'exp_recovery', 'fishing', 'private_shop', 'game_money_change',\n",
    "       'enchant_count', 'level', 'pledge_cnt', 'random_attacker_cnt',\n",
    "       'random_defender_cnt', 'temp_cnt', 'same_pledge_cnt', 'etc_cnt',\n",
    "       'num_opponent',  'sell_item_cnt','amount_spent_pay', 'buy_item_cnt',\n",
    "       'play_char_cnt', 'combat_char_cnt', 'pledge_combat_cnt',\n",
    "       'random_attacker_cnt_plg', 'random_defender_cnt_plg',\n",
    "       'same_pledge_cnt_plg', 'temp_cnt_plg', 'etc_cnt_plg',\n",
    "       'combat_play_time', 'non_combat_play_time']]\n",
    "\n",
    "\n",
    "#훈련세트, 테스트세트 나누기\n",
    "train_x, test_x, train_y, test_y = train_test_split(x, y, test_size = 0.3)\n",
    "\n",
    "train_x.shape, test_x.shape, train_y.shape, test_y.shape"
   ]
  },
  {
   "cell_type": "code",
   "execution_count": 40,
   "metadata": {},
   "outputs": [
    {
     "name": "stdout",
     "output_type": "stream",
     "text": [
      "0.6969166666666666\n",
      "0.7608333333333334\n"
     ]
    }
   ],
   "source": [
    "## DecisionTree\n",
    "from sklearn.tree import DecisionTreeClassifier\n",
    "from sklearn.ensemble import RandomForestClassifier\n",
    "\n",
    "decision = DecisionTreeClassifier(max_depth = 5).fit(train_x,train_y)\n",
    "# print(decision.score(train_x, train_y))\n",
    "print(decision.score(test_x, test_y))\n",
    "\n",
    "from sklearn.tree import export_graphviz\n",
    "import graphviz\n",
    "import pydot\n",
    "\n",
    "export_graphviz(decision,\n",
    "                feature_names = x.columns,\n",
    "                class_names = ['Death', 'Survived'],\n",
    "                out_file = 'decisionTree1.dot',\n",
    "                impurity = True,\n",
    "                filled = True)\n",
    "\n",
    "# Encoding 중요\n",
    "# (graph,) = pydot.graph_from_dot_file('decisionTree1.dot', encoding='utf8')\n",
    "\n",
    "# Dot 파일을 Png 이미지로 저장\n",
    "# graph.write_png('decisionTree1.png')\n",
    "\n",
    "with open('decisionTree1.dot') as f:\n",
    "    dot_graph = str(open(\"decisionTree1.dot\", \"rb\").read(), 'utf8')\n",
    "\n",
    "src = graphviz.Source(dot_graph)\n",
    "src.render('payment-lable.gv', view=True)"
   ]
  },
  {
   "cell_type": "markdown",
   "metadata": {},
   "source": [
    "## 생존/비생존으로 랜덤포레스트"
   ]
  },
  {
   "cell_type": "code",
   "execution_count": 47,
   "metadata": {},
   "outputs": [
    {
     "name": "stdout",
     "output_type": "stream",
     "text": [
      "<class 'pandas.core.frame.DataFrame'>\n"
     ]
    },
    {
     "data": {
      "text/html": [
       "<div>\n",
       "<style scoped>\n",
       "    .dataframe tbody tr th:only-of-type {\n",
       "        vertical-align: middle;\n",
       "    }\n",
       "\n",
       "    .dataframe tbody tr th {\n",
       "        vertical-align: top;\n",
       "    }\n",
       "\n",
       "    .dataframe thead th {\n",
       "        text-align: right;\n",
       "    }\n",
       "</style>\n",
       "<table border=\"1\" class=\"dataframe\">\n",
       "  <thead>\n",
       "    <tr style=\"text-align: right;\">\n",
       "      <th></th>\n",
       "      <th>survival_predict</th>\n",
       "    </tr>\n",
       "  </thead>\n",
       "  <tbody>\n",
       "    <tr>\n",
       "      <th>0</th>\n",
       "      <td>1.0</td>\n",
       "    </tr>\n",
       "    <tr>\n",
       "      <th>1</th>\n",
       "      <td>1.0</td>\n",
       "    </tr>\n",
       "    <tr>\n",
       "      <th>2</th>\n",
       "      <td>0.0</td>\n",
       "    </tr>\n",
       "    <tr>\n",
       "      <th>3</th>\n",
       "      <td>1.0</td>\n",
       "    </tr>\n",
       "    <tr>\n",
       "      <th>4</th>\n",
       "      <td>0.0</td>\n",
       "    </tr>\n",
       "  </tbody>\n",
       "</table>\n",
       "</div>"
      ],
      "text/plain": [
       "   survival_predict\n",
       "0               1.0\n",
       "1               1.0\n",
       "2               0.0\n",
       "3               1.0\n",
       "4               0.0"
      ]
     },
     "execution_count": 47,
     "metadata": {},
     "output_type": "execute_result"
    }
   ],
   "source": [
    "# ======================================================================================================================\n",
    "rfc = RandomForestClassifier(n_estimators=200)\n",
    "rfc.fit(train_x,train_y)\n",
    "# print(clf.score(train_x, train_y))\n",
    "print(rfc.score(test_x, test_y))\n",
    "rfc_y_score = rfc.predict_proba(test_x)\n",
    "\n",
    "rfc_y_score = rfc.predict(data1)\n",
    "rfc_y = pd.DataFrame(rfc_y_score, columns = ['survival_predict'])\n",
    "print(type(rfc_y))\n",
    "rfc_y.head()\n",
    "# ======================================================================================================================\n"
   ]
  },
  {
   "cell_type": "code",
   "execution_count": 48,
   "metadata": {},
   "outputs": [
    {
     "name": "stdout",
     "output_type": "stream",
     "text": [
      "36\n"
     ]
    }
   ],
   "source": [
    "data_cash = pd.concat([data1, rfc_y], axis=1)\n",
    "data_cash.head()\n",
    "rfc_y.shape\n",
    "print(len(data_cash.columns))"
   ]
  },
  {
   "cell_type": "code",
   "execution_count": 49,
   "metadata": {},
   "outputs": [
    {
     "name": "stdout",
     "output_type": "stream",
     "text": [
      "Index(['acc_id', 'playtime', 'npc_kill', 'solo_exp', 'party_exp', 'quest_exp',\n",
      "       'rich_monster', 'death', 'revive', 'exp_recovery', 'fishing',\n",
      "       'private_shop', 'game_money_change', 'enchant_count', 'level',\n",
      "       'pledge_cnt', 'random_attacker_cnt', 'random_defender_cnt', 'temp_cnt',\n",
      "       'same_pledge_cnt', 'etc_cnt', 'num_opponent', 'amount_spent_pay',\n",
      "       'sell_item_cnt', 'buy_item_cnt', 'play_char_cnt', 'combat_char_cnt',\n",
      "       'pledge_combat_cnt', 'random_attacker_cnt_plg',\n",
      "       'random_defender_cnt_plg', 'same_pledge_cnt_plg', 'temp_cnt_plg',\n",
      "       'etc_cnt_plg', 'combat_play_time', 'non_combat_play_time',\n",
      "       'survival_predict', 'survival_time'],\n",
      "      dtype='object')\n",
      "(23463, 37) (21996, 37)\n",
      "(16537, 37) (18004, 37)\n"
     ]
    }
   ],
   "source": [
    "data_cash = data_cash.merge(survival_time, on='acc_id', how='inner')\n",
    "print(data_cash.columns)\n",
    "data_cash.shape\n",
    "print(data_cash[data_cash['survival_predict']==1].shape, data_cash[data_cash['survival_time']==64].shape)\n",
    "print(data_cash[data_cash['survival_predict']==0].shape, data_cash[data_cash['survival_time']<64].shape)"
   ]
  },
  {
   "cell_type": "markdown",
   "metadata": {},
   "source": [
    "# 1~64로 랜덤포레스트 예측 해보기"
   ]
  },
  {
   "cell_type": "code",
   "execution_count": 57,
   "metadata": {
    "scrolled": true
   },
   "outputs": [
    {
     "name": "stderr",
     "output_type": "stream",
     "text": [
      "C:\\Users\\CPB06GameN\\Anaconda3\\lib\\site-packages\\pandas\\core\\frame.py:4097: SettingWithCopyWarning: \n",
      "A value is trying to be set on a copy of a slice from a DataFrame\n",
      "\n",
      "See the caveats in the documentation: http://pandas.pydata.org/pandas-docs/stable/user_guide/indexing.html#returning-a-view-versus-a-copy\n",
      "  errors=errors,\n"
     ]
    }
   ],
   "source": [
    "# data_cash_yes = data_cash\n",
    "# data_cash_yes.columns\n",
    "\n",
    "data_cash_yes = data[['combat_play_time','death','enchant_count','etc_cnt',\n",
    "          'etc_cnt_plg','exp_recovery','level','non_combat_play_time',\n",
    "          'num_opponent','party_exp','play_char_cnt','pledge_combat_cnt',\n",
    "          'private_shop','quest_exp','random_attacker_cnt','random_attacker_cnt_plg',\n",
    "          'random_defender_cnt','random_defender_cnt_plg','same_pledge_cnt_plg',\n",
    "          'sell_item_cnt','temp_cnt','temp_cnt_plg','survival_time']]\n",
    "\n",
    "# [data_cash['survival_predict']==0]\n",
    "y_data = [[i] for i in data_cash_yes['survival_time'].tolist() ]\n",
    "y= y_data \n",
    "\n",
    "data_cash_yes.drop(['survival_time'], axis=1, inplace=True)\n",
    "\n",
    "x_data = [ data_cash_yes.iloc[i,:].tolist() for i in range(len(data_cash_yes.index.values))]\n",
    "X = x_data\n",
    "\n",
    "from sklearn.model_selection import train_test_split\n",
    "\n",
    "x_train, X_test, y_train, y_test = train_test_split(X, y, test_size = 1/3, random_state = 70) #42\n",
    "\n",
    "# multi_variable_linear_regression.py\n",
    "# 4"
   ]
  },
  {
   "cell_type": "code",
   "execution_count": 58,
   "metadata": {
    "scrolled": true
   },
   "outputs": [
    {
     "name": "stderr",
     "output_type": "stream",
     "text": [
      "C:\\Users\\CPB06GameN\\Anaconda3\\lib\\site-packages\\ipykernel_launcher.py:10: DataConversionWarning: A column-vector y was passed when a 1d array was expected. Please change the shape of y to (n_samples,), for example using ravel().\n",
      "  # Remove the CWD from sys.path while we load stuff.\n"
     ]
    },
    {
     "name": "stdout",
     "output_type": "stream",
     "text": [
      "[64. 64. 64. ... 64. 64. 64.]\n",
      "[[64.0], [64.0], [64.0], [64.0], [8.0], [15.0], [17.0], [64.0], [9.0], [64.0], [64.0], [15.0], [64.0], [64.0], [64.0], [8.0], [10.0], [64.0], [64.0], [42.0], [40.0], [29.0], [9.0], [64.0], [46.0], [64.0], [64.0], [64.0], [64.0], [32.0], [64.0], [22.0], [61.0], [64.0], [64.0], [64.0], [29.0], [64.0], [64.0], [64.0], [64.0], [64.0], [64.0], [64.0], [2.0], [19.0], [64.0], [42.0], [64.0], [4.0], [11.0], [64.0], [64.0], [19.0], [64.0], [32.0], [64.0], [64.0], [64.0], [64.0], [64.0], [64.0], [59.0], [41.0], [30.0], [64.0], [64.0], [64.0], [64.0], [37.0], [12.0], [64.0], [7.0], [64.0], [4.0], [10.0], [64.0], [64.0], [64.0], [1.0], [55.0], [64.0], [64.0], [64.0], [32.0], [24.0], [59.0], [64.0], [3.0], [29.0], [64.0], [64.0], [3.0], [4.0], [25.0], [64.0], [64.0], [64.0], [64.0], [64.0], [64.0], [5.0], [64.0], [37.0], [3.0], [19.0], [36.0], [64.0], [64.0], [64.0], [32.0], [17.0], [64.0], [13.0], [64.0], [19.0], [64.0], [64.0], [3.0], [64.0], [64.0], [64.0], [8.0], [8.0], [64.0], [64.0], [64.0], [64.0], [64.0], [64.0], [64.0], [64.0], [64.0], [17.0], [58.0], [64.0], [38.0], [64.0], [39.0], [64.0], [56.0], [64.0], [8.0], [8.0], [13.0], [64.0], [64.0], [64.0], [64.0], [64.0], [64.0], [30.0], [29.0], [64.0], [29.0], [64.0], [22.0], [64.0], [64.0], [24.0], [64.0], [52.0], [64.0], [1.0], [51.0], [64.0], [1.0], [12.0], [29.0], [22.0], [25.0], [64.0], [64.0], [64.0], [64.0], [29.0], [64.0], [64.0], [64.0], [64.0], [64.0], [64.0], [64.0], [18.0], [64.0], [19.0], [8.0], [8.0], [2.0], [27.0], [64.0], [64.0], [31.0], [64.0], [64.0], [29.0], [36.0], [64.0], [64.0], [62.0], [64.0], [18.0], [47.0], [14.0], [22.0], [13.0], [64.0], [31.0], [8.0], [64.0], [64.0], [39.0], [64.0], [29.0], [64.0], [64.0], [26.0], [50.0], [10.0], [64.0], [64.0], [39.0], [64.0], [64.0], [64.0], [23.0], [64.0], [19.0], [64.0], [29.0], [64.0], [4.0], [46.0], [64.0], [64.0], [20.0], [2.0], [64.0], [25.0], [64.0], [64.0], [64.0], [64.0], [52.0], [64.0], [41.0], [64.0], [64.0], [23.0], [64.0], [52.0], [64.0], [20.0], [8.0], [18.0], [8.0], [64.0], [64.0], [16.0], [64.0], [64.0], [64.0], [64.0], [64.0], [64.0], [64.0], [64.0], [64.0], [64.0], [3.0], [64.0], [11.0], [64.0], [64.0], [3.0], [64.0], [23.0], [11.0], [64.0], [64.0], [44.0], [64.0], [64.0], [29.0], [64.0], [64.0], [64.0], [64.0], [64.0], [41.0], [64.0], [9.0], [64.0], [64.0], [64.0], [23.0], [15.0], [36.0], [22.0], [4.0], [2.0], [59.0], [9.0], [64.0], [64.0], [64.0], [8.0], [64.0], [64.0], [5.0], [64.0], [26.0], [31.0], [64.0], [64.0], [64.0], [4.0], [64.0], [64.0], [64.0], [22.0], [34.0], [25.0], [27.0], [64.0], [25.0], [15.0], [22.0], [1.0], [8.0], [8.0], [64.0], [64.0], [64.0], [64.0], [64.0], [17.0], [40.0], [64.0], [64.0], [1.0], [64.0], [64.0], [4.0], [45.0], [64.0], [64.0], [61.0], [3.0], [64.0], [64.0], [59.0], [64.0], [53.0], [4.0], [64.0], [10.0], [13.0], [64.0], [64.0], [64.0], [64.0], [64.0], [64.0], [8.0], [64.0], [64.0], [64.0], [64.0], [27.0], [64.0], [64.0], [2.0], [64.0], [64.0], [64.0], [64.0], [4.0], [57.0], [36.0], [64.0], [64.0], [2.0], [64.0], [17.0], [64.0], [64.0], [64.0], [64.0], [8.0], [64.0], [56.0], [64.0], [4.0], [1.0], [64.0], [46.0], [64.0], [2.0], [64.0], [11.0], [39.0], [64.0], [8.0], [34.0], [3.0], [64.0], [64.0], [64.0], [64.0], [35.0], [23.0], [64.0], [64.0], [64.0], [64.0], [36.0], [64.0], [64.0], [64.0], [64.0], [29.0], [64.0], [64.0], [64.0], [9.0], [64.0], [64.0], [4.0], [64.0], [9.0], [18.0], [29.0], [34.0], [64.0], [64.0], [21.0], [64.0], [59.0], [64.0], [1.0], [64.0], [29.0], [6.0], [16.0], [64.0], [46.0], [36.0], [60.0], [64.0], [36.0], [26.0], [64.0], [5.0], [6.0], [29.0], [64.0], [64.0], [16.0], [50.0], [64.0], [47.0], [64.0], [64.0], [64.0], [3.0], [64.0], [64.0], [14.0], [64.0], [64.0], [64.0], [8.0], [64.0], [64.0], [13.0], [64.0], [11.0], [64.0], [1.0], [3.0], [10.0], [64.0], [29.0], [64.0], [58.0], [64.0], [64.0], [64.0], [2.0], [64.0], [64.0], [29.0], [48.0], [20.0], [7.0], [64.0], [64.0], [64.0], [64.0], [18.0], [64.0], [31.0], [64.0], [5.0], [64.0], [59.0], [17.0], [64.0], [64.0], [64.0], [64.0], [49.0], [64.0], [64.0], [64.0], [64.0], [32.0], [29.0], [64.0], [3.0], [31.0], [15.0], [3.0], [1.0], [64.0], [37.0], [9.0], [30.0], [64.0], [64.0], [64.0], [64.0], [64.0], [10.0], [22.0], [61.0], [64.0], [64.0], [64.0], [64.0], [50.0], [64.0], [64.0], [64.0], [64.0], [64.0], [64.0], [46.0], [4.0], [64.0], [64.0], [64.0], [64.0], [64.0], [4.0], [64.0], [64.0], [64.0], [64.0], [36.0], [34.0], [15.0], [59.0], [64.0], [64.0], [64.0], [64.0], [36.0], [3.0], [13.0], [2.0], [64.0], [64.0], [64.0], [2.0], [64.0], [64.0], [64.0], [3.0], [64.0], [29.0], [33.0], [64.0], [54.0], [11.0], [64.0], [64.0], [10.0], [25.0], [3.0], [3.0], [64.0], [22.0], [22.0], [64.0], [64.0], [64.0], [37.0], [36.0], [34.0], [54.0], [64.0], [46.0], [64.0], [64.0], [64.0], [33.0], [64.0], [64.0], [64.0], [64.0], [64.0], [30.0], [16.0], [64.0], [33.0], [64.0], [64.0], [45.0], [52.0], [64.0], [11.0], [7.0], [51.0], [64.0], [64.0], [64.0], [64.0], [64.0], [34.0], [32.0], [64.0], [64.0], [64.0], [64.0], [64.0], [26.0], [64.0], [64.0], [1.0], [64.0], [21.0], [3.0], [64.0], [64.0], [64.0], [64.0], [64.0], [64.0], [4.0], [21.0], [64.0], [64.0], [10.0], [2.0], [64.0], [64.0], [2.0], [4.0], [64.0], [64.0], [64.0], [64.0], [64.0], [64.0], [30.0], [54.0], [6.0], [64.0], [64.0], [64.0], [64.0], [10.0], [18.0], [64.0], [49.0], [64.0], [10.0], [64.0], [64.0], [64.0], [2.0], [64.0], [32.0], [64.0], [1.0], [19.0], [29.0], [40.0], [64.0], [64.0], [55.0], [64.0], [64.0], [64.0], [64.0], [57.0], [64.0], [64.0], [19.0], [42.0], [35.0], [7.0], [13.0], [17.0], [29.0], [1.0], [64.0], [33.0], [57.0], [64.0], [41.0], [64.0], [8.0], [15.0], [64.0], [64.0], [64.0], [64.0], [29.0], [14.0], [18.0], [64.0], [64.0], [64.0], [1.0], [44.0], [8.0], [64.0], [64.0], [24.0], [64.0], [64.0], [44.0], [64.0], [64.0], [56.0], [64.0], [64.0], [64.0], [18.0], [36.0], [3.0], [64.0], [64.0], [64.0], [64.0], [64.0], [30.0], [64.0], [64.0], [64.0], [64.0], [8.0], [8.0], [64.0], [14.0], [64.0], [11.0], [64.0], [64.0], [64.0], [11.0], [64.0], [29.0], [22.0], [8.0], [27.0], [4.0], [6.0], [64.0], [64.0], [64.0], [4.0], [40.0], [64.0], [64.0], [20.0], [64.0], [22.0], [39.0], [64.0], [64.0], [64.0], [17.0], [31.0], [37.0], [64.0], [64.0], [1.0], [23.0], [25.0], [64.0], [57.0], [2.0], [29.0], [56.0], [27.0], [64.0], [64.0], [32.0], [64.0], [36.0], [11.0], [64.0], [34.0], [64.0], [39.0], [64.0], [32.0], [64.0], [22.0], [64.0], [4.0], [64.0], [64.0], [64.0], [64.0], [64.0], [64.0], [64.0], [64.0], [64.0], [12.0], [64.0], [64.0], [3.0], [64.0], [64.0], [20.0], [64.0], [8.0], [64.0], [5.0], [8.0], [64.0], [64.0], [64.0], [56.0], [64.0], [15.0], [64.0], [64.0], [64.0], [49.0], [33.0], [3.0], [64.0], [33.0], [15.0], [64.0], [64.0], [64.0], [22.0], [64.0], [64.0], [60.0], [41.0], [2.0], [12.0], [8.0], [64.0], [38.0], [8.0], [25.0], [64.0], [64.0], [20.0], [3.0], [64.0], [44.0], [64.0], [64.0], [64.0], [64.0], [64.0], [64.0], [23.0], [64.0], [64.0], [29.0], [10.0], [57.0], [64.0], [64.0], [38.0], [64.0], [37.0], [21.0], [1.0], [64.0], [21.0], [16.0], [64.0], [64.0], [64.0], [27.0], [64.0], [29.0], [64.0], [50.0], [39.0], [64.0], [27.0], [43.0], [5.0], [64.0], [64.0], [14.0], [64.0], [64.0], [64.0], [64.0], [64.0], [64.0], [64.0], [64.0], [29.0], [23.0], [4.0], [16.0], [64.0], [64.0], [64.0], [64.0], [64.0], [64.0], [62.0], [64.0], [13.0], [64.0], [29.0], [3.0], [8.0], [64.0], [29.0], [8.0], [25.0], [2.0], [8.0], [64.0], [64.0], [64.0], [64.0], [14.0], [64.0], [64.0], [22.0], [64.0], [64.0], [64.0], [29.0], [15.0], [64.0], [64.0], [60.0], [64.0], [64.0], [64.0], [8.0], [64.0], [41.0], [64.0], [64.0], [64.0], [23.0], [64.0], [64.0], [16.0], [64.0], [43.0], [49.0], [64.0], [64.0], [36.0], [64.0], [16.0], [1.0], [18.0], [64.0], [64.0], [64.0], [64.0], [13.0], [64.0], [64.0], [64.0], [15.0], [1.0], [27.0], [64.0], [64.0], [4.0], [18.0], [64.0], [64.0], [64.0], [12.0], [64.0], [64.0], [64.0], [25.0], [12.0], [12.0], [29.0], [22.0], [64.0], [4.0], [1.0], [64.0], [19.0], [14.0], [64.0], [38.0], [28.0], [64.0], [64.0], [12.0], [31.0], [37.0], [64.0], [3.0], [64.0], [33.0], [64.0], [64.0], [64.0], [64.0], [64.0], [48.0], [64.0], [64.0], [64.0], [64.0], [33.0], [23.0], [64.0], [15.0], [1.0], [64.0], [64.0], [36.0], [64.0], [64.0], [64.0], [64.0], [55.0], [17.0], [64.0], [64.0], [29.0], [64.0], [64.0], [1.0], [48.0], [36.0], [64.0], [22.0], [64.0], [64.0], [64.0], [64.0], [10.0], [4.0], [13.0], [60.0], [64.0], [64.0], [4.0], [64.0], [23.0], [64.0], [64.0], [64.0], [64.0], [64.0], [64.0], [64.0], [8.0], [44.0], [3.0], [18.0], [64.0], [58.0], [2.0], [39.0], [64.0], [64.0], [64.0], [64.0], [64.0], [5.0], [10.0], [31.0], [4.0], [23.0], [64.0], [64.0], [64.0], [5.0], [8.0], [64.0], [64.0], [64.0], [64.0], [11.0], [8.0], [6.0], [26.0], [31.0], [15.0], [64.0], [11.0], [64.0], [64.0], [64.0], [64.0], [64.0], [64.0], [64.0], [54.0], [1.0], [64.0], [58.0], [64.0], [64.0], [29.0], [21.0], [64.0], [24.0], [64.0], [26.0], [64.0], [64.0], [64.0], [1.0], [64.0], [29.0], [27.0], [30.0], [64.0], [64.0], [64.0], [64.0], [51.0], [64.0], [26.0], [1.0], [1.0], [4.0], [39.0], [64.0], [64.0], [60.0], [3.0], [4.0], [64.0], [64.0], [40.0], [64.0], [64.0], [64.0], [27.0], [64.0], [4.0], [1.0], [64.0], [64.0], [64.0], [64.0], [64.0], [64.0], [61.0], [64.0], [36.0], [64.0], [64.0], [64.0], [64.0], [32.0], [3.0], [64.0], [64.0], [22.0], [64.0], [39.0], [64.0], [64.0], [64.0], [64.0], [64.0], [64.0], [64.0], [64.0], [22.0], [64.0], [64.0], [64.0], [50.0], [64.0], [64.0], [4.0], [2.0], [29.0], [60.0], [64.0], [64.0], [1.0], [64.0], [64.0], [11.0], [64.0], [64.0], [52.0], [49.0], [4.0], [3.0], [64.0], [64.0], [8.0], [64.0], [22.0], [16.0], [64.0], [23.0], [64.0], [64.0], [44.0], [1.0], [39.0], [17.0], [19.0], [64.0], [4.0], [64.0], [64.0], [64.0], [31.0], [64.0], [64.0], [64.0], [64.0], [54.0], [64.0], [64.0], [64.0], [64.0], [64.0], [58.0], [64.0], [23.0], [53.0], [52.0], [64.0], [64.0], [19.0], [64.0], [64.0], [64.0], [64.0], [64.0], [22.0], [29.0], [64.0], [64.0], [1.0], [16.0], [64.0], [2.0], [64.0], [64.0], [12.0], [64.0], [37.0], [64.0], [64.0], [64.0], [29.0], [41.0], [64.0], [64.0], [64.0], [64.0], [64.0], [29.0], [11.0], [22.0], [1.0], [64.0], [64.0], [64.0], [64.0], [64.0], [64.0], [16.0], [8.0], [35.0], [64.0], [64.0], [64.0], [64.0], [64.0], [8.0], [64.0], [52.0], [64.0], [1.0], [64.0], [64.0], [64.0], [55.0], [64.0], [61.0], [44.0], [23.0], [4.0], [37.0], [64.0], [64.0], [64.0], [64.0], [28.0], [64.0], [64.0], [64.0], [19.0], [29.0], [37.0], [64.0], [64.0], [29.0], [64.0], [4.0], [18.0], [64.0], [4.0], [6.0], [10.0], [54.0], [57.0], [21.0], [64.0], [1.0], [64.0], [64.0], [36.0], [8.0], [64.0], [64.0], [64.0], [40.0], [45.0], [64.0], [64.0], [64.0], [14.0], [63.0], [64.0], [56.0], [3.0], [35.0], [3.0], [64.0], [36.0], [1.0], [64.0], [64.0], [9.0], [3.0], [26.0], [45.0], [64.0], [64.0], [64.0], [59.0], [41.0], [44.0], [64.0], [1.0], [3.0], [64.0], [64.0], [64.0], [64.0], [13.0], [46.0], [64.0], [64.0], [64.0], [64.0], [42.0], [34.0], [27.0], [64.0], [64.0], [22.0], [64.0], [64.0], [64.0], [64.0], [64.0], [17.0], [64.0], [15.0], [64.0], [64.0], [64.0], [8.0], [64.0], [15.0], [40.0], [23.0], [64.0], [64.0], [64.0], [64.0], [20.0], [64.0], [29.0], [52.0], [64.0], [4.0], [64.0], [2.0], [17.0], [64.0], [64.0], [64.0], [1.0], [26.0], [64.0], [10.0], [64.0], [64.0], [33.0], [22.0], [64.0], [64.0], [11.0], [64.0], [64.0], [64.0], [64.0], [64.0], [40.0], [17.0], [39.0], [64.0], [64.0], [64.0], [64.0], [10.0], [9.0], [64.0], [64.0], [64.0], [62.0], [64.0], [62.0], [64.0], [64.0], [64.0], [64.0], [64.0], [64.0], [7.0], [64.0], [10.0], [1.0], [64.0], [64.0], [64.0], [22.0], [64.0], [64.0], [64.0], [29.0], [64.0], [10.0], [8.0], [3.0], [64.0], [64.0], [64.0], [8.0], [41.0], [64.0], [64.0], [64.0], [15.0], [64.0], [64.0], [64.0], [22.0], [2.0], [64.0], [40.0], [64.0], [52.0], [64.0], [19.0], [64.0], [2.0], [64.0], [64.0], [64.0], [64.0], [30.0], [64.0], [4.0], [64.0], [64.0], [64.0], [64.0], [64.0], [64.0], [64.0], [60.0], [64.0], [64.0], [64.0], [64.0], [64.0], [64.0], [64.0], [57.0], [64.0], [8.0], [64.0], [21.0], [10.0], [64.0], [64.0], [64.0], [48.0], [64.0], [64.0], [19.0], [27.0], [64.0], [64.0], [64.0], [64.0], [5.0], [64.0], [64.0], [64.0], [30.0], [8.0], [64.0], [64.0], [64.0], [25.0], [64.0], [64.0], [50.0], [64.0], [2.0], [64.0], [64.0], [15.0], [2.0], [64.0], [64.0], [64.0], [64.0], [29.0], [49.0], [64.0], [64.0], [64.0], [21.0], [64.0], [64.0], [64.0], [64.0], [4.0], [26.0], [64.0], [55.0], [64.0], [64.0], [64.0], [24.0], [64.0], [29.0], [22.0], [12.0], [64.0], [64.0], [61.0], [64.0], [64.0], [1.0], [64.0], [64.0], [64.0], [19.0], [21.0], [62.0], [40.0], [27.0], [64.0], [64.0], [59.0], [64.0], [64.0], [64.0], [64.0], [64.0], [64.0], [3.0], [64.0], [8.0], [4.0], [64.0], [64.0], [58.0], [24.0], [64.0], [54.0], [22.0], [46.0], [64.0], [1.0], [50.0], [8.0], [64.0], [6.0], [64.0], [60.0], [64.0], [1.0], [31.0], [64.0], [47.0], [15.0], [64.0], [9.0], [64.0], [64.0], [64.0], [64.0], [64.0], [64.0], [64.0], [64.0], [22.0], [22.0], [2.0], [20.0], [64.0], [43.0], [12.0], [64.0], [64.0], [13.0], [1.0], [59.0], [1.0], [64.0], [64.0], [1.0], [53.0], [10.0], [64.0], [10.0], [64.0], [64.0], [16.0], [19.0], [9.0], [64.0], [64.0], [64.0], [36.0], [64.0], [35.0], [64.0], [29.0], [64.0], [64.0], [64.0], [54.0], [64.0], [64.0], [64.0], [17.0], [23.0], [23.0], [64.0], [50.0], [64.0], [50.0], [33.0], [64.0], [8.0], [8.0], [33.0], [64.0], [64.0], [58.0], [64.0], [64.0], [1.0], [8.0], [64.0], [19.0], [64.0], [64.0], [64.0], [64.0], [48.0], [23.0], [34.0], [48.0], [4.0], [50.0], [18.0], [64.0], [33.0], [46.0], [64.0], [64.0], [64.0], [1.0], [53.0], [64.0], [64.0], [7.0], [24.0], [18.0], [64.0], [10.0], [40.0], [29.0], [64.0], [64.0], [64.0], [28.0], [64.0], [14.0], [64.0], [41.0], [64.0], [29.0], [15.0], [64.0], [64.0], [64.0], [41.0], [4.0], [3.0], [64.0], [64.0], [4.0], [64.0], [46.0], [64.0], [2.0], [55.0], [11.0], [38.0], [18.0], [64.0], [37.0], [64.0], [32.0], [64.0], [29.0], [64.0], [64.0], [3.0], [64.0], [16.0], [29.0], [36.0], [64.0], [21.0], [64.0], [39.0], [64.0], [64.0], [64.0], [15.0], [64.0], [17.0], [29.0], [29.0], [51.0], [64.0], [64.0], [64.0], [41.0], [25.0], [64.0], [64.0], [3.0], [39.0], [8.0], [7.0], [45.0], [3.0], [52.0], [41.0], [64.0], [64.0], [64.0], [31.0], [64.0], [64.0], [37.0], [64.0], [21.0], [64.0], [34.0], [64.0], [64.0], [64.0], [29.0], [64.0], [64.0], [59.0], [64.0], [64.0], [29.0], [39.0], [64.0], [18.0], [8.0], [25.0], [64.0], [64.0], [64.0], [64.0], [63.0], [64.0], [64.0], [64.0], [64.0], [5.0], [22.0], [43.0], [64.0], [64.0], [14.0], [64.0], [15.0], [64.0], [64.0], [64.0], [1.0], [64.0], [64.0], [29.0], [64.0], [2.0], [64.0], [64.0], [64.0], [64.0], [8.0], [31.0], [2.0], [2.0], [64.0], [8.0], [64.0], [22.0], [39.0], [64.0], [64.0], [29.0], [64.0], [64.0], [6.0], [64.0], [64.0], [64.0], [64.0], [64.0], [23.0], [64.0], [64.0], [64.0], [3.0], [16.0], [64.0], [64.0], [8.0], [24.0], [36.0], [3.0], [10.0], [64.0], [64.0], [6.0], [64.0], [64.0], [64.0], [64.0], [8.0], [64.0], [64.0], [64.0], [64.0], [64.0], [3.0], [29.0], [2.0], [29.0], [64.0], [10.0], [63.0], [44.0], [64.0], [64.0], [64.0], [55.0], [4.0], [23.0], [5.0], [45.0], [64.0], [64.0], [64.0], [64.0], [31.0], [64.0], [64.0], [64.0], [64.0], [22.0], [64.0], [64.0], [64.0], [64.0], [64.0], [41.0], [8.0], [29.0], [64.0], [64.0], [29.0], [29.0], [64.0], [2.0], [29.0], [17.0], [64.0], [64.0], [29.0], [4.0], [64.0], [9.0], [64.0], [64.0], [3.0], [64.0], [58.0], [64.0], [1.0], [64.0], [23.0], [64.0], [16.0], [64.0], [64.0], [64.0], [32.0], [1.0], [45.0], [64.0], [64.0], [64.0], [36.0], [60.0], [64.0], [49.0], [64.0], [64.0], [64.0], [64.0], [30.0], [64.0], [64.0], [29.0], [64.0], [36.0], [64.0], [64.0], [64.0], [17.0], [64.0], [64.0], [41.0], [64.0], [64.0], [64.0], [64.0], [64.0], [64.0], [5.0], [1.0], [64.0], [64.0], [64.0], [57.0], [64.0], [64.0], [64.0], [64.0], [64.0], [8.0], [64.0], [64.0], [64.0], [64.0], [64.0], [64.0], [15.0], [64.0], [64.0], [64.0], [64.0], [64.0], [64.0], [64.0], [61.0], [64.0], [64.0], [64.0], [64.0], [64.0], [64.0], [29.0], [64.0], [64.0], [29.0], [64.0], [64.0], [64.0], [64.0], [16.0], [64.0], [7.0], [64.0], [29.0], [17.0], [64.0], [21.0], [64.0], [12.0], [8.0], [14.0], [64.0], [32.0], [64.0], [29.0], [54.0], [29.0], [64.0], [36.0], [24.0], [64.0], [64.0], [64.0], [8.0], [22.0], [55.0], [21.0], [64.0], [3.0], [8.0], [24.0], [49.0], [1.0], [22.0], [64.0], [64.0], [32.0], [7.0], [64.0], [64.0], [64.0], [64.0], [64.0], [46.0], [64.0], [64.0], [11.0], [8.0], [64.0], [64.0], [22.0], [7.0], [10.0], [3.0], [46.0], [64.0], [64.0], [17.0], [26.0], [23.0], [6.0], [43.0], [14.0], [64.0], [29.0], [64.0], [64.0], [64.0], [14.0], [64.0], [10.0], [64.0], [54.0], [64.0], [64.0], [64.0], [3.0], [64.0], [34.0], [64.0], [29.0], [64.0], [64.0], [64.0], [64.0], [64.0], [64.0], [4.0], [64.0], [64.0], [64.0], [64.0], [64.0], [33.0], [44.0], [64.0], [64.0], [64.0], [64.0], [19.0], [64.0], [14.0], [32.0], [11.0], [64.0], [9.0], [64.0], [40.0], [35.0], [1.0], [64.0], [64.0], [64.0], [17.0], [7.0], [64.0], [44.0], [29.0], [22.0], [64.0], [10.0], [64.0], [64.0], [64.0], [39.0], [64.0], [64.0], [15.0], [64.0], [64.0], [64.0], [8.0], [64.0], [64.0], [15.0], [64.0], [64.0], [64.0], [13.0], [2.0], [20.0], [64.0], [64.0], [64.0], [1.0], [64.0], [4.0], [64.0], [4.0], [29.0], [64.0], [64.0], [29.0], [64.0], [1.0], [29.0], [57.0], [64.0], [41.0], [57.0], [64.0], [64.0], [64.0], [21.0], [49.0], [8.0], [17.0], [42.0], [64.0], [64.0], [8.0], [7.0], [64.0], [64.0], [3.0], [64.0], [4.0], [64.0], [32.0], [64.0], [64.0], [64.0], [4.0], [10.0], [22.0], [2.0], [8.0], [1.0], [64.0], [64.0], [22.0], [21.0], [46.0], [1.0], [64.0], [5.0], [64.0], [64.0], [61.0], [29.0], [5.0], [3.0], [64.0], [31.0], [27.0], [1.0], [42.0], [40.0], [64.0], [35.0], [22.0], [64.0], [64.0], [64.0], [44.0], [64.0], [64.0], [64.0], [55.0], [54.0], [64.0], [64.0], [64.0], [64.0], [64.0], [29.0], [64.0], [64.0], [60.0], [64.0], [64.0], [64.0], [29.0], [64.0], [29.0], [1.0], [64.0], [59.0], [22.0], [4.0], [64.0], [5.0], [64.0], [64.0], [64.0], [64.0], [64.0], [64.0], [64.0], [64.0], [64.0], [43.0], [64.0], [64.0], [34.0], [1.0], [48.0], [64.0], [64.0], [64.0], [50.0], [49.0], [64.0], [64.0], [64.0], [64.0], [64.0], [9.0], [33.0], [39.0], [64.0], [64.0], [64.0], [64.0], [16.0], [64.0], [64.0], [64.0], [14.0], [8.0], [49.0], [64.0], [64.0], [64.0], [64.0], [4.0], [64.0], [64.0], [20.0], [28.0], [64.0], [64.0], [3.0], [64.0], [64.0], [4.0], [26.0], [64.0], [14.0], [30.0], [64.0], [23.0], [64.0], [64.0], [14.0], [29.0], [64.0], [64.0], [64.0], [64.0], [8.0], [64.0], [64.0], [63.0], [31.0], [64.0], [64.0], [64.0], [64.0], [64.0], [64.0], [64.0], [13.0], [64.0], [1.0], [64.0], [7.0], [64.0], [21.0], [8.0], [64.0], [2.0], [64.0], [64.0], [64.0], [64.0], [64.0], [64.0], [64.0], [19.0], [2.0], [8.0], [46.0], [30.0], [64.0], [8.0], [64.0], [58.0], [64.0], [64.0], [64.0], [64.0], [8.0], [64.0], [11.0], [50.0], [64.0], [40.0], [64.0], [64.0], [64.0], [15.0], [64.0], [64.0], [59.0], [64.0], [25.0], [24.0], [8.0], [64.0], [64.0], [64.0], [55.0], [1.0], [64.0], [64.0], [64.0], [64.0], [64.0], [64.0], [64.0], [54.0], [15.0], [39.0], [64.0], [64.0], [64.0], [64.0], [64.0], [15.0], [64.0], [64.0], [64.0], [51.0], [64.0], [64.0], [64.0], [24.0], [46.0], [29.0], [64.0], [64.0], [20.0], [64.0], [64.0], [39.0], [22.0], [50.0], [64.0], [21.0], [21.0], [64.0], [2.0], [57.0], [64.0], [7.0], [64.0], [63.0], [64.0], [64.0], [37.0], [64.0], [2.0], [45.0], [1.0], [64.0], [37.0], [64.0], [64.0], [10.0], [29.0], [15.0], [64.0], [8.0], [64.0], [18.0], [64.0], [20.0], [18.0], [21.0], [64.0], [64.0], [64.0], [2.0], [64.0], [3.0], [64.0], [38.0], [64.0], [64.0], [30.0], [37.0], [64.0], [23.0], [64.0], [64.0], [18.0], [8.0], [35.0], [1.0], [64.0], [28.0], [35.0], [29.0], [64.0], [64.0], [11.0], [64.0], [64.0], [8.0], [23.0], [4.0], [64.0], [64.0], [64.0], [8.0], [64.0], [6.0], [46.0], [64.0], [64.0], [64.0], [64.0], [64.0], [8.0], [64.0], [10.0], [64.0], [13.0], [29.0], [57.0], [64.0], [62.0], [64.0], [28.0], [23.0], [64.0], [16.0], [22.0], [64.0], [22.0], [64.0], [64.0], [14.0], [64.0], [64.0], [1.0], [64.0], [64.0], [64.0], [64.0], [23.0], [64.0], [64.0], [64.0], [64.0], [22.0], [54.0], [64.0], [29.0], [29.0], [64.0], [64.0], [54.0], [7.0], [17.0], [64.0], [46.0], [64.0], [12.0], [64.0], [64.0], [10.0], [8.0], [23.0], [64.0], [32.0], [64.0], [64.0], [64.0], [64.0], [40.0], [1.0], [24.0], [27.0], [22.0], [23.0], [39.0], [64.0], [64.0], [64.0], [64.0], [64.0], [41.0], [18.0], [9.0], [64.0], [45.0], [64.0], [64.0], [27.0], [51.0], [10.0], [10.0], [8.0], [64.0], [64.0], [64.0], [29.0], [59.0], [64.0], [64.0], [64.0], [64.0], [29.0], [51.0], [8.0], [64.0], [26.0], [9.0], [64.0], [64.0], [53.0], [64.0], [64.0], [64.0], [64.0], [64.0], [64.0], [3.0], [64.0], [64.0], [64.0], [63.0], [64.0], [40.0], [64.0], [64.0], [28.0], [64.0], [64.0], [2.0], [1.0], [3.0], [23.0], [64.0], [4.0], [64.0], [64.0], [64.0], [64.0], [64.0], [64.0], [64.0], [64.0], [9.0], [8.0], [32.0], [64.0], [64.0], [64.0], [64.0], [64.0], [64.0], [64.0], [64.0], [64.0], [64.0], [8.0], [64.0], [64.0], [64.0], [64.0], [58.0], [64.0], [2.0], [8.0], [64.0], [3.0], [64.0], [64.0], [64.0], [64.0], [39.0], [64.0], [64.0], [24.0], [64.0], [64.0], [64.0], [64.0], [64.0], [64.0], [3.0], [64.0], [64.0], [29.0], [64.0], [64.0], [64.0], [64.0], [10.0], [28.0], [64.0], [64.0], [10.0], [64.0], [28.0], [8.0], [64.0], [29.0], [64.0], [64.0], [36.0], [19.0], [22.0], [64.0], [64.0], [64.0], [6.0], [64.0], [64.0], [64.0], [1.0], [64.0], [1.0], [29.0], [64.0], [9.0], [64.0], [11.0], [8.0], [64.0], [64.0], [64.0], [64.0], [64.0], [8.0], [64.0], [64.0], [64.0], [64.0], [1.0], [26.0], [64.0], [64.0], [6.0], [34.0], [64.0], [64.0], [44.0], [58.0], [64.0], [16.0], [64.0], [64.0], [3.0], [64.0], [29.0], [64.0], [16.0], [8.0], [64.0], [64.0], [64.0], [64.0], [55.0], [64.0], [64.0], [1.0], [1.0], [64.0], [64.0], [64.0], [29.0], [1.0], [1.0], [22.0], [64.0], [64.0], [64.0], [64.0], [64.0], [64.0], [64.0], [64.0], [64.0], [17.0], [64.0], [38.0], [64.0], [20.0], [64.0], [64.0], [64.0], [64.0], [40.0], [58.0], [64.0], [64.0], [64.0], [64.0], [64.0], [64.0], [64.0], [1.0], [64.0], [40.0], [64.0], [64.0], [11.0], [22.0], [64.0], [64.0], [41.0], [9.0], [64.0], [64.0], [64.0], [64.0], [64.0], [21.0], [64.0], [64.0], [64.0], [64.0], [8.0], [64.0], [64.0], [64.0], [10.0], [64.0], [41.0], [64.0], [64.0], [36.0], [64.0], [1.0], [1.0], [26.0], [29.0], [21.0], [8.0], [64.0], [13.0], [29.0], [64.0], [64.0], [64.0], [64.0], [64.0], [64.0], [64.0], [15.0], [1.0], [5.0], [64.0], [64.0], [13.0], [64.0], [64.0], [64.0], [44.0], [64.0], [64.0], [64.0], [27.0], [40.0], [64.0], [18.0], [64.0], [64.0], [18.0], [64.0], [64.0], [64.0], [64.0], [64.0], [64.0], [29.0], [57.0], [12.0], [64.0], [1.0], [8.0], [64.0], [64.0], [8.0], [8.0], [64.0], [64.0], [64.0], [39.0], [19.0], [64.0], [32.0], [4.0], [64.0], [4.0], [29.0], [64.0], [64.0], [26.0], [64.0], [29.0], [1.0], [64.0], [29.0], [15.0], [64.0], [64.0], [64.0], [64.0], [29.0], [64.0], [64.0], [64.0], [64.0], [44.0], [31.0], [64.0], [64.0], [8.0], [18.0], [10.0], [1.0], [64.0], [26.0], [64.0], [64.0], [64.0], [3.0], [56.0], [11.0], [13.0], [8.0], [64.0], [64.0], [21.0], [1.0], [22.0], [64.0], [64.0], [56.0], [64.0], [5.0], [64.0], [64.0], [34.0], [64.0], [3.0], [64.0], [9.0], [1.0], [24.0], [8.0], [64.0], [64.0], [6.0], [6.0], [22.0], [64.0], [64.0], [10.0], [23.0], [4.0], [64.0], [9.0], [50.0], [10.0], [64.0], [64.0], [64.0], [64.0], [64.0], [64.0], [64.0], [64.0], [23.0], [50.0], [64.0], [64.0], [47.0], [32.0], [64.0], [64.0], [7.0], [30.0], [64.0], [64.0], [64.0], [64.0], [64.0], [64.0], [64.0], [13.0], [64.0], [29.0], [13.0], [29.0], [64.0], [4.0], [64.0], [64.0], [64.0], [64.0], [15.0], [29.0], [48.0], [64.0], [29.0], [64.0], [64.0], [8.0], [64.0], [26.0], [6.0], [3.0], [3.0], [29.0], [21.0], [64.0], [17.0], [36.0], [64.0], [64.0], [64.0], [19.0], [5.0], [23.0], [52.0], [64.0], [64.0], [64.0], [10.0], [64.0], [64.0], [17.0], [19.0], [64.0], [64.0], [64.0], [9.0], [64.0], [29.0], [23.0], [63.0], [64.0], [64.0], [8.0], [33.0], [29.0], [64.0], [12.0], [19.0], [64.0], [64.0], [63.0], [8.0], [64.0], [64.0], [22.0], [64.0], [10.0], [58.0], [64.0], [37.0], [64.0], [64.0], [64.0], [48.0], [64.0], [44.0], [64.0], [64.0], [64.0], [64.0], [64.0], [64.0], [64.0], [64.0], [1.0], [64.0], [64.0], [28.0], [29.0], [64.0], [1.0], [64.0], [64.0], [8.0], [64.0], [22.0], [64.0], [64.0], [62.0], [64.0], [64.0], [64.0], [12.0], [64.0], [64.0], [64.0], [17.0], [22.0], [64.0], [3.0], [24.0], [8.0], [29.0], [64.0], [64.0], [64.0], [64.0], [7.0], [1.0], [64.0], [64.0], [1.0], [64.0], [64.0], [64.0], [64.0], [8.0], [64.0], [64.0], [64.0], [64.0], [15.0], [64.0], [64.0], [33.0], [64.0], [64.0], [64.0], [64.0], [12.0], [64.0], [64.0], [46.0], [8.0], [64.0], [64.0], [1.0], [6.0], [64.0], [64.0], [64.0], [52.0], [18.0], [64.0], [64.0], [29.0], [61.0], [64.0], [64.0], [29.0], [15.0], [29.0], [34.0], [64.0], [15.0], [64.0], [64.0], [28.0], [35.0], [35.0], [64.0], [8.0], [20.0], [64.0], [5.0], [64.0], [17.0], [64.0], [64.0], [64.0], [16.0], [64.0], [39.0], [43.0], [64.0], [64.0], [16.0], [18.0], [57.0], [64.0], [64.0], [64.0], [8.0], [54.0], [64.0], [64.0], [64.0], [64.0], [64.0], [24.0], [53.0], [3.0], [64.0], [64.0], [27.0], [12.0], [1.0], [7.0], [64.0], [64.0], [35.0], [64.0], [18.0], [23.0], [18.0], [20.0], [64.0], [64.0], [64.0], [64.0], [64.0], [64.0], [23.0], [64.0], [34.0], [64.0], [8.0], [64.0], [64.0], [50.0], [64.0], [64.0], [1.0], [8.0], [42.0], [1.0], [19.0], [22.0], [64.0], [64.0], [64.0], [59.0], [28.0], [64.0], [64.0], [64.0], [9.0], [29.0], [64.0], [1.0], [4.0], [37.0], [64.0], [64.0], [18.0], [64.0], [46.0], [64.0], [64.0], [10.0], [64.0], [64.0], [42.0], [64.0], [23.0], [64.0], [29.0], [64.0], [52.0], [23.0], [64.0], [1.0], [64.0], [64.0], [17.0], [64.0], [64.0], [64.0], [10.0], [64.0], [1.0], [56.0], [64.0], [16.0], [64.0], [45.0], [64.0], [64.0], [64.0], [64.0], [17.0], [64.0], [36.0], [64.0], [64.0], [64.0], [64.0], [64.0], [31.0], [64.0], [64.0], [39.0], [16.0], [64.0], [29.0], [23.0], [64.0], [64.0], [17.0], [64.0], [64.0], [10.0], [64.0], [64.0], [64.0], [46.0], [64.0], [64.0], [35.0], [64.0], [28.0], [4.0], [64.0], [64.0], [64.0], [3.0], [64.0], [64.0], [1.0], [12.0], [17.0], [29.0], [20.0], [64.0], [64.0], [12.0], [64.0], [40.0], [64.0], [64.0], [56.0], [3.0], [39.0], [42.0], [55.0], [64.0], [4.0], [64.0], [64.0], [29.0], [64.0], [54.0], [64.0], [5.0], [64.0], [20.0], [64.0], [64.0], [64.0], [15.0], [3.0], [64.0], [64.0], [64.0], [18.0], [64.0], [29.0], [64.0], [36.0], [29.0], [64.0], [8.0], [24.0], [64.0], [64.0], [64.0], [64.0], [64.0], [18.0], [8.0], [15.0], [64.0], [57.0], [6.0], [61.0], [37.0], [23.0], [64.0], [23.0], [64.0], [2.0], [64.0], [57.0], [35.0], [39.0], [23.0], [64.0], [64.0], [64.0], [64.0], [64.0], [29.0], [21.0], [21.0], [64.0], [64.0], [54.0], [64.0], [64.0], [13.0], [3.0], [64.0], [64.0], [64.0], [47.0], [64.0], [2.0], [37.0], [26.0], [62.0], [64.0], [29.0], [64.0], [64.0], [41.0], [22.0], [1.0], [9.0], [64.0], [3.0], [64.0], [64.0], [61.0], [64.0], [64.0], [26.0], [13.0], [64.0], [64.0], [46.0], [64.0], [15.0], [3.0], [64.0], [23.0], [14.0], [64.0], [64.0], [56.0], [23.0], [14.0], [64.0], [25.0], [64.0], [64.0], [26.0], [17.0], [29.0], [64.0], [64.0], [64.0], [60.0], [64.0], [7.0], [58.0], [64.0], [64.0], [64.0], [47.0], [64.0], [64.0], [64.0], [64.0], [64.0], [61.0], [64.0], [5.0], [3.0], [54.0], [64.0], [64.0], [5.0], [64.0], [64.0], [1.0], [64.0], [64.0], [35.0], [64.0], [24.0], [64.0], [64.0], [64.0], [18.0], [11.0], [64.0], [36.0], [64.0], [64.0], [8.0], [52.0], [64.0], [55.0], [64.0], [64.0], [64.0], [10.0], [64.0], [64.0], [40.0], [13.0], [64.0], [20.0], [64.0], [64.0], [36.0], [29.0], [58.0], [64.0], [36.0], [64.0], [64.0], [20.0], [48.0], [45.0], [1.0], [18.0], [64.0], [64.0], [64.0], [3.0], [64.0], [22.0], [64.0], [64.0], [27.0], [64.0], [29.0], [64.0], [22.0], [64.0], [64.0], [23.0], [29.0], [61.0], [64.0], [64.0], [11.0], [8.0], [64.0], [8.0], [35.0], [45.0], [64.0], [24.0], [64.0], [25.0], [64.0], [64.0], [64.0], [64.0], [64.0], [10.0], [46.0], [64.0], [8.0], [64.0], [4.0], [42.0], [12.0], [64.0], [62.0], [64.0], [63.0], [15.0], [12.0], [3.0], [64.0], [64.0], [29.0], [24.0], [17.0], [25.0], [64.0], [64.0], [64.0], [64.0], [8.0], [64.0], [1.0], [64.0], [64.0], [5.0], [64.0], [64.0], [20.0], [26.0], [8.0], [12.0], [11.0], [64.0], [16.0], [64.0], [3.0], [7.0], [64.0], [64.0], [64.0], [64.0], [64.0], [64.0], [57.0], [64.0], [18.0], [12.0], [48.0], [64.0], [27.0], [39.0], [64.0], [64.0], [27.0], [64.0], [43.0], [20.0], [14.0], [64.0], [64.0], [10.0], [64.0], [64.0], [4.0], [4.0], [64.0], [64.0], [10.0], [64.0], [51.0], [45.0], [64.0], [64.0], [64.0], [40.0], [64.0], [64.0], [64.0], [64.0], [64.0], [36.0], [29.0], [64.0], [21.0], [64.0], [64.0], [64.0], [64.0], [64.0], [64.0], [46.0], [64.0], [64.0], [18.0], [64.0], [62.0], [1.0], [14.0], [64.0], [22.0], [64.0], [64.0], [64.0], [64.0], [4.0], [64.0], [64.0], [14.0], [64.0], [4.0], [3.0], [64.0], [41.0], [56.0], [57.0], [64.0], [64.0], [26.0], [17.0], [23.0], [2.0], [64.0], [64.0], [64.0], [64.0], [14.0], [64.0], [64.0], [8.0], [44.0], [1.0], [3.0], [1.0], [23.0], [64.0], [64.0], [50.0], [64.0], [35.0], [4.0], [64.0], [40.0], [40.0], [6.0], [64.0], [64.0], [29.0], [53.0], [29.0], [35.0], [1.0], [3.0], [64.0], [58.0], [64.0], [46.0], [64.0], [29.0], [64.0], [64.0], [46.0], [64.0], [64.0], [64.0], [17.0], [21.0], [10.0], [64.0], [64.0], [64.0], [64.0], [1.0], [64.0], [64.0], [22.0], [64.0], [6.0], [64.0], [57.0], [64.0], [10.0], [9.0], [64.0], [64.0], [64.0], [64.0], [64.0], [64.0], [3.0], [64.0], [7.0], [64.0], [64.0], [64.0], [64.0], [64.0], [64.0], [64.0], [64.0], [64.0], [64.0], [64.0], [64.0], [8.0], [15.0], [29.0], [64.0], [64.0], [64.0], [64.0], [25.0], [64.0], [64.0], [15.0], [64.0], [2.0], [64.0], [16.0], [64.0], [64.0], [64.0], [64.0], [1.0], [64.0], [28.0], [22.0], [64.0], [64.0], [64.0], [64.0], [64.0], [64.0], [64.0], [33.0], [64.0], [64.0], [64.0], [64.0], [10.0], [1.0], [5.0], [29.0], [8.0], [7.0], [1.0], [64.0], [64.0], [64.0], [7.0], [64.0], [64.0], [23.0], [36.0], [4.0], [4.0], [60.0], [18.0], [64.0], [64.0], [64.0], [64.0], [64.0], [64.0], [64.0], [21.0], [64.0], [2.0], [3.0], [64.0], [64.0], [64.0], [64.0], [64.0], [64.0], [31.0], [18.0], [3.0], [64.0], [64.0], [64.0], [6.0], [1.0], [56.0], [22.0], [64.0], [55.0], [11.0], [49.0], [64.0], [64.0], [39.0], [20.0], [26.0], [37.0], [58.0], [64.0], [1.0], [64.0], [64.0], [16.0], [64.0], [10.0], [64.0], [6.0], [64.0], [64.0], [64.0], [64.0], [31.0], [28.0], [64.0], [64.0], [64.0], [64.0], [49.0], [13.0], [1.0], [64.0], [22.0], [64.0], [64.0], [14.0], [48.0], [64.0], [18.0], [29.0], [64.0], [18.0], [49.0], [9.0], [64.0], [64.0], [64.0], [64.0], [64.0], [64.0], [3.0], [64.0], [64.0], [64.0], [6.0], [64.0], [17.0], [39.0], [64.0], [10.0], [3.0], [29.0], [17.0], [64.0], [64.0], [64.0], [64.0], [4.0], [64.0], [18.0], [32.0], [54.0], [34.0], [64.0], [64.0], [64.0], [64.0], [18.0], [18.0], [64.0], [64.0], [44.0], [18.0], [64.0], [64.0], [37.0], [64.0], [64.0], [62.0], [47.0], [64.0], [14.0], [16.0], [50.0], [64.0], [62.0], [45.0], [1.0], [64.0], [31.0], [2.0], [64.0], [56.0], [64.0], [49.0], [10.0], [64.0], [64.0], [64.0], [64.0], [64.0], [13.0], [64.0], [64.0], [22.0], [5.0], [37.0], [16.0], [29.0], [64.0], [64.0], [64.0], [64.0], [64.0], [23.0], [27.0], [8.0], [64.0], [64.0], [7.0], [64.0], [5.0], [41.0], [64.0], [64.0], [15.0], [64.0], [64.0], [64.0], [3.0], [64.0], [45.0], [64.0], [28.0], [2.0], [64.0], [1.0], [64.0], [64.0], [17.0], [64.0], [64.0], [64.0], [49.0], [64.0], [64.0], [64.0], [64.0], [64.0], [64.0], [2.0], [4.0], [28.0], [64.0], [2.0], [3.0], [64.0], [4.0], [64.0], [6.0], [64.0], [64.0], [64.0], [8.0], [64.0], [64.0], [19.0], [64.0], [64.0], [8.0], [64.0], [37.0], [64.0], [64.0], [64.0], [64.0], [33.0], [46.0], [64.0], [64.0], [15.0], [28.0], [2.0], [64.0], [64.0], [64.0], [42.0], [18.0], [36.0], [64.0], [64.0], [16.0], [64.0], [3.0], [57.0], [23.0], [29.0], [26.0], [64.0], [64.0], [26.0], [64.0], [34.0], [8.0], [64.0], [64.0], [64.0], [51.0], [29.0], [64.0], [64.0], [9.0], [22.0], [16.0], [49.0], [64.0], [64.0], [64.0], [15.0], [64.0], [14.0], [64.0], [36.0], [64.0], [64.0], [1.0], [2.0], [56.0], [64.0], [64.0], [36.0], [27.0], [64.0], [64.0], [29.0], [64.0], [55.0], [62.0], [12.0], [17.0], [64.0], [64.0], [2.0], [8.0], [64.0], [33.0], [64.0], [29.0], [64.0], [64.0], [64.0], [17.0], [64.0], [64.0], [55.0], [64.0], [64.0], [64.0], [8.0], [36.0], [64.0], [64.0], [64.0], [64.0], [29.0], [4.0], [64.0], [64.0], [31.0], [8.0], [40.0], [35.0], [30.0], [59.0], [62.0], [64.0], [64.0], [7.0], [64.0], [64.0], [53.0], [64.0], [64.0], [7.0], [47.0], [64.0], [8.0], [64.0], [64.0], [39.0], [4.0], [64.0], [64.0], [11.0], [29.0], [57.0], [64.0], [27.0], [64.0], [22.0], [64.0], [64.0], [64.0], [52.0], [64.0], [29.0], [64.0], [64.0], [64.0], [13.0], [11.0], [64.0], [64.0], [61.0], [8.0], [29.0], [4.0], [51.0], [64.0], [37.0], [17.0], [64.0], [54.0], [64.0], [64.0], [64.0], [2.0], [64.0], [64.0], [62.0], [64.0], [60.0], [64.0], [1.0], [8.0], [64.0], [64.0], [20.0], [42.0], [64.0], [1.0], [64.0], [64.0], [5.0], [4.0], [1.0], [64.0], [64.0], [2.0], [64.0], [64.0], [45.0], [35.0], [64.0], [64.0], [23.0], [64.0], [64.0], [64.0], [7.0], [40.0], [5.0], [64.0], [64.0], [64.0], [64.0], [64.0], [2.0], [4.0], [4.0], [64.0], [64.0], [64.0], [64.0], [1.0], [64.0], [64.0], [64.0], [62.0], [7.0], [22.0], [64.0], [29.0], [1.0], [64.0], [64.0], [31.0], [64.0], [5.0], [64.0], [64.0], [8.0], [52.0], [29.0], [64.0], [29.0], [64.0], [50.0], [1.0], [64.0], [27.0], [2.0], [10.0], [4.0], [20.0], [64.0], [64.0], [64.0], [52.0], [64.0], [64.0], [64.0], [64.0], [3.0], [8.0], [48.0], [2.0], [14.0], [4.0], [64.0], [64.0], [8.0], [10.0], [64.0], [64.0], [3.0], [7.0], [64.0], [29.0], [64.0], [64.0], [64.0], [64.0], [13.0], [64.0], [64.0], [29.0], [1.0], [37.0], [64.0], [28.0], [15.0], [64.0], [64.0], [64.0], [18.0], [64.0], [8.0], [64.0], [64.0], [36.0], [64.0], [64.0], [54.0], [38.0], [30.0], [64.0], [10.0], [13.0], [21.0], [33.0], [11.0], [64.0], [64.0], [64.0], [64.0], [3.0], [45.0], [64.0], [64.0], [64.0], [29.0], [21.0], [64.0], [23.0], [64.0], [64.0], [1.0], [5.0], [64.0], [8.0], [64.0], [64.0], [64.0], [64.0], [10.0], [25.0], [29.0], [64.0], [64.0], [64.0], [2.0], [64.0], [8.0], [12.0], [16.0], [1.0], [64.0], [9.0], [64.0], [64.0], [64.0], [29.0], [8.0], [64.0], [64.0], [21.0], [1.0], [64.0], [64.0], [64.0], [47.0], [64.0], [64.0], [8.0], [64.0], [64.0], [23.0], [8.0], [64.0], [64.0], [21.0], [43.0], [20.0], [64.0], [64.0], [64.0], [22.0], [2.0], [8.0], [8.0], [64.0], [44.0], [64.0], [64.0], [64.0], [36.0], [64.0], [64.0], [64.0], [10.0], [64.0], [1.0], [21.0], [64.0], [30.0], [64.0], [4.0], [11.0], [64.0], [15.0], [8.0], [29.0], [64.0], [64.0], [10.0], [64.0], [28.0], [64.0], [33.0], [58.0], [64.0], [40.0], [64.0], [64.0], [36.0], [64.0], [64.0], [64.0], [64.0], [64.0], [64.0], [64.0], [64.0], [20.0], [47.0], [64.0], [55.0], [64.0], [64.0], [52.0], [29.0], [6.0], [14.0], [11.0], [30.0], [64.0], [64.0], [64.0], [64.0], [64.0], [64.0], [1.0], [64.0], [64.0], [4.0], [64.0], [64.0], [64.0], [64.0], [64.0], [64.0], [64.0], [64.0], [39.0], [64.0], [6.0], [64.0], [2.0], [64.0], [22.0], [64.0], [64.0], [1.0], [29.0], [35.0], [64.0], [64.0], [52.0], [29.0], [64.0], [64.0], [64.0], [64.0], [64.0], [64.0], [64.0], [64.0], [64.0], [64.0], [64.0], [22.0], [64.0], [18.0], [8.0], [27.0], [64.0], [16.0], [1.0], [64.0], [9.0], [31.0], [8.0], [64.0], [23.0], [64.0], [23.0], [64.0], [16.0], [29.0], [17.0], [64.0], [22.0], [64.0], [2.0], [64.0], [2.0], [64.0], [64.0], [21.0], [13.0], [7.0], [29.0], [41.0], [64.0], [4.0], [64.0], [64.0], [64.0], [64.0], [64.0], [19.0], [8.0], [39.0], [33.0], [64.0], [64.0], [64.0], [27.0], [64.0], [5.0], [29.0], [64.0], [64.0], [28.0], [64.0], [8.0], [29.0], [37.0], [59.0], [8.0], [64.0], [26.0], [64.0], [64.0], [64.0], [64.0], [8.0], [64.0], [64.0], [31.0], [36.0], [51.0], [29.0], [64.0], [64.0], [27.0], [8.0], [2.0], [18.0], [64.0], [25.0], [38.0], [37.0], [64.0], [64.0], [23.0], [2.0], [25.0], [64.0], [26.0], [1.0], [49.0], [64.0], [11.0], [29.0], [64.0], [64.0], [64.0], [17.0], [64.0], [57.0], [47.0], [5.0], [64.0], [64.0], [64.0], [64.0], [2.0], [64.0], [64.0], [64.0], [34.0], [64.0], [64.0], [64.0], [64.0], [64.0], [64.0], [64.0], [29.0], [2.0], [64.0], [64.0], [64.0], [64.0], [43.0], [64.0], [64.0], [4.0], [9.0], [3.0], [64.0], [64.0], [44.0], [36.0], [64.0], [64.0], [57.0], [64.0], [64.0], [64.0], [17.0], [64.0], [9.0], [64.0], [37.0], [18.0], [64.0], [10.0], [64.0], [16.0], [64.0], [12.0], [64.0], [8.0], [29.0], [64.0], [58.0], [64.0], [64.0], [59.0], [64.0], [64.0], [64.0], [10.0], [64.0], [64.0], [64.0], [15.0], [51.0], [2.0], [64.0], [64.0], [64.0], [64.0], [29.0], [40.0], [64.0], [4.0], [64.0], [29.0], [64.0], [64.0], [8.0], [6.0], [64.0], [28.0], [17.0], [4.0], [64.0], [58.0], [64.0], [29.0], [64.0], [64.0], [64.0], [15.0], [27.0], [24.0], [6.0], [64.0], [62.0], [29.0], [9.0], [8.0], [10.0], [64.0], [52.0], [60.0], [64.0], [64.0], [64.0], [50.0], [64.0], [64.0], [64.0], [64.0], [23.0], [64.0], [64.0], [7.0], [49.0], [64.0], [64.0], [4.0], [29.0], [64.0], [54.0], [26.0], [64.0], [64.0], [58.0], [64.0], [36.0], [64.0], [29.0], [64.0], [64.0], [64.0], [64.0], [19.0], [64.0], [64.0], [64.0], [23.0], [29.0], [8.0], [16.0], [28.0], [64.0], [36.0], [3.0], [64.0], [37.0], [64.0], [64.0], [64.0], [22.0], [48.0], [64.0], [19.0], [64.0], [23.0], [64.0], [64.0], [64.0], [64.0], [7.0], [15.0], [59.0], [64.0], [64.0], [64.0], [64.0], [64.0], [64.0], [64.0], [64.0], [8.0], [63.0], [8.0], [24.0], [64.0], [64.0], [64.0], [25.0], [64.0], [64.0], [64.0], [64.0], [64.0], [15.0], [64.0], [64.0], [64.0], [64.0], [64.0], [64.0], [64.0], [64.0], [64.0], [64.0], [64.0], [64.0], [14.0], [64.0], [7.0], [64.0], [4.0], [64.0], [64.0], [64.0], [14.0], [17.0], [45.0], [64.0], [64.0], [18.0], [15.0], [64.0], [22.0], [64.0], [29.0], [64.0], [64.0], [24.0], [64.0], [64.0], [64.0], [57.0], [64.0], [64.0], [64.0], [29.0], [64.0], [9.0], [64.0], [22.0], [64.0], [29.0], [15.0], [64.0], [35.0], [6.0], [9.0], [64.0], [29.0], [64.0], [7.0], [29.0], [29.0], [20.0], [57.0], [64.0], [64.0], [1.0], [64.0], [64.0], [2.0], [64.0], [10.0], [64.0], [64.0], [64.0], [64.0], [8.0], [64.0], [55.0], [13.0], [22.0], [64.0], [64.0], [12.0], [9.0], [64.0], [64.0], [64.0], [64.0], [64.0], [64.0], [64.0], [64.0], [11.0], [64.0], [64.0], [48.0], [64.0], [39.0], [64.0], [5.0], [41.0], [64.0], [64.0], [64.0], [64.0], [23.0], [8.0], [64.0], [4.0], [64.0], [64.0], [22.0], [64.0], [64.0], [29.0], [64.0], [22.0], [36.0], [64.0], [64.0], [64.0], [9.0], [64.0], [52.0], [64.0], [64.0], [64.0], [64.0], [26.0], [20.0], [64.0], [64.0], [64.0], [64.0], [64.0], [64.0], [64.0], [64.0], [64.0], [64.0], [21.0], [64.0], [64.0], [64.0], [64.0], [44.0], [33.0], [61.0], [2.0], [64.0], [64.0], [40.0], [64.0], [64.0], [37.0], [64.0], [19.0], [64.0], [64.0], [64.0], [14.0], [64.0], [6.0], [4.0], [64.0], [64.0], [9.0], [64.0], [64.0], [63.0], [3.0], [29.0], [50.0], [11.0], [40.0], [15.0], [15.0], [36.0], [64.0], [35.0], [25.0], [64.0], [64.0], [62.0], [64.0], [48.0], [64.0], [22.0], [64.0], [23.0], [64.0], [64.0], [29.0], [64.0], [64.0], [45.0], [64.0], [64.0], [23.0], [4.0], [64.0], [64.0], [64.0], [4.0], [64.0], [30.0], [64.0], [3.0], [64.0], [64.0], [10.0], [64.0], [18.0], [64.0], [64.0], [64.0], [55.0], [64.0], [15.0], [64.0], [64.0], [64.0], [10.0], [64.0], [64.0], [64.0], [64.0], [64.0], [15.0], [64.0], [64.0], [7.0], [64.0], [64.0], [64.0], [64.0], [64.0], [64.0], [64.0], [64.0], [64.0], [57.0], [11.0], [64.0], [64.0], [23.0], [9.0], [64.0], [1.0], [1.0], [64.0], [1.0], [29.0], [64.0], [64.0], [64.0], [64.0], [64.0], [64.0], [64.0], [64.0], [53.0], [41.0], [64.0], [64.0], [64.0], [29.0], [64.0], [20.0], [64.0], [64.0], [1.0], [4.0], [64.0], [35.0], [20.0], [64.0], [15.0], [64.0], [64.0], [64.0], [64.0], [8.0], [64.0], [1.0], [64.0], [24.0], [64.0], [64.0], [4.0], [13.0], [64.0], [64.0], [64.0], [64.0], [64.0], [39.0], [64.0], [8.0], [64.0], [64.0], [9.0], [64.0], [64.0], [33.0], [64.0], [23.0], [64.0], [29.0], [64.0], [64.0], [64.0], [64.0], [64.0], [64.0], [64.0], [55.0], [51.0], [57.0], [18.0], [40.0], [64.0], [7.0], [64.0], [64.0], [64.0], [1.0], [64.0], [64.0], [21.0], [64.0], [64.0], [1.0], [1.0], [64.0], [23.0], [23.0], [52.0], [64.0], [44.0], [14.0], [39.0], [64.0], [64.0], [16.0], [64.0], [1.0], [64.0], [64.0], [15.0], [64.0], [64.0], [64.0], [64.0], [64.0], [3.0], [64.0], [64.0], [64.0], [1.0], [64.0], [44.0], [36.0], [64.0], [16.0], [64.0], [64.0], [64.0], [64.0], [64.0], [8.0], [64.0], [64.0], [24.0], [64.0], [56.0], [29.0], [64.0], [64.0], [64.0], [16.0], [64.0], [8.0], [30.0], [28.0], [27.0], [64.0], [64.0], [64.0], [10.0], [64.0], [18.0], [64.0], [57.0], [3.0], [64.0], [19.0], [64.0], [64.0], [58.0], [64.0], [64.0], [64.0], [64.0], [64.0], [64.0], [64.0], [1.0], [64.0], [64.0], [59.0], [57.0], [23.0], [64.0], [64.0], [64.0], [9.0], [26.0], [36.0], [64.0], [64.0], [18.0], [64.0], [30.0], [64.0], [64.0], [64.0], [64.0], [29.0], [25.0], [9.0], [16.0], [15.0], [64.0], [64.0], [64.0], [22.0], [64.0], [8.0], [29.0], [1.0], [64.0], [48.0], [64.0], [64.0], [64.0], [64.0], [8.0], [64.0], [64.0], [64.0], [18.0], [64.0], [8.0], [64.0], [64.0], [64.0], [64.0], [64.0], [4.0], [64.0], [64.0], [64.0], [23.0], [40.0], [64.0], [64.0], [64.0], [49.0], [64.0], [49.0], [14.0], [64.0], [64.0], [39.0], [64.0], [26.0], [32.0], [64.0], [64.0], [7.0], [64.0], [64.0], [64.0], [64.0], [13.0], [3.0], [2.0], [64.0], [64.0], [64.0], [9.0], [64.0], [64.0], [3.0], [3.0], [64.0], [64.0], [64.0], [20.0], [36.0], [64.0], [36.0], [57.0], [64.0], [64.0], [64.0], [36.0], [34.0], [60.0], [37.0], [40.0], [37.0], [3.0], [34.0], [64.0], [20.0], [57.0], [64.0], [29.0], [64.0], [64.0], [64.0], [64.0], [4.0], [64.0], [61.0], [64.0], [64.0], [33.0], [29.0], [35.0], [64.0], [64.0], [29.0], [64.0], [64.0], [64.0], [29.0], [64.0], [20.0], [39.0], [29.0], [64.0], [61.0], [64.0], [64.0], [64.0], [64.0], [2.0], [1.0], [17.0], [22.0], [64.0], [29.0], [23.0], [39.0], [3.0], [64.0], [22.0], [20.0], [64.0], [46.0], [49.0], [33.0], [64.0], [64.0], [64.0], [1.0], [64.0], [64.0], [64.0], [64.0], [3.0], [3.0], [64.0], [64.0], [64.0], [26.0], [64.0], [41.0], [47.0], [64.0], [29.0], [28.0], [39.0], [64.0], [41.0], [16.0], [64.0], [64.0], [9.0], [64.0], [64.0], [64.0], [64.0], [64.0], [64.0], [4.0], [29.0], [26.0], [61.0], [64.0], [64.0], [64.0], [12.0], [24.0], [3.0], [64.0], [29.0], [64.0], [64.0], [64.0], [64.0], [64.0], [64.0], [64.0], [16.0], [36.0], [64.0], [64.0], [64.0], [64.0], [64.0], [4.0], [29.0], [17.0], [58.0], [8.0], [36.0], [7.0], [64.0], [20.0], [20.0], [10.0], [64.0], [3.0], [21.0], [64.0], [32.0], [64.0], [58.0], [64.0], [9.0], [64.0], [4.0], [64.0], [64.0], [8.0], [64.0], [18.0], [31.0], [28.0], [29.0], [64.0], [29.0], [21.0], [64.0], [4.0], [64.0], [15.0], [8.0], [8.0], [25.0], [11.0], [64.0], [1.0], [64.0], [64.0], [57.0], [64.0], [64.0], [64.0], [36.0], [64.0], [4.0], [64.0], [64.0], [11.0], [64.0], [64.0], [26.0], [45.0], [49.0], [64.0], [4.0], [64.0], [29.0], [64.0], [20.0], [64.0], [64.0], [29.0], [7.0], [64.0], [64.0], [13.0], [2.0], [29.0], [64.0], [64.0], [64.0], [37.0], [64.0], [22.0], [64.0], [64.0], [64.0], [9.0], [8.0], [52.0], [1.0], [64.0], [15.0], [64.0], [11.0], [64.0], [64.0], [64.0], [64.0], [27.0], [64.0], [64.0], [64.0], [39.0], [64.0], [9.0], [64.0], [64.0], [4.0], [64.0], [3.0], [10.0], [31.0], [3.0], [64.0], [64.0], [36.0], [64.0], [7.0], [64.0], [39.0], [64.0], [64.0], [28.0], [18.0], [58.0], [9.0], [3.0], [8.0], [21.0], [42.0], [64.0], [14.0], [64.0], [16.0], [64.0], [1.0], [64.0], [10.0], [64.0], [64.0], [12.0], [64.0], [47.0], [29.0], [13.0], [64.0], [64.0], [4.0], [64.0], [64.0], [64.0], [64.0], [4.0], [24.0], [29.0], [64.0], [64.0], [64.0], [29.0], [64.0], [2.0], [56.0], [64.0], [64.0], [29.0], [64.0], [4.0], [64.0], [3.0], [17.0], [64.0], [64.0], [50.0], [64.0], [64.0], [64.0], [64.0], [64.0], [62.0], [64.0], [1.0], [64.0], [64.0], [64.0], [64.0], [64.0], [64.0], [64.0], [64.0], [64.0], [64.0], [64.0], [36.0], [64.0], [64.0], [64.0], [64.0], [56.0], [39.0], [64.0], [30.0], [29.0], [64.0], [64.0], [64.0], [45.0], [64.0], [64.0], [7.0], [20.0], [64.0], [64.0], [64.0], [64.0], [38.0], [36.0], [64.0], [29.0], [64.0], [64.0], [64.0], [61.0], [55.0], [64.0], [3.0], [33.0], [64.0], [64.0], [64.0], [64.0], [7.0], [64.0], [5.0], [10.0], [64.0], [64.0], [64.0], [3.0], [64.0], [64.0], [36.0], [64.0], [64.0], [12.0], [8.0], [64.0], [45.0], [35.0], [64.0], [64.0], [35.0], [64.0], [9.0], [12.0], [64.0], [36.0], [60.0], [60.0], [31.0], [34.0], [64.0], [64.0], [64.0], [64.0], [11.0], [64.0], [64.0], [40.0], [64.0], [64.0], [1.0], [64.0], [36.0], [57.0], [64.0], [64.0], [64.0], [64.0], [1.0], [64.0], [64.0], [21.0], [18.0], [64.0], [4.0], [12.0], [64.0], [3.0], [64.0], [64.0], [64.0], [18.0], [64.0], [3.0], [55.0], [64.0], [64.0], [64.0], [56.0], [64.0], [3.0], [64.0], [64.0], [64.0], [61.0], [64.0], [29.0], [64.0], [59.0], [64.0], [8.0], [64.0], [64.0], [50.0], [8.0], [3.0], [15.0], [61.0], [64.0], [64.0], [23.0], [18.0], [64.0], [29.0], [40.0], [32.0], [25.0], [64.0], [64.0], [64.0], [29.0], [29.0], [64.0], [64.0], [64.0], [64.0], [64.0], [64.0], [64.0], [16.0], [64.0], [18.0], [64.0], [64.0], [48.0], [1.0], [64.0], [20.0], [64.0], [64.0], [64.0], [1.0], [44.0], [28.0], [64.0], [64.0], [64.0], [64.0], [24.0], [64.0], [64.0], [23.0], [16.0], [64.0], [64.0], [64.0], [64.0], [64.0], [64.0], [12.0], [64.0], [64.0], [64.0], [23.0], [64.0], [64.0], [64.0], [28.0], [4.0], [57.0], [64.0], [13.0], [64.0], [64.0], [64.0], [9.0], [29.0], [64.0], [3.0], [58.0], [64.0], [64.0], [64.0], [64.0], [64.0], [18.0], [24.0], [28.0], [64.0], [64.0], [64.0], [64.0], [64.0], [4.0], [46.0], [23.0], [64.0], [64.0], [29.0], [1.0], [64.0], [64.0], [23.0], [64.0], [64.0], [64.0], [43.0], [4.0], [64.0], [5.0], [64.0], [64.0], [64.0], [64.0], [45.0], [9.0], [5.0], [24.0], [63.0], [64.0], [64.0], [64.0], [64.0], [64.0], [64.0], [1.0], [64.0], [50.0], [29.0], [64.0], [64.0], [10.0], [64.0], [64.0], [64.0], [64.0], [64.0], [64.0], [20.0], [2.0], [54.0], [64.0], [40.0], [9.0], [64.0], [56.0], [64.0], [64.0], [18.0], [64.0], [27.0], [64.0], [40.0], [64.0], [3.0], [1.0], [64.0], [64.0], [2.0], [64.0], [64.0], [1.0], [64.0], [64.0], [64.0], [1.0], [37.0], [64.0], [57.0], [64.0], [64.0], [64.0], [33.0], [29.0], [64.0], [64.0], [24.0], [64.0], [64.0], [6.0], [44.0], [64.0], [64.0], [8.0], [64.0], [64.0], [6.0], [15.0], [64.0], [64.0], [8.0], [64.0], [11.0], [64.0], [64.0], [64.0], [24.0], [64.0], [64.0], [64.0], [64.0], [64.0], [64.0], [64.0], [64.0], [15.0], [19.0], [64.0], [36.0], [64.0], [1.0], [28.0], [64.0], [58.0], [64.0], [57.0], [20.0], [64.0], [64.0], [64.0], [6.0], [11.0], [64.0], [64.0], [7.0], [8.0], [29.0], [64.0], [64.0], [1.0], [64.0], [56.0], [64.0], [6.0], [29.0], [64.0], [64.0], [64.0], [64.0], [1.0], [64.0], [40.0], [62.0], [64.0], [10.0], [15.0], [3.0], [64.0], [30.0], [64.0], [64.0], [64.0], [64.0], [64.0], [64.0], [64.0], [64.0], [64.0], [57.0], [64.0], [15.0], [63.0], [64.0], [64.0], [27.0], [64.0], [64.0], [40.0], [64.0], [64.0], [64.0], [6.0], [64.0], [64.0], [64.0], [4.0], [64.0], [8.0], [64.0], [64.0], [64.0], [64.0], [64.0], [29.0], [64.0], [8.0], [60.0], [56.0], [29.0], [64.0], [50.0], [59.0], [23.0], [33.0], [64.0], [9.0], [64.0], [64.0], [64.0], [57.0], [64.0], [54.0], [64.0], [15.0], [51.0], [64.0], [4.0], [64.0], [64.0], [64.0], [7.0], [64.0], [64.0], [64.0], [29.0], [64.0], [8.0], [64.0], [64.0], [64.0], [4.0], [64.0], [23.0], [64.0], [18.0], [64.0], [64.0], [64.0], [33.0], [11.0], [64.0], [64.0], [64.0], [64.0], [64.0], [29.0], [64.0], [64.0], [64.0], [64.0], [64.0], [40.0], [64.0], [15.0], [64.0], [64.0], [64.0], [44.0], [31.0], [21.0], [64.0], [64.0], [64.0], [37.0], [64.0], [64.0], [39.0], [64.0], [43.0], [8.0], [64.0], [64.0], [1.0], [34.0], [64.0], [5.0], [64.0], [64.0], [29.0], [10.0], [64.0], [64.0], [64.0], [64.0], [64.0], [10.0], [23.0], [64.0], [64.0], [64.0], [64.0], [64.0], [64.0], [64.0], [18.0], [31.0], [34.0], [8.0], [64.0], [11.0], [64.0], [51.0], [64.0], [34.0], [64.0], [22.0], [64.0], [64.0], [8.0], [64.0], [45.0], [64.0], [64.0], [64.0], [64.0], [1.0], [64.0], [64.0], [17.0], [39.0], [64.0], [2.0], [64.0], [64.0], [64.0], [3.0], [28.0], [64.0], [64.0], [2.0], [3.0], [64.0], [13.0], [7.0], [18.0], [64.0], [64.0], [64.0], [64.0], [36.0], [64.0], [40.0], [2.0], [32.0], [64.0], [64.0], [64.0], [64.0], [64.0], [2.0], [64.0], [4.0], [26.0], [16.0], [64.0], [1.0], [64.0], [36.0], [64.0], [29.0], [3.0], [23.0], [64.0], [56.0], [64.0], [64.0], [16.0], [64.0], [3.0], [64.0], [22.0], [64.0], [64.0], [64.0], [16.0], [20.0], [64.0], [64.0], [64.0], [64.0], [64.0], [16.0], [64.0], [2.0], [64.0], [64.0], [10.0], [64.0], [15.0], [64.0], [3.0], [24.0], [64.0], [61.0], [64.0], [1.0], [64.0], [64.0], [8.0], [64.0], [9.0], [64.0], [8.0], [64.0], [64.0], [21.0], [64.0], [64.0], [64.0], [31.0], [64.0], [64.0], [64.0], [2.0], [64.0], [8.0], [4.0], [31.0], [29.0], [64.0], [64.0], [64.0], [62.0], [64.0], [18.0], [40.0], [64.0], [39.0], [59.0], [64.0], [64.0], [64.0], [64.0], [64.0], [29.0], [3.0], [64.0], [64.0], [64.0], [25.0], [64.0], [37.0], [8.0], [64.0], [64.0], [64.0], [64.0], [7.0], [64.0], [64.0], [14.0], [64.0], [29.0], [64.0], [64.0], [64.0], [64.0], [10.0], [64.0], [39.0], [64.0], [1.0], [57.0], [23.0], [64.0], [64.0], [64.0], [64.0], [64.0], [28.0], [1.0], [64.0], [31.0], [29.0], [16.0], [64.0], [2.0], [21.0], [29.0], [64.0], [28.0], [64.0], [29.0], [64.0], [2.0], [64.0], [64.0], [64.0], [64.0], [17.0], [40.0], [64.0], [64.0], [36.0], [64.0], [50.0], [13.0], [61.0], [64.0], [3.0], [64.0], [64.0], [64.0], [23.0], [59.0], [5.0], [64.0], [13.0], [64.0], [40.0], [34.0], [64.0], [64.0], [5.0], [64.0], [27.0], [4.0], [64.0], [29.0], [15.0], [23.0], [29.0], [17.0], [64.0], [64.0], [29.0], [2.0], [16.0], [31.0], [64.0], [64.0], [64.0], [64.0], [54.0], [1.0], [37.0], [8.0], [64.0], [64.0], [29.0], [64.0], [64.0], [58.0], [64.0], [2.0], [64.0], [64.0], [64.0], [64.0], [64.0], [64.0], [64.0], [50.0], [64.0], [33.0], [39.0], [1.0], [64.0], [10.0], [64.0], [10.0], [51.0], [4.0], [64.0], [64.0], [64.0], [64.0], [64.0], [64.0], [29.0], [32.0], [64.0], [29.0], [64.0], [8.0], [22.0], [64.0], [64.0], [37.0], [64.0], [64.0], [64.0], [52.0], [29.0], [64.0], [64.0], [8.0], [29.0], [33.0], [64.0], [3.0], [55.0], [64.0], [64.0], [47.0], [64.0], [64.0], [64.0], [46.0], [39.0], [64.0], [64.0], [64.0], [64.0], [64.0], [64.0], [64.0], [64.0], [64.0], [64.0], [48.0], [64.0], [37.0], [64.0], [64.0], [8.0], [64.0], [64.0], [25.0], [4.0], [64.0], [64.0], [8.0], [64.0], [9.0], [64.0], [64.0], [64.0], [64.0], [64.0], [64.0], [64.0], [28.0], [64.0], [9.0], [64.0], [64.0], [47.0], [64.0], [64.0], [64.0], [64.0], [10.0], [64.0], [64.0], [64.0], [64.0], [64.0], [10.0], [64.0], [18.0], [24.0], [26.0], [64.0], [58.0], [64.0], [46.0], [12.0], [64.0], [29.0], [51.0], [31.0], [3.0], [64.0], [4.0], [64.0], [64.0], [25.0], [64.0], [64.0], [64.0], [1.0], [64.0], [1.0], [64.0], [64.0], [64.0], [64.0], [2.0], [29.0], [29.0], [64.0], [64.0], [64.0], [29.0], [64.0], [8.0], [64.0], [25.0], [64.0], [1.0], [48.0], [64.0], [64.0], [7.0], [22.0], [11.0], [64.0], [48.0], [16.0], [64.0], [64.0], [20.0], [64.0], [64.0], [8.0], [11.0], [64.0], [64.0], [64.0], [64.0], [17.0], [64.0], [64.0], [64.0], [7.0], [49.0], [64.0], [15.0], [64.0], [64.0], [8.0], [64.0], [8.0], [8.0], [27.0], [61.0], [22.0], [22.0], [8.0], [64.0], [64.0], [46.0], [22.0], [64.0], [64.0], [64.0], [64.0], [64.0], [64.0], [8.0], [4.0], [64.0], [64.0], [64.0], [64.0], [64.0], [4.0], [64.0], [8.0], [8.0], [64.0], [64.0], [64.0], [64.0], [64.0], [64.0], [64.0], [51.0], [64.0], [36.0], [47.0], [64.0], [64.0], [20.0], [64.0], [8.0], [23.0], [64.0], [64.0], [8.0], [64.0], [64.0], [64.0], [18.0], [64.0], [29.0], [64.0], [64.0], [64.0], [64.0], [42.0], [10.0], [29.0], [7.0], [64.0], [64.0], [8.0], [64.0], [64.0], [4.0], [8.0], [20.0], [64.0], [64.0], [64.0], [64.0], [39.0], [64.0], [6.0], [64.0], [64.0], [22.0], [64.0], [60.0], [4.0], [64.0], [63.0], [17.0], [61.0], [64.0], [64.0], [64.0], [64.0], [31.0], [64.0], [23.0], [64.0], [64.0], [64.0], [64.0], [64.0], [3.0], [64.0], [6.0], [64.0], [64.0], [47.0], [64.0], [64.0], [43.0], [1.0], [32.0], [4.0], [64.0], [64.0], [64.0], [64.0], [23.0], [64.0], [64.0], [16.0], [64.0], [64.0], [64.0], [35.0], [64.0], [64.0], [64.0], [64.0], [64.0], [43.0], [64.0], [3.0], [64.0], [1.0], [61.0], [64.0], [64.0], [64.0], [64.0], [64.0], [29.0], [64.0], [23.0], [64.0], [64.0], [64.0], [19.0], [1.0], [64.0], [28.0], [64.0], [64.0], [63.0], [64.0], [10.0], [64.0], [4.0], [1.0], [64.0], [11.0], [64.0], [12.0], [57.0], [64.0], [64.0], [64.0], [3.0], [64.0], [64.0], [23.0], [64.0], [11.0], [25.0], [37.0], [64.0], [22.0], [64.0], [64.0], [64.0], [64.0], [64.0], [64.0], [64.0], [64.0], [64.0], [64.0], [64.0], [64.0], [64.0], [64.0], [3.0], [64.0], [56.0], [31.0], [64.0], [13.0], [8.0], [64.0], [64.0], [2.0], [21.0], [64.0], [64.0], [64.0], [64.0], [64.0], [8.0], [52.0], [28.0], [16.0], [64.0], [64.0], [64.0], [18.0], [64.0], [10.0], [26.0], [4.0], [15.0], [1.0], [64.0], [64.0], [64.0], [64.0], [64.0], [14.0], [10.0], [64.0], [64.0], [64.0], [3.0], [64.0], [46.0], [64.0], [64.0], [64.0], [59.0], [49.0], [30.0], [7.0], [18.0], [64.0], [8.0], [21.0], [64.0], [9.0], [4.0], [64.0], [23.0], [18.0], [64.0], [64.0], [19.0], [29.0], [46.0], [64.0], [64.0], [64.0], [64.0], [64.0], [21.0], [64.0], [4.0], [64.0], [64.0], [64.0], [62.0], [29.0], [64.0], [64.0], [10.0], [17.0], [7.0], [3.0], [3.0], [36.0], [64.0], [64.0], [64.0], [52.0], [43.0], [64.0], [64.0], [18.0], [45.0], [23.0], [20.0], [1.0], [22.0], [2.0], [29.0], [43.0], [17.0], [29.0], [64.0], [64.0], [2.0], [64.0], [64.0], [1.0], [64.0], [64.0], [64.0], [64.0], [4.0], [64.0], [64.0], [64.0], [17.0], [3.0], [29.0], [3.0], [64.0], [41.0], [61.0], [7.0], [29.0], [64.0], [64.0], [64.0], [29.0], [64.0], [16.0], [9.0], [21.0], [29.0], [64.0], [64.0], [50.0], [55.0], [40.0], [64.0], [36.0], [64.0], [64.0], [34.0], [64.0], [29.0], [64.0], [19.0], [1.0], [64.0], [46.0], [64.0], [64.0], [64.0], [64.0], [1.0], [43.0], [8.0], [64.0], [37.0], [64.0], [64.0], [2.0], [64.0], [64.0], [53.0], [64.0], [56.0], [64.0], [64.0], [22.0], [64.0], [64.0], [64.0], [62.0], [64.0], [64.0], [64.0], [62.0], [19.0], [21.0], [18.0], [64.0], [31.0], [64.0], [64.0], [1.0], [27.0], [29.0], [55.0], [4.0], [4.0], [64.0], [64.0], [64.0], [64.0], [52.0], [2.0], [64.0], [64.0], [51.0], [64.0], [64.0], [64.0], [64.0], [64.0], [64.0], [19.0], [64.0], [36.0], [29.0], [10.0], [36.0], [64.0], [64.0], [64.0], [64.0], [64.0], [64.0], [64.0], [64.0], [27.0], [30.0], [8.0], [64.0], [64.0], [64.0], [37.0], [8.0], [32.0], [1.0], [64.0], [5.0], [16.0], [64.0], [64.0], [8.0], [8.0], [64.0], [38.0], [64.0], [7.0], [20.0], [64.0], [64.0], [64.0], [64.0], [50.0], [64.0], [64.0], [64.0], [64.0], [31.0], [29.0], [37.0], [8.0], [64.0], [18.0], [27.0], [64.0], [18.0], [64.0], [64.0], [26.0], [64.0], [64.0], [64.0], [57.0], [64.0], [64.0], [64.0], [64.0], [36.0], [64.0], [31.0], [64.0], [64.0], [34.0], [64.0], [64.0], [32.0], [64.0], [64.0], [14.0], [3.0], [64.0], [64.0], [64.0], [64.0], [64.0], [29.0], [39.0], [64.0], [64.0], [29.0], [64.0], [29.0], [9.0], [64.0], [9.0], [64.0], [64.0], [64.0], [64.0], [64.0], [64.0], [64.0], [64.0], [64.0], [64.0], [42.0], [64.0], [1.0], [64.0], [64.0], [36.0], [64.0], [64.0], [2.0], [64.0], [64.0], [64.0], [64.0], [64.0], [22.0], [64.0], [64.0], [64.0], [1.0], [37.0], [64.0], [4.0], [64.0], [35.0], [56.0], [64.0], [63.0], [64.0], [56.0], [22.0], [64.0], [14.0], [36.0], [7.0], [64.0], [64.0], [41.0], [20.0], [64.0], [64.0], [8.0], [22.0], [64.0], [64.0], [64.0], [23.0], [64.0], [8.0], [50.0], [64.0], [64.0], [64.0], [64.0], [64.0], [64.0], [64.0], [8.0], [64.0], [64.0], [3.0], [1.0], [64.0], [64.0], [64.0], [10.0], [8.0], [64.0], [28.0], [64.0], [64.0], [64.0], [24.0], [29.0], [57.0], [40.0], [8.0], [64.0], [4.0], [22.0], [64.0], [64.0], [3.0], [64.0], [46.0], [13.0], [64.0], [54.0], [64.0], [64.0], [52.0], [8.0], [64.0], [18.0], [64.0], [37.0], [61.0], [64.0], [10.0], [64.0], [19.0], [4.0], [11.0], [31.0], [64.0], [11.0], [64.0], [2.0], [5.0], [64.0], [34.0], [64.0], [64.0], [4.0], [64.0], [64.0], [44.0], [64.0], [64.0], [64.0], [3.0], [64.0], [37.0], [64.0], [55.0], [35.0], [30.0], [64.0], [64.0], [1.0], [29.0], [64.0], [29.0], [45.0], [14.0], [64.0], [64.0], [64.0], [7.0], [64.0], [11.0], [9.0], [64.0], [30.0], [56.0], [23.0], [22.0], [64.0], [15.0], [61.0], [64.0], [39.0], [36.0], [64.0], [64.0], [64.0], [20.0], [64.0], [64.0], [64.0], [6.0], [64.0], [64.0], [18.0], [64.0], [15.0], [64.0], [64.0], [64.0], [4.0], [24.0], [61.0], [64.0], [5.0], [45.0], [64.0], [9.0], [64.0], [43.0], [40.0], [64.0], [29.0], [64.0], [64.0], [34.0], [64.0], [64.0], [59.0], [27.0], [2.0], [17.0], [64.0], [64.0], [64.0], [5.0], [64.0], [14.0], [64.0], [22.0], [4.0], [4.0], [64.0], [64.0], [20.0], [6.0], [1.0], [64.0], [19.0], [36.0], [1.0], [17.0], [64.0], [1.0], [33.0], [29.0], [64.0], [64.0], [64.0], [64.0], [64.0], [64.0], [64.0], [54.0], [3.0], [27.0], [64.0], [64.0], [29.0], [18.0], [64.0], [64.0], [64.0], [8.0], [53.0], [64.0], [64.0], [29.0], [29.0], [1.0], [64.0], [3.0], [64.0], [64.0], [30.0], [64.0], [64.0], [64.0], [31.0], [64.0], [64.0], [29.0], [64.0], [64.0], [64.0], [23.0], [64.0], [64.0], [64.0], [33.0], [64.0], [64.0], [64.0], [64.0], [64.0], [64.0], [64.0], [64.0], [5.0], [51.0], [64.0], [64.0], [30.0], [18.0], [64.0], [39.0], [64.0], [64.0], [64.0], [64.0], [64.0], [4.0], [64.0], [24.0], [64.0], [25.0], [8.0], [11.0], [64.0], [43.0], [8.0], [29.0], [29.0], [64.0], [4.0], [8.0], [29.0], [64.0], [14.0], [64.0], [52.0], [6.0], [1.0], [64.0], [4.0], [64.0], [64.0], [64.0], [17.0], [29.0], [64.0], [64.0], [58.0], [33.0], [64.0], [23.0], [64.0], [31.0], [64.0], [64.0], [44.0], [64.0], [64.0], [64.0], [49.0], [64.0], [64.0], [64.0], [64.0], [64.0], [6.0], [64.0], [4.0], [64.0], [64.0], [20.0], [64.0], [64.0], [64.0], [64.0], [64.0], [19.0], [64.0], [64.0], [64.0], [64.0], [64.0], [18.0], [48.0], [64.0], [64.0], [64.0], [64.0], [64.0], [64.0], [64.0], [53.0], [64.0], [16.0], [64.0], [22.0], [64.0], [8.0], [32.0], [19.0], [64.0], [2.0], [64.0], [64.0], [55.0], [64.0], [8.0], [64.0], [1.0], [2.0], [10.0], [64.0], [41.0], [37.0], [21.0], [64.0], [4.0], [14.0], [64.0], [1.0], [64.0], [64.0], [64.0], [64.0], [64.0], [36.0], [64.0], [17.0], [10.0], [64.0], [27.0], [62.0], [20.0], [57.0], [64.0], [8.0], [64.0], [64.0], [7.0], [64.0], [22.0], [8.0], [64.0], [29.0], [60.0], [64.0], [64.0], [6.0], [64.0], [8.0], [64.0], [64.0], [64.0], [51.0], [3.0], [29.0], [64.0], [64.0], [8.0], [23.0], [64.0], [33.0], [64.0], [59.0], [33.0], [64.0], [64.0], [1.0], [18.0], [64.0], [64.0], [18.0], [1.0], [64.0], [64.0], [64.0], [12.0], [26.0], [64.0], [64.0], [64.0], [28.0], [64.0], [64.0], [3.0], [64.0], [17.0], [40.0], [20.0], [16.0], [1.0], [1.0], [16.0], [64.0], [64.0], [64.0], [64.0], [64.0], [64.0], [64.0], [64.0], [64.0], [1.0], [64.0], [10.0], [35.0], [5.0], [64.0], [64.0], [64.0], [50.0], [64.0], [26.0], [64.0], [64.0], [64.0], [36.0], [64.0], [4.0], [29.0], [64.0], [59.0], [41.0], [3.0], [64.0], [27.0], [64.0], [8.0], [64.0], [52.0], [64.0], [59.0], [40.0], [5.0], [29.0], [29.0], [64.0], [64.0], [64.0], [57.0], [24.0], [28.0], [15.0], [64.0], [64.0], [64.0], [64.0], [64.0], [64.0], [64.0], [64.0], [64.0], [26.0], [64.0], [2.0], [12.0], [64.0], [64.0], [64.0], [1.0], [15.0], [37.0], [39.0], [29.0], [3.0], [64.0], [16.0], [64.0], [56.0], [36.0], [64.0], [1.0], [64.0], [13.0], [20.0], [64.0], [64.0], [8.0], [18.0], [64.0], [26.0], [44.0], [64.0], [46.0], [64.0], [8.0], [10.0], [64.0], [64.0], [64.0], [64.0], [64.0], [39.0], [64.0], [64.0], [24.0], [64.0], [18.0], [5.0], [64.0], [31.0], [64.0], [31.0], [64.0], [64.0], [64.0], [64.0], [64.0], [2.0], [27.0], [46.0], [64.0], [64.0], [29.0], [22.0], [4.0], [64.0], [41.0], [3.0], [1.0], [7.0], [64.0], [61.0], [64.0], [3.0], [64.0], [8.0], [36.0], [64.0], [4.0], [64.0], [64.0], [7.0], [64.0], [64.0], [9.0], [64.0], [64.0], [64.0], [57.0], [64.0], [29.0], [64.0], [59.0], [37.0], [6.0], [64.0], [40.0], [1.0], [64.0], [16.0], [15.0], [64.0], [64.0], [64.0], [64.0], [64.0], [64.0], [64.0], [64.0], [64.0], [64.0], [64.0], [64.0], [8.0], [18.0], [64.0], [37.0], [64.0], [51.0], [64.0], [64.0], [9.0], [38.0], [3.0], [64.0], [60.0], [64.0], [64.0], [64.0], [22.0], [4.0], [3.0], [21.0], [8.0], [64.0], [24.0], [64.0], [23.0], [64.0], [64.0], [64.0], [46.0], [64.0], [18.0], [64.0], [64.0], [64.0], [5.0], [64.0], [8.0], [27.0], [64.0], [43.0], [15.0], [64.0], [64.0], [37.0], [64.0], [59.0], [64.0], [4.0], [64.0], [64.0], [10.0], [8.0], [64.0], [64.0], [14.0], [64.0], [64.0], [64.0], [64.0], [64.0], [18.0], [64.0], [64.0], [64.0], [20.0], [64.0], [28.0], [35.0], [64.0], [64.0], [64.0], [10.0], [9.0], [31.0], [64.0], [17.0], [9.0], [64.0], [64.0], [17.0], [64.0], [8.0], [64.0], [64.0], [64.0], [1.0], [64.0], [64.0], [64.0], [64.0], [6.0], [64.0], [32.0], [64.0], [64.0], [3.0], [31.0], [1.0], [1.0], [41.0], [64.0], [64.0], [47.0], [64.0], [64.0], [64.0], [64.0], [8.0], [64.0], [1.0], [64.0], [64.0], [4.0], [64.0], [29.0], [37.0], [1.0], [64.0], [64.0], [25.0], [8.0], [64.0], [64.0], [64.0], [64.0], [64.0], [64.0], [64.0], [64.0], [64.0], [64.0], [23.0], [36.0], [64.0], [3.0], [37.0], [23.0], [64.0], [13.0], [64.0], [64.0], [46.0], [64.0], [64.0], [64.0], [64.0], [28.0], [7.0], [16.0], [64.0], [37.0], [64.0], [64.0], [48.0], [64.0], [64.0], [64.0], [64.0], [29.0], [64.0], [64.0], [64.0], [64.0], [64.0], [64.0], [64.0], [36.0], [56.0], [4.0], [17.0], [64.0], [8.0], [1.0], [64.0], [64.0], [1.0], [29.0], [64.0], [22.0], [64.0], [64.0], [1.0], [64.0], [64.0], [57.0], [8.0], [64.0], [8.0], [64.0], [64.0], [64.0], [64.0], [61.0], [64.0], [20.0], [40.0], [64.0], [64.0], [29.0], [64.0], [64.0], [10.0], [23.0], [16.0], [47.0], [64.0], [64.0], [64.0], [64.0], [12.0], [63.0], [37.0], [61.0], [64.0], [64.0], [64.0], [8.0], [64.0], [14.0], [9.0], [37.0], [64.0], [22.0], [18.0], [64.0], [1.0], [64.0], [64.0], [64.0], [64.0], [64.0], [64.0], [29.0], [64.0], [29.0], [64.0], [11.0], [64.0], [41.0], [4.0], [64.0], [64.0], [64.0], [64.0], [64.0], [1.0], [64.0], [6.0], [64.0], [64.0], [64.0], [17.0], [64.0], [5.0], [64.0], [36.0], [64.0], [64.0], [50.0], [40.0], [1.0], [64.0], [8.0], [27.0], [57.0], [64.0], [64.0], [64.0], [19.0], [2.0], [28.0], [64.0], [64.0], [64.0], [64.0], [64.0], [64.0], [64.0], [40.0], [16.0], [20.0], [61.0], [58.0], [4.0], [64.0], [25.0], [18.0], [26.0], [64.0], [64.0], [32.0], [64.0], [64.0], [7.0], [3.0], [29.0], [44.0], [18.0], [64.0], [4.0], [64.0], [64.0], [18.0], [11.0], [64.0], [12.0], [2.0], [11.0], [64.0], [64.0], [64.0], [41.0], [64.0], [64.0], [4.0], [60.0], [22.0], [64.0], [64.0], [64.0], [64.0], [41.0], [64.0], [64.0], [7.0], [64.0], [4.0], [64.0], [17.0], [64.0], [64.0], [23.0], [64.0], [64.0], [64.0], [64.0], [29.0], [16.0], [64.0], [64.0], [64.0], [25.0], [64.0], [29.0], [20.0], [20.0], [64.0], [60.0], [64.0], [64.0], [64.0], [47.0], [8.0], [22.0], [64.0], [64.0], [29.0], [64.0], [1.0], [64.0], [64.0], [64.0], [64.0], [26.0], [4.0], [60.0], [7.0], [64.0], [64.0], [29.0], [64.0], [28.0], [36.0], [2.0], [41.0], [64.0], [8.0], [64.0], [64.0], [64.0], [64.0], [49.0], [64.0], [16.0], [64.0], [64.0], [64.0], [64.0], [4.0], [64.0], [29.0], [64.0], [64.0], [64.0], [61.0], [64.0], [64.0], [64.0], [64.0], [64.0], [60.0], [64.0], [61.0], [1.0], [64.0], [64.0], [39.0], [30.0], [62.0], [21.0], [22.0], [37.0], [61.0], [64.0], [19.0], [64.0], [64.0], [10.0], [64.0], [64.0], [21.0], [11.0], [64.0], [64.0], [64.0], [64.0], [64.0], [64.0], [64.0], [64.0], [64.0], [20.0], [64.0], [64.0], [64.0], [64.0], [64.0], [64.0], [64.0], [64.0], [64.0], [64.0], [22.0], [29.0], [64.0], [64.0], [64.0], [64.0], [64.0], [64.0], [44.0], [64.0], [54.0], [64.0], [64.0], [64.0], [64.0], [64.0], [64.0], [64.0], [64.0], [27.0], [64.0], [64.0], [64.0], [40.0], [64.0], [29.0], [21.0], [29.0], [64.0], [22.0], [64.0], [64.0], [13.0], [64.0], [64.0], [1.0], [64.0], [64.0], [64.0], [30.0], [64.0], [29.0], [40.0], [25.0], [8.0], [13.0], [28.0], [64.0], [1.0], [10.0], [64.0], [17.0], [35.0], [64.0], [64.0], [64.0], [64.0], [64.0], [64.0], [64.0], [64.0], [64.0], [4.0], [64.0], [64.0], [64.0], [64.0], [64.0], [64.0], [26.0], [64.0], [64.0], [64.0], [22.0], [21.0], [51.0], [29.0], [23.0], [10.0], [29.0], [64.0], [64.0], [64.0], [64.0], [46.0], [64.0], [12.0], [64.0], [64.0], [64.0], [64.0], [64.0], [64.0], [64.0], [64.0], [29.0], [64.0], [64.0], [3.0], [64.0], [8.0], [64.0], [64.0], [64.0], [64.0], [64.0], [14.0], [64.0], [64.0], [3.0], [39.0], [64.0], [64.0], [64.0], [64.0], [64.0], [64.0], [64.0], [64.0], [64.0], [64.0], [64.0], [64.0], [29.0], [29.0], [3.0], [52.0], [64.0], [56.0], [64.0], [62.0], [54.0], [63.0], [64.0], [53.0], [5.0], [43.0], [39.0], [64.0], [64.0], [64.0], [64.0], [64.0], [10.0], [64.0], [19.0], [64.0], [64.0], [64.0], [25.0], [63.0], [64.0], [3.0], [45.0], [42.0], [52.0], [64.0], [64.0], [64.0], [64.0], [28.0], [10.0], [64.0], [64.0], [15.0], [2.0], [64.0], [12.0], [19.0], [56.0], [64.0], [64.0], [64.0], [29.0], [25.0], [64.0], [40.0], [20.0], [62.0], [64.0], [64.0], [64.0], [1.0], [64.0], [64.0], [36.0], [64.0], [14.0], [64.0], [17.0], [64.0], [64.0], [64.0], [64.0], [10.0], [64.0], [3.0], [64.0], [64.0], [8.0], [1.0], [50.0], [64.0], [64.0], [64.0], [8.0], [6.0], [8.0], [4.0], [64.0], [39.0], [2.0], [64.0], [64.0], [1.0], [29.0], [64.0], [64.0], [64.0], [40.0], [8.0], [64.0], [59.0], [64.0], [3.0], [16.0], [64.0], [63.0], [64.0], [64.0], [16.0], [58.0], [2.0], [46.0], [64.0], [7.0], [64.0], [1.0], [57.0], [64.0], [64.0], [64.0], [64.0], [64.0], [64.0], [64.0], [64.0], [26.0], [17.0], [53.0], [13.0], [64.0], [64.0], [1.0], [64.0], [64.0], [64.0], [17.0], [64.0], [53.0], [64.0], [36.0], [64.0], [64.0], [40.0], [64.0], [14.0], [64.0], [54.0], [64.0], [22.0], [7.0], [64.0], [46.0], [64.0], [64.0], [64.0], [64.0], [1.0], [21.0], [47.0], [55.0], [37.0], [23.0], [3.0], [64.0], [54.0], [12.0], [54.0], [25.0], [64.0], [29.0], [64.0], [17.0], [64.0], [29.0], [64.0], [64.0], [64.0], [64.0], [43.0], [64.0], [55.0], [29.0], [64.0], [64.0], [64.0], [64.0], [64.0], [64.0], [5.0], [64.0], [6.0], [64.0], [14.0], [30.0], [8.0], [64.0], [64.0], [64.0], [22.0], [64.0], [64.0], [64.0], [4.0], [2.0], [64.0], [64.0], [64.0], [46.0], [64.0], [64.0], [27.0], [64.0], [3.0], [64.0], [12.0], [8.0], [16.0], [64.0], [1.0], [64.0], [64.0], [64.0], [1.0], [64.0], [64.0], [64.0], [29.0], [64.0], [11.0], [64.0], [64.0], [12.0], [64.0], [13.0], [33.0], [1.0], [11.0], [64.0], [64.0], [29.0], [64.0], [64.0], [22.0], [8.0], [55.0], [64.0], [9.0], [64.0], [23.0], [8.0], [8.0], [7.0], [64.0], [22.0], [64.0], [27.0], [64.0], [11.0], [3.0], [36.0], [64.0], [64.0], [13.0], [64.0], [51.0], [64.0], [64.0], [1.0], [7.0], [64.0], [64.0], [8.0], [64.0], [64.0], [64.0], [64.0], [8.0], [64.0], [21.0], [64.0], [64.0], [22.0], [4.0], [64.0], [64.0], [1.0], [64.0], [64.0], [39.0], [37.0], [51.0], [64.0], [3.0], [64.0], [30.0], [13.0], [64.0], [64.0], [9.0], [64.0], [64.0], [64.0], [64.0], [64.0], [64.0], [2.0], [64.0], [8.0], [19.0], [64.0], [64.0], [2.0], [49.0], [64.0], [64.0], [60.0], [64.0], [64.0], [4.0], [64.0], [44.0], [64.0], [8.0], [64.0], [25.0], [17.0], [64.0], [64.0], [64.0], [16.0], [64.0], [64.0], [64.0], [64.0], [64.0], [49.0], [1.0], [64.0], [21.0], [64.0], [22.0], [20.0], [64.0], [10.0], [54.0], [64.0], [27.0], [18.0], [16.0], [29.0], [64.0], [57.0], [60.0], [1.0], [64.0], [64.0], [58.0], [64.0], [64.0], [64.0], [18.0], [20.0], [10.0], [64.0], [61.0], [64.0], [64.0], [8.0], [50.0], [64.0], [15.0], [35.0], [64.0], [21.0], [64.0], [64.0], [64.0], [19.0], [57.0], [13.0], [37.0], [28.0], [26.0], [64.0], [64.0], [29.0], [64.0], [64.0], [64.0], [64.0], [64.0], [64.0], [64.0], [64.0], [64.0], [17.0], [64.0], [64.0], [64.0], [64.0], [64.0], [64.0], [64.0], [64.0], [15.0], [3.0], [3.0], [64.0], [64.0], [64.0], [64.0], [64.0], [64.0], [3.0], [18.0], [64.0], [64.0], [40.0], [64.0], [64.0], [64.0], [64.0], [22.0], [64.0], [22.0], [64.0], [21.0], [36.0], [1.0], [14.0], [64.0], [64.0], [64.0], [64.0], [64.0], [64.0], [4.0], [11.0], [64.0], [64.0], [64.0], [10.0], [10.0], [64.0], [20.0], [38.0], [21.0], [64.0], [57.0], [11.0], [30.0], [55.0], [64.0], [64.0], [64.0], [64.0], [12.0], [64.0], [51.0], [64.0], [64.0], [64.0], [64.0], [64.0], [8.0], [63.0], [64.0], [29.0], [64.0], [22.0], [64.0], [15.0], [29.0], [64.0], [15.0], [64.0], [42.0], [64.0], [64.0], [64.0], [64.0], [64.0], [64.0], [7.0], [14.0], [64.0], [64.0], [64.0], [13.0], [6.0], [64.0], [57.0], [18.0], [64.0], [54.0], [64.0], [1.0], [64.0], [29.0], [64.0], [64.0], [64.0], [64.0], [64.0], [8.0], [64.0], [64.0], [64.0], [64.0], [56.0], [64.0], [4.0], [64.0], [29.0], [8.0], [64.0], [3.0], [1.0], [8.0], [64.0], [64.0], [64.0], [29.0], [64.0], [64.0], [64.0], [64.0], [64.0], [64.0], [34.0], [11.0], [64.0], [2.0], [46.0], [64.0], [29.0], [64.0], [20.0], [64.0], [48.0], [20.0], [64.0], [64.0], [29.0], [56.0], [29.0], [64.0], [27.0], [24.0], [1.0], [60.0], [64.0], [4.0], [29.0], [48.0], [12.0], [10.0], [64.0], [64.0], [60.0], [18.0], [22.0], [34.0], [23.0], [1.0], [64.0], [49.0], [64.0], [32.0], [64.0], [64.0], [3.0], [31.0], [64.0], [4.0], [64.0], [29.0], [64.0], [36.0], [16.0], [8.0], [64.0], [64.0], [15.0], [11.0], [64.0], [64.0], [39.0], [64.0], [17.0], [64.0], [64.0], [64.0], [7.0], [32.0], [10.0], [64.0], [64.0], [3.0], [64.0], [31.0], [64.0], [64.0], [64.0], [34.0], [1.0], [3.0], [64.0], [64.0], [64.0], [64.0], [39.0], [64.0], [4.0], [6.0], [64.0], [64.0], [64.0], [64.0], [64.0], [8.0], [29.0], [64.0], [18.0], [64.0], [6.0], [21.0], [64.0], [36.0], [64.0], [64.0], [15.0], [64.0], [64.0], [64.0], [64.0], [64.0], [35.0], [64.0], [64.0], [58.0], [23.0], [27.0], [64.0], [64.0], [54.0], [64.0], [64.0], [4.0], [64.0], [10.0], [63.0], [64.0], [29.0], [16.0], [64.0], [64.0], [16.0], [64.0], [58.0], [20.0], [3.0], [8.0], [37.0], [64.0], [11.0], [64.0], [64.0], [13.0], [22.0], [64.0], [29.0], [20.0], [60.0], [15.0], [16.0], [2.0], [34.0], [64.0], [3.0], [64.0], [32.0], [64.0], [29.0], [12.0], [15.0], [64.0], [64.0], [7.0], [64.0], [62.0], [2.0], [8.0], [64.0], [23.0], [28.0], [64.0], [34.0], [64.0], [64.0], [64.0], [39.0], [8.0], [1.0], [64.0], [10.0], [64.0], [21.0], [64.0], [64.0], [29.0], [8.0], [19.0], [44.0], [28.0], [64.0], [64.0], [64.0], [64.0], [64.0], [64.0], [21.0], [44.0], [23.0], [35.0], [64.0], [64.0], [64.0], [64.0], [9.0], [28.0], [64.0], [7.0], [64.0], [64.0], [64.0], [64.0], [29.0], [51.0], [64.0], [64.0], [1.0], [30.0], [64.0], [64.0], [64.0], [64.0], [35.0], [14.0], [64.0], [8.0], [29.0], [64.0], [17.0], [64.0], [64.0], [30.0], [47.0], [2.0], [64.0], [64.0], [7.0], [64.0], [5.0], [63.0], [64.0], [64.0], [1.0], [64.0], [64.0], [64.0], [64.0], [29.0], [28.0], [16.0], [64.0], [64.0], [64.0], [51.0], [58.0], [64.0], [19.0], [40.0], [8.0], [64.0], [64.0], [64.0], [29.0], [21.0], [43.0], [64.0], [2.0], [1.0], [36.0], [64.0], [51.0], [64.0], [64.0], [64.0], [1.0], [2.0], [12.0], [64.0], [64.0], [30.0], [64.0], [60.0], [64.0], [27.0], [48.0], [64.0], [8.0], [64.0], [64.0], [64.0], [61.0], [64.0], [64.0], [3.0], [22.0], [64.0], [64.0], [8.0], [30.0], [64.0], [64.0], [64.0], [64.0], [64.0], [64.0], [64.0], [64.0], [43.0], [64.0], [64.0], [15.0], [8.0], [64.0], [8.0], [5.0], [16.0], [64.0], [64.0], [64.0], [9.0], [64.0], [64.0], [16.0], [8.0], [64.0], [64.0], [64.0], [64.0], [64.0], [29.0], [8.0], [64.0], [21.0], [35.0], [34.0], [64.0], [64.0], [16.0], [64.0], [64.0], [64.0], [29.0], [64.0], [64.0], [15.0], [18.0], [3.0], [64.0], [64.0], [34.0], [64.0], [1.0], [64.0], [33.0], [22.0], [35.0], [64.0], [64.0], [64.0], [64.0], [64.0], [64.0], [64.0], [64.0], [64.0], [21.0], [64.0], [29.0], [13.0], [64.0], [4.0], [64.0], [64.0], [64.0], [64.0], [9.0], [64.0], [49.0], [64.0], [64.0], [14.0], [64.0], [64.0], [52.0], [64.0], [64.0], [64.0], [55.0], [64.0], [15.0], [8.0], [23.0], [64.0], [20.0], [64.0], [64.0], [18.0], [64.0], [64.0], [64.0], [22.0], [64.0], [64.0], [64.0], [28.0], [64.0], [64.0], [64.0], [10.0], [64.0], [51.0], [44.0], [64.0], [64.0], [64.0], [14.0], [64.0], [2.0], [64.0], [64.0], [25.0], [64.0], [64.0], [58.0], [64.0], [51.0], [64.0], [64.0], [64.0], [64.0], [18.0], [53.0], [64.0], [64.0], [64.0], [64.0], [64.0], [12.0], [64.0], [64.0], [64.0], [4.0], [64.0], [64.0], [64.0], [64.0], [64.0], [58.0], [64.0], [19.0], [10.0], [64.0], [64.0], [64.0], [39.0], [64.0], [8.0], [43.0], [4.0], [3.0], [21.0], [64.0], [7.0], [19.0], [4.0], [64.0], [35.0], [3.0], [64.0], [63.0], [3.0], [64.0], [64.0], [36.0], [64.0], [64.0], [64.0], [31.0], [64.0], [4.0], [36.0], [64.0], [64.0], [64.0], [64.0], [22.0], [64.0], [64.0], [64.0], [15.0], [37.0], [64.0], [2.0], [64.0], [52.0], [64.0], [57.0], [64.0], [1.0], [64.0], [64.0], [27.0], [37.0], [64.0], [64.0], [64.0], [3.0], [32.0], [44.0], [64.0], [29.0], [64.0], [64.0], [64.0], [64.0], [64.0], [64.0], [4.0], [17.0], [48.0], [31.0], [64.0], [29.0], [29.0], [29.0], [8.0], [64.0], [64.0], [8.0], [64.0], [44.0], [64.0], [8.0], [5.0], [64.0], [29.0], [64.0], [10.0], [8.0], [64.0], [64.0], [18.0], [64.0], [64.0], [64.0], [23.0], [3.0], [35.0], [49.0], [64.0], [53.0], [30.0], [64.0], [64.0], [42.0], [47.0], [64.0], [36.0], [64.0], [64.0], [3.0], [64.0], [25.0], [64.0], [39.0], [23.0], [64.0], [64.0], [30.0], [64.0], [64.0], [29.0], [64.0], [64.0], [64.0], [9.0], [10.0], [3.0], [7.0], [4.0], [34.0], [21.0], [3.0], [3.0], [64.0], [36.0], [15.0], [26.0], [2.0], [64.0], [6.0], [4.0], [35.0], [23.0], [64.0], [64.0], [27.0], [49.0], [64.0], [62.0], [64.0], [64.0], [64.0], [64.0], [64.0], [64.0], [64.0], [27.0], [6.0], [20.0], [64.0], [64.0], [64.0], [64.0], [21.0], [29.0], [62.0], [64.0], [64.0], [3.0], [64.0], [64.0], [26.0], [64.0], [64.0], [64.0], [1.0], [64.0], [64.0], [64.0], [64.0], [64.0], [4.0], [12.0], [64.0], [3.0], [26.0], [64.0], [5.0], [64.0], [17.0], [60.0], [64.0], [64.0], [64.0], [29.0], [5.0], [64.0], [13.0], [13.0], [10.0], [33.0], [64.0], [64.0], [64.0], [48.0], [64.0], [24.0], [1.0], [61.0], [5.0], [3.0], [38.0], [28.0], [64.0], [3.0], [58.0], [64.0], [64.0], [64.0], [18.0], [64.0], [8.0], [64.0], [64.0], [64.0], [64.0], [8.0], [64.0], [2.0], [2.0], [29.0], [10.0], [64.0], [64.0], [64.0], [37.0], [64.0], [64.0], [59.0], [30.0], [64.0], [11.0], [64.0], [64.0], [64.0], [64.0], [64.0], [14.0], [64.0], [37.0], [64.0], [9.0], [64.0], [64.0], [29.0], [10.0], [29.0], [22.0], [64.0], [64.0], [64.0], [4.0], [64.0], [22.0], [64.0], [36.0], [64.0], [64.0], [64.0], [3.0], [29.0], [64.0], [44.0], [42.0], [64.0], [64.0], [28.0], [64.0], [64.0], [64.0], [19.0], [64.0], [64.0], [64.0], [64.0], [2.0], [24.0], [64.0], [64.0], [64.0], [34.0], [64.0], [64.0], [64.0], [28.0], [64.0], [24.0], [17.0], [13.0], [21.0], [64.0], [64.0], [29.0], [4.0], [57.0], [64.0], [64.0], [2.0], [64.0], [23.0], [64.0], [36.0], [23.0], [21.0], [19.0], [12.0], [29.0], [64.0], [16.0], [1.0], [64.0], [15.0], [64.0], [1.0], [64.0], [25.0], [64.0], [32.0], [36.0], [64.0], [64.0], [64.0], [64.0], [64.0], [64.0], [64.0], [50.0], [64.0], [64.0], [29.0], [18.0], [1.0], [64.0], [10.0], [64.0], [8.0], [64.0], [64.0], [64.0], [31.0], [64.0], [64.0], [64.0], [64.0], [64.0], [64.0], [64.0], [64.0], [8.0], [1.0], [22.0], [26.0], [29.0], [15.0], [64.0], [1.0], [3.0], [64.0], [64.0], [4.0], [64.0], [64.0], [15.0], [64.0], [64.0], [64.0], [64.0], [19.0], [10.0], [64.0], [64.0], [17.0], [6.0], [20.0], [64.0], [64.0], [64.0], [64.0], [26.0], [46.0], [64.0], [64.0], [64.0], [28.0], [5.0], [64.0], [54.0], [64.0], [6.0], [64.0], [25.0], [11.0], [58.0], [64.0], [29.0], [64.0], [64.0], [29.0], [64.0], [64.0], [64.0], [64.0], [64.0], [64.0], [64.0], [64.0], [36.0], [13.0], [29.0], [41.0], [7.0], [64.0], [3.0], [64.0], [64.0], [64.0], [53.0], [64.0], [18.0], [64.0], [64.0], [64.0], [22.0], [10.0], [64.0], [64.0], [60.0], [21.0], [56.0], [40.0], [64.0], [20.0], [64.0], [64.0], [57.0], [3.0], [15.0], [36.0], [64.0], [64.0], [8.0], [64.0], [64.0], [29.0], [64.0], [64.0], [64.0], [64.0], [27.0], [64.0], [64.0], [64.0], [56.0], [29.0], [64.0], [64.0], [36.0], [64.0], [64.0], [39.0], [4.0], [64.0], [3.0], [64.0], [64.0], [36.0], [17.0], [64.0], [64.0], [64.0], [56.0], [6.0], [17.0], [64.0], [64.0], [56.0], [64.0], [64.0], [64.0], [64.0], [64.0], [6.0], [64.0], [64.0], [64.0], [29.0], [31.0], [9.0], [64.0], [64.0], [5.0], [64.0], [64.0], [64.0], [64.0], [57.0], [29.0], [34.0], [3.0], [64.0], [64.0], [64.0], [26.0], [31.0], [64.0], [22.0], [64.0], [39.0], [64.0], [64.0], [64.0], [64.0], [37.0], [64.0], [64.0], [64.0], [1.0], [22.0], [22.0], [64.0], [64.0], [64.0], [64.0], [29.0], [29.0], [64.0], [64.0], [31.0], [8.0], [43.0], [64.0], [64.0], [9.0], [27.0], [64.0], [7.0], [64.0], [64.0], [64.0], [29.0], [8.0], [64.0], [19.0], [64.0], [4.0], [64.0], [64.0], [64.0], [64.0], [64.0], [64.0], [64.0], [21.0], [8.0], [29.0], [18.0], [64.0], [2.0], [64.0], [29.0], [64.0], [14.0], [64.0], [64.0], [1.0], [64.0], [64.0], [64.0], [8.0], [64.0], [64.0], [4.0], [64.0], [64.0], [64.0], [64.0], [64.0], [36.0], [64.0], [14.0], [58.0], [1.0], [64.0], [64.0], [64.0], [14.0], [64.0], [64.0], [64.0], [64.0], [64.0], [64.0], [28.0], [64.0], [64.0], [64.0], [64.0], [64.0], [64.0], [64.0], [64.0], [64.0], [64.0], [18.0], [53.0], [64.0], [64.0], [21.0], [50.0], [64.0], [29.0], [35.0], [64.0], [15.0], [58.0], [64.0], [8.0], [29.0], [27.0], [64.0], [29.0], [59.0], [64.0], [8.0], [8.0], [1.0], [18.0], [64.0], [8.0], [64.0], [54.0], [64.0], [3.0], [64.0], [4.0], [13.0], [64.0], [1.0], [64.0], [64.0], [17.0], [1.0], [64.0], [4.0], [46.0], [64.0], [48.0], [24.0], [29.0], [64.0], [64.0], [64.0], [64.0], [64.0], [64.0], [64.0], [64.0], [64.0], [64.0], [8.0], [5.0], [64.0], [64.0], [64.0], [64.0], [64.0], [8.0], [64.0], [64.0], [10.0], [64.0], [8.0], [22.0], [10.0], [64.0], [64.0], [16.0], [64.0], [64.0], [46.0], [10.0], [4.0], [64.0], [28.0], [29.0], [64.0], [64.0], [64.0], [36.0], [64.0], [64.0], [55.0], [64.0], [10.0], [64.0], [64.0], [64.0], [64.0], [38.0], [64.0], [64.0], [64.0], [64.0], [64.0], [64.0], [8.0], [64.0], [64.0], [64.0], [27.0], [44.0], [21.0], [48.0], [6.0], [64.0], [64.0], [64.0], [64.0], [64.0], [8.0], [64.0], [64.0], [9.0], [10.0], [19.0], [8.0], [47.0], [64.0], [26.0], [23.0], [47.0], [3.0], [64.0], [64.0], [38.0], [64.0], [64.0], [29.0], [40.0], [22.0], [20.0], [10.0], [64.0], [18.0], [48.0], [64.0], [64.0], [1.0], [20.0], [37.0], [4.0], [10.0], [64.0], [63.0], [25.0], [64.0], [64.0], [64.0], [61.0], [26.0], [64.0], [8.0], [53.0], [64.0], [5.0], [64.0], [64.0], [29.0], [39.0], [39.0], [28.0], [64.0], [5.0], [64.0], [29.0], [53.0], [62.0], [64.0], [56.0], [64.0], [47.0], [64.0], [3.0], [3.0], [64.0], [64.0], [56.0], [64.0], [57.0], [4.0], [2.0], [48.0], [64.0], [64.0], [36.0], [29.0], [3.0], [24.0], [36.0], [7.0], [64.0], [64.0], [64.0], [24.0], [7.0], [64.0], [64.0], [64.0], [64.0], [64.0], [64.0], [7.0], [64.0], [1.0], [64.0], [21.0], [3.0], [20.0], [29.0], [64.0], [1.0], [64.0], [64.0], [64.0], [64.0], [8.0], [64.0], [1.0], [64.0], [64.0], [51.0], [64.0], [64.0], [64.0], [16.0], [64.0], [64.0], [64.0], [64.0], [17.0], [41.0], [64.0], [64.0], [1.0], [64.0], [29.0], [64.0], [4.0], [64.0], [64.0], [57.0], [1.0], [64.0], [64.0], [20.0], [25.0], [22.0], [17.0], [8.0], [64.0], [38.0], [4.0], [64.0], [64.0], [23.0], [64.0], [3.0], [64.0], [1.0], [64.0], [46.0], [10.0], [47.0], [11.0], [64.0], [64.0], [11.0], [29.0], [15.0], [64.0], [55.0], [64.0], [64.0], [8.0], [36.0], [64.0], [64.0], [53.0], [22.0], [64.0], [64.0], [5.0], [64.0], [1.0], [64.0], [58.0], [64.0], [64.0], [64.0], [34.0], [64.0], [37.0], [64.0], [64.0], [5.0], [57.0], [64.0], [64.0], [64.0], [64.0], [1.0], [64.0], [64.0], [64.0], [5.0], [64.0], [64.0], [64.0], [64.0], [64.0], [64.0], [3.0], [64.0], [1.0], [28.0], [64.0], [7.0], [13.0], [31.0], [36.0], [64.0], [64.0], [64.0], [64.0], [24.0], [64.0], [64.0], [4.0], [64.0], [22.0], [64.0], [18.0], [64.0], [46.0], [29.0], [43.0], [64.0], [64.0], [64.0], [64.0], [50.0], [64.0], [24.0], [64.0], [64.0], [35.0], [64.0], [21.0], [23.0], [64.0], [64.0], [28.0], [35.0], [1.0], [38.0], [39.0], [64.0], [64.0], [29.0], [6.0], [64.0], [31.0], [64.0], [5.0], [64.0], [64.0], [64.0], [64.0], [15.0], [64.0], [21.0], [56.0], [64.0], [60.0], [2.0], [64.0], [15.0], [9.0], [64.0], [2.0], [28.0], [64.0], [64.0], [29.0], [64.0], [64.0], [64.0], [2.0], [53.0], [3.0], [64.0], [64.0], [20.0], [37.0], [6.0], [64.0], [64.0], [64.0], [64.0], [10.0], [33.0], [8.0], [14.0], [64.0], [18.0], [29.0], [64.0], [64.0], [29.0], [22.0], [64.0], [64.0], [64.0], [18.0], [64.0], [64.0], [64.0], [29.0], [64.0], [64.0], [64.0], [64.0], [10.0], [60.0], [10.0], [61.0], [64.0], [64.0], [16.0], [14.0], [43.0], [64.0], [64.0], [18.0], [22.0], [29.0], [64.0], [13.0], [51.0], [64.0], [57.0], [31.0], [64.0], [64.0], [29.0], [8.0], [24.0], [64.0], [64.0], [1.0], [23.0], [64.0], [6.0], [2.0], [64.0], [11.0], [58.0], [64.0], [64.0], [64.0], [64.0], [64.0], [64.0], [64.0], [31.0], [9.0], [64.0], [64.0], [32.0], [64.0], [64.0], [1.0], [64.0], [64.0], [64.0], [41.0], [64.0], [64.0], [64.0], [64.0], [18.0], [64.0], [64.0], [64.0], [4.0], [2.0], [64.0], [64.0], [64.0], [64.0], [64.0], [64.0], [64.0], [58.0], [64.0], [64.0], [8.0], [64.0], [64.0], [64.0], [22.0], [39.0], [2.0], [8.0], [29.0], [22.0], [56.0], [1.0], [64.0], [51.0], [64.0], [33.0], [35.0], [23.0], [64.0], [64.0], [64.0], [64.0], [34.0], [64.0], [64.0], [15.0], [64.0], [2.0], [64.0], [64.0], [64.0], [31.0], [64.0], [3.0], [64.0], [64.0], [64.0], [64.0], [27.0], [64.0], [48.0], [64.0], [64.0], [8.0], [29.0], [64.0], [64.0], [64.0], [64.0], [64.0], [6.0], [1.0], [1.0], [35.0], [23.0], [64.0], [20.0], [64.0], [7.0], [64.0], [31.0], [34.0], [8.0], [64.0], [18.0], [42.0], [8.0], [40.0], [16.0], [64.0], [64.0], [56.0], [64.0], [64.0], [9.0], [32.0], [64.0], [4.0], [23.0], [42.0], [64.0], [64.0], [46.0], [17.0], [64.0], [28.0], [7.0], [48.0], [64.0], [18.0], [64.0], [15.0], [31.0], [8.0], [64.0], [64.0], [64.0], [64.0], [16.0], [64.0], [12.0], [64.0], [19.0], [64.0], [64.0], [64.0], [64.0], [64.0], [1.0], [64.0], [64.0], [64.0], [1.0], [64.0], [10.0], [46.0], [4.0], [64.0], [23.0], [50.0], [33.0], [22.0], [64.0], [64.0], [24.0], [23.0], [29.0], [38.0], [64.0], [40.0], [35.0], [64.0], [34.0], [64.0], [64.0], [16.0], [64.0], [8.0], [29.0], [64.0], [64.0], [64.0], [34.0], [64.0], [64.0], [64.0], [64.0], [64.0], [64.0], [44.0], [64.0], [64.0], [44.0], [23.0], [42.0], [64.0], [64.0], [16.0], [31.0], [64.0], [64.0], [64.0], [64.0], [4.0], [64.0], [64.0], [64.0], [10.0], [64.0], [64.0], [64.0], [31.0], [64.0], [1.0], [64.0], [15.0], [64.0], [64.0], [64.0], [54.0], [62.0], [64.0], [44.0], [23.0], [21.0], [64.0], [64.0], [64.0], [64.0], [64.0], [64.0], [55.0], [10.0], [16.0], [3.0], [64.0], [64.0], [64.0], [10.0], [64.0], [64.0], [64.0], [64.0], [64.0], [64.0], [64.0], [17.0], [64.0], [31.0], [8.0], [55.0], [6.0], [29.0], [64.0], [64.0], [14.0], [19.0], [43.0], [64.0], [64.0], [64.0], [3.0], [64.0], [64.0], [64.0], [64.0], [8.0], [64.0], [56.0], [59.0], [64.0], [64.0], [64.0], [16.0], [64.0], [29.0], [23.0], [64.0], [64.0], [39.0], [64.0], [64.0], [36.0], [64.0], [27.0], [8.0], [64.0], [57.0], [64.0], [48.0], [64.0], [64.0], [64.0], [1.0], [8.0], [22.0], [64.0], [9.0], [64.0], [8.0], [64.0], [14.0], [64.0], [58.0], [34.0], [64.0], [39.0], [64.0], [29.0], [64.0], [64.0], [32.0], [64.0], [64.0], [64.0], [28.0], [13.0], [22.0], [64.0], [64.0], [64.0], [64.0], [64.0], [21.0], [44.0], [17.0], [8.0], [64.0], [29.0], [64.0], [50.0], [36.0], [18.0], [57.0], [64.0], [64.0], [4.0], [64.0], [64.0], [64.0], [64.0], [18.0], [55.0], [64.0], [64.0], [64.0], [31.0], [1.0], [23.0], [64.0], [64.0], [64.0], [64.0], [21.0], [64.0], [64.0], [64.0], [6.0], [64.0], [64.0], [15.0], [29.0], [10.0], [64.0], [41.0], [31.0], [64.0], [32.0], [61.0], [64.0], [64.0], [64.0], [64.0], [64.0], [64.0], [17.0], [24.0], [64.0], [64.0], [64.0], [47.0], [14.0], [21.0], [64.0], [64.0], [64.0], [64.0], [64.0], [15.0], [64.0], [64.0], [64.0], [36.0], [22.0], [64.0], [29.0], [20.0], [29.0], [64.0], [9.0], [64.0], [43.0], [64.0], [64.0], [32.0], [17.0], [64.0], [60.0], [8.0], [64.0], [54.0], [30.0], [64.0], [1.0], [64.0], [48.0], [64.0], [54.0], [64.0], [64.0], [64.0], [64.0], [42.0], [64.0], [27.0], [8.0], [35.0], [50.0], [24.0], [64.0], [64.0], [64.0], [15.0], [64.0], [8.0], [64.0], [64.0], [64.0], [29.0], [18.0], [64.0], [64.0], [56.0], [64.0], [64.0], [64.0], [64.0], [53.0], [8.0], [64.0], [32.0], [64.0], [49.0], [38.0], [64.0], [64.0], [29.0], [58.0], [27.0], [64.0], [32.0], [64.0], [37.0], [28.0], [53.0], [64.0], [64.0], [64.0], [52.0], [64.0], [64.0], [27.0], [64.0], [64.0], [64.0], [55.0], [64.0], [64.0], [3.0], [64.0], [64.0], [64.0], [64.0], [25.0], [1.0], [11.0], [64.0], [16.0], [64.0], [4.0], [31.0], [64.0], [64.0], [64.0], [64.0], [46.0], [64.0], [64.0], [31.0], [58.0], [64.0], [33.0], [62.0], [64.0], [64.0], [34.0], [64.0], [64.0], [64.0], [29.0], [64.0], [8.0], [64.0], [64.0], [64.0], [64.0], [36.0], [1.0], [64.0], [64.0], [64.0], [64.0], [64.0], [64.0], [64.0], [64.0], [19.0], [64.0], [64.0], [17.0], [64.0], [29.0], [64.0], [64.0], [64.0], [64.0], [9.0], [1.0], [64.0], [29.0], [64.0], [8.0], [14.0], [64.0], [64.0], [11.0], [26.0], [64.0], [64.0], [64.0], [29.0], [64.0], [37.0], [42.0], [2.0], [3.0], [64.0], [64.0], [64.0], [4.0], [64.0], [64.0], [19.0], [64.0], [64.0], [64.0], [64.0], [20.0], [64.0], [62.0], [64.0], [22.0], [64.0], [59.0], [64.0], [64.0], [64.0], [64.0], [19.0], [46.0], [4.0], [17.0], [2.0], [64.0], [64.0], [16.0], [23.0], [64.0], [27.0], [64.0], [7.0], [32.0], [23.0], [31.0], [38.0], [9.0], [64.0], [44.0], [8.0], [64.0], [1.0], [64.0], [64.0], [8.0], [10.0], [64.0], [64.0], [64.0], [64.0], [19.0], [17.0], [2.0], [64.0], [3.0], [64.0], [64.0], [64.0], [53.0], [46.0], [8.0], [47.0], [64.0], [29.0], [64.0], [26.0], [64.0], [32.0], [64.0], [64.0], [64.0], [8.0], [64.0], [64.0], [1.0], [1.0], [3.0], [64.0], [50.0], [37.0], [64.0], [16.0], [64.0], [64.0], [3.0], [46.0], [64.0], [64.0], [7.0], [64.0], [64.0], [1.0], [64.0], [64.0], [26.0], [64.0], [64.0], [15.0], [1.0], [64.0], [8.0], [41.0], [47.0], [64.0], [64.0], [29.0], [64.0], [64.0], [1.0], [31.0], [43.0], [51.0], [64.0], [22.0], [60.0], [64.0], [64.0], [64.0], [4.0], [64.0], [32.0], [8.0], [1.0], [64.0], [31.0], [37.0], [64.0], [2.0], [48.0], [64.0], [33.0], [8.0], [29.0], [4.0], [64.0], [64.0], [64.0], [64.0], [64.0], [1.0], [64.0], [1.0], [64.0], [62.0], [64.0], [64.0], [64.0], [23.0], [50.0], [64.0], [64.0], [36.0], [29.0], [64.0], [64.0], [64.0], [40.0], [12.0], [18.0], [3.0], [39.0], [6.0], [60.0], [56.0], [64.0], [64.0], [64.0], [64.0], [22.0], [64.0], [19.0], [60.0], [64.0], [29.0], [54.0], [64.0], [2.0], [45.0], [64.0], [47.0], [64.0], [64.0], [64.0], [64.0], [16.0], [45.0], [64.0], [7.0], [11.0], [58.0], [64.0], [23.0], [64.0], [64.0], [1.0], [64.0], [58.0], [31.0], [64.0], [36.0], [64.0], [64.0], [64.0], [64.0], [64.0], [64.0], [64.0], [64.0], [7.0], [3.0], [64.0], [64.0], [64.0], [4.0], [13.0], [57.0], [64.0], [27.0], [64.0], [4.0], [64.0], [7.0], [41.0], [51.0], [43.0], [9.0], [2.0], [44.0], [64.0], [64.0], [64.0], [17.0], [64.0], [64.0], [37.0], [64.0], [64.0], [53.0], [64.0], [29.0], [22.0], [64.0], [1.0], [11.0], [64.0], [64.0], [64.0], [64.0], [31.0], [42.0], [4.0], [64.0], [1.0], [64.0], [27.0], [64.0], [18.0], [64.0], [64.0], [9.0], [64.0], [8.0], [64.0], [64.0], [64.0], [64.0], [64.0], [64.0], [8.0], [64.0], [8.0], [55.0], [64.0], [64.0], [64.0], [1.0], [64.0], [2.0], [7.0], [64.0], [28.0], [64.0], [64.0], [8.0], [64.0], [64.0], [64.0], [13.0], [21.0], [64.0], [64.0], [64.0], [64.0], [61.0], [64.0], [64.0], [64.0], [64.0], [44.0], [64.0], [44.0], [64.0], [64.0], [64.0], [29.0], [64.0], [2.0], [19.0], [64.0], [64.0], [7.0], [8.0], [64.0], [64.0], [3.0], [29.0], [64.0], [64.0], [64.0], [64.0], [30.0], [15.0], [64.0], [4.0], [64.0], [64.0], [64.0], [64.0], [64.0], [29.0], [10.0], [64.0], [64.0], [8.0], [14.0], [55.0], [64.0], [29.0], [3.0], [17.0], [64.0], [64.0], [29.0], [64.0], [17.0], [13.0], [64.0], [64.0], [47.0], [64.0], [64.0], [8.0], [64.0], [64.0], [64.0], [64.0], [15.0], [36.0], [11.0], [64.0], [64.0], [64.0], [64.0], [64.0], [64.0], [64.0], [64.0], [36.0], [64.0], [49.0], [64.0], [64.0], [25.0], [64.0], [64.0], [64.0], [64.0], [64.0], [64.0], [29.0], [64.0], [64.0], [29.0], [64.0], [2.0], [64.0], [13.0], [64.0], [64.0], [64.0], [3.0], [64.0], [29.0], [23.0], [64.0], [64.0], [22.0], [64.0], [29.0], [64.0], [64.0], [3.0], [64.0], [64.0], [8.0], [37.0], [64.0], [29.0], [10.0], [64.0], [1.0], [55.0], [64.0], [64.0], [64.0], [64.0], [43.0], [29.0], [64.0], [64.0], [64.0], [64.0], [64.0], [64.0], [64.0], [15.0], [49.0], [40.0], [64.0], [64.0], [64.0], [3.0], [64.0], [19.0], [64.0], [44.0], [64.0], [64.0], [64.0], [10.0], [28.0], [64.0], [15.0], [64.0], [4.0], [64.0], [64.0], [62.0], [64.0], [29.0], [64.0], [64.0], [64.0], [64.0], [64.0], [32.0], [15.0], [64.0], [3.0], [29.0], [18.0], [64.0], [8.0], [64.0], [64.0], [64.0], [64.0], [64.0], [64.0], [3.0], [64.0], [64.0], [64.0], [64.0], [48.0], [15.0], [64.0], [64.0], [43.0], [2.0], [64.0], [34.0], [46.0], [3.0], [10.0], [39.0], [64.0], [64.0], [64.0], [6.0], [27.0], [64.0], [64.0], [57.0], [29.0], [64.0], [64.0], [64.0], [64.0], [36.0], [64.0], [17.0], [59.0], [19.0], [29.0], [8.0], [36.0], [64.0], [64.0], [64.0], [56.0], [10.0], [32.0], [16.0], [64.0], [64.0], [64.0], [56.0], [64.0], [8.0], [64.0], [4.0], [64.0], [2.0], [17.0], [64.0], [64.0], [64.0], [64.0], [64.0], [29.0], [64.0], [64.0], [64.0], [50.0], [39.0], [23.0], [12.0], [64.0], [64.0], [64.0], [64.0], [64.0], [8.0], [64.0], [29.0], [64.0], [64.0], [4.0], [3.0], [64.0], [64.0], [64.0], [64.0], [14.0], [64.0], [34.0], [64.0], [64.0], [35.0], [28.0], [55.0], [11.0], [17.0], [64.0], [64.0], [64.0], [64.0], [64.0], [62.0], [64.0], [16.0], [64.0], [64.0], [64.0], [3.0], [24.0], [50.0], [64.0], [64.0], [22.0], [40.0], [29.0], [64.0], [64.0], [64.0], [22.0], [64.0], [55.0], [33.0], [64.0], [19.0], [16.0], [18.0], [64.0], [29.0], [19.0], [64.0], [27.0], [29.0], [64.0], [64.0], [9.0], [25.0], [21.0], [64.0], [64.0], [1.0], [64.0], [8.0], [16.0], [64.0], [10.0], [4.0], [64.0], [8.0], [64.0], [2.0], [3.0], [8.0], [64.0], [40.0], [15.0], [4.0], [64.0], [8.0], [64.0], [64.0], [64.0], [64.0], [64.0], [36.0], [64.0], [64.0], [64.0], [5.0], [23.0], [64.0], [10.0], [21.0], [64.0], [2.0], [64.0], [64.0], [62.0], [64.0], [64.0], [61.0], [64.0], [15.0], [64.0], [64.0], [64.0], [8.0], [1.0], [34.0], [64.0], [9.0], [29.0], [8.0], [64.0], [64.0], [1.0], [64.0], [64.0], [64.0], [7.0], [64.0], [64.0], [1.0], [64.0], [26.0], [64.0], [64.0], [51.0], [25.0], [64.0], [64.0], [3.0], [64.0], [64.0], [64.0], [5.0], [16.0], [64.0], [64.0], [64.0], [2.0], [8.0], [64.0], [34.0], [64.0], [64.0], [64.0], [17.0], [64.0], [29.0], [64.0], [64.0], [64.0], [7.0], [64.0], [44.0], [64.0], [64.0], [18.0], [8.0], [64.0], [64.0], [64.0], [50.0], [64.0], [64.0], [4.0], [3.0], [21.0], [64.0], [2.0], [2.0], [64.0], [19.0], [45.0], [64.0], [64.0], [64.0], [64.0], [4.0], [64.0], [29.0], [64.0], [64.0], [24.0], [64.0], [64.0], [4.0], [34.0], [64.0], [39.0], [36.0], [8.0], [64.0], [64.0], [6.0], [64.0], [64.0], [64.0], [46.0], [61.0], [64.0], [64.0], [36.0], [18.0], [59.0], [29.0], [11.0], [64.0], [64.0], [64.0], [64.0], [64.0], [11.0], [64.0], [4.0], [26.0], [30.0], [64.0], [64.0], [8.0], [29.0], [64.0], [29.0], [4.0], [51.0], [64.0], [64.0], [64.0], [29.0], [64.0], [46.0], [5.0], [12.0], [21.0], [5.0], [21.0], [47.0], [2.0], [64.0], [14.0], [64.0], [8.0], [64.0], [64.0], [64.0], [64.0], [64.0], [3.0], [64.0], [3.0], [64.0], [64.0], [64.0], [64.0], [64.0], [13.0], [22.0], [64.0], [41.0], [64.0], [36.0], [5.0], [8.0], [3.0], [58.0], [64.0], [64.0], [5.0], [64.0], [64.0], [64.0], [64.0], [23.0], [64.0], [64.0], [64.0], [64.0], [64.0], [8.0], [64.0], [64.0], [64.0], [64.0], [64.0], [23.0], [1.0], [20.0], [64.0], [64.0], [64.0], [64.0], [64.0], [64.0], [4.0], [64.0], [64.0], [25.0], [3.0], [64.0], [64.0], [10.0], [64.0], [10.0], [64.0], [3.0], [64.0], [10.0], [64.0], [3.0], [64.0], [64.0], [64.0], [64.0], [3.0], [64.0], [64.0], [27.0], [23.0], [8.0], [64.0], [64.0], [3.0], [64.0], [8.0], [64.0], [64.0], [64.0], [10.0], [10.0], [64.0], [8.0], [47.0], [64.0], [64.0], [64.0], [64.0], [64.0], [64.0], [23.0], [64.0], [21.0], [64.0], [19.0], [23.0], [64.0], [64.0], [64.0], [1.0], [13.0], [29.0], [64.0], [64.0], [64.0], [64.0], [64.0], [64.0], [1.0], [1.0], [5.0], [64.0], [64.0], [64.0], [64.0], [23.0], [8.0], [1.0], [64.0], [57.0], [64.0], [64.0], [60.0], [64.0], [64.0], [40.0], [23.0], [64.0], [24.0], [64.0], [64.0], [8.0], [64.0], [14.0], [64.0], [64.0], [64.0], [36.0], [64.0], [64.0], [64.0], [64.0], [64.0], [38.0], [64.0], [64.0], [10.0], [64.0], [64.0], [64.0], [64.0], [27.0], [64.0], [64.0], [64.0], [64.0], [8.0], [64.0], [64.0], [64.0], [64.0], [64.0], [64.0], [64.0], [9.0], [62.0], [64.0], [64.0], [64.0], [64.0], [16.0], [64.0], [13.0], [64.0], [64.0], [64.0], [64.0], [50.0], [46.0], [64.0], [59.0], [64.0], [64.0], [9.0], [59.0], [64.0], [64.0], [64.0], [1.0], [64.0], [64.0], [64.0], [64.0], [64.0], [64.0], [21.0], [64.0], [64.0], [4.0], [64.0], [64.0], [16.0], [29.0], [64.0], [64.0], [64.0], [64.0], [64.0], [64.0], [64.0], [64.0], [64.0], [21.0], [14.0], [40.0], [43.0], [39.0], [64.0], [64.0], [64.0], [64.0], [64.0], [64.0], [27.0], [3.0], [15.0], [49.0], [64.0], [64.0], [42.0], [27.0], [63.0], [64.0], [34.0], [7.0], [22.0], [64.0], [64.0], [17.0], [64.0], [64.0], [64.0], [36.0], [64.0], [64.0], [64.0], [64.0], [64.0], [64.0], [21.0], [64.0], [22.0], [64.0], [64.0], [64.0], [46.0], [22.0], [64.0], [64.0], [64.0], [64.0], [64.0], [64.0], [19.0], [64.0], [3.0], [64.0], [64.0], [3.0], [64.0], [64.0], [50.0], [16.0], [64.0], [64.0], [64.0], [64.0], [64.0], [64.0], [64.0], [64.0], [64.0], [40.0], [51.0], [21.0], [16.0], [64.0], [32.0], [64.0], [21.0], [34.0], [1.0], [64.0], [64.0], [64.0], [39.0], [22.0], [16.0], [17.0], [24.0], [39.0], [48.0], [64.0], [9.0], [64.0], [64.0], [64.0], [2.0], [64.0], [11.0], [64.0], [50.0], [64.0], [58.0], [64.0], [36.0], [36.0], [25.0], [44.0], [1.0], [38.0], [64.0], [64.0], [27.0], [3.0], [1.0], [64.0], [64.0], [9.0], [64.0], [64.0], [64.0], [64.0], [64.0], [64.0], [64.0], [64.0], [10.0], [2.0], [62.0], [18.0], [64.0], [3.0], [64.0], [64.0], [36.0], [64.0], [64.0], [64.0], [64.0], [48.0], [1.0], [18.0], [29.0], [12.0], [64.0], [34.0], [64.0], [1.0], [64.0], [64.0], [64.0], [64.0], [64.0], [10.0], [22.0], [64.0], [15.0], [64.0], [64.0], [64.0], [29.0], [8.0], [64.0], [14.0], [64.0], [64.0], [64.0], [64.0], [64.0], [64.0], [64.0], [7.0], [64.0], [64.0], [64.0], [20.0], [1.0], [64.0], [33.0], [1.0], [45.0], [31.0], [52.0], [10.0], [13.0], [64.0], [64.0], [21.0], [64.0], [10.0], [16.0], [64.0], [31.0], [40.0], [64.0], [43.0], [64.0], [64.0], [64.0], [10.0], [21.0], [16.0], [64.0], [17.0], [29.0], [11.0], [64.0], [34.0], [64.0], [8.0], [34.0], [64.0], [8.0], [64.0], [64.0], [37.0], [64.0], [64.0], [64.0], [2.0], [64.0], [31.0], [21.0], [64.0], [64.0], [64.0], [64.0], [12.0], [64.0], [64.0], [15.0], [8.0], [64.0], [32.0], [1.0], [64.0], [51.0], [64.0], [17.0], [64.0], [64.0], [43.0], [64.0], [21.0], [31.0], [64.0], [6.0], [57.0], [64.0], [17.0], [23.0], [64.0], [12.0], [3.0], [23.0], [64.0], [64.0], [64.0], [64.0], [64.0], [23.0], [64.0], [64.0], [36.0], [64.0], [64.0], [23.0], [16.0], [33.0], [26.0], [58.0], [47.0], [64.0], [1.0], [64.0], [64.0], [64.0], [37.0], [64.0], [64.0], [64.0], [64.0], [37.0], [64.0], [64.0], [64.0], [64.0], [9.0], [64.0], [64.0], [24.0], [13.0], [64.0], [64.0], [3.0], [36.0], [64.0], [64.0], [64.0], [64.0], [64.0], [23.0], [4.0], [21.0], [44.0], [43.0], [64.0], [64.0], [20.0], [8.0], [64.0], [64.0], [3.0], [64.0], [5.0], [16.0], [3.0], [64.0], [64.0], [22.0], [4.0], [39.0], [64.0], [64.0], [64.0], [64.0], [64.0], [64.0], [64.0], [42.0], [28.0], [19.0], [64.0], [29.0], [64.0], [64.0], [64.0], [3.0], [64.0], [64.0], [40.0], [64.0], [64.0], [64.0], [37.0], [64.0], [64.0], [29.0], [64.0], [64.0], [55.0], [1.0], [64.0], [10.0], [27.0], [64.0], [64.0], [7.0], [64.0], [64.0], [29.0], [64.0], [16.0], [64.0], [64.0], [64.0], [46.0], [5.0], [64.0], [52.0], [8.0], [64.0], [64.0], [46.0], [64.0], [18.0], [64.0], [64.0], [64.0], [64.0], [64.0], [29.0], [22.0], [64.0], [64.0], [59.0], [48.0], [42.0], [64.0], [15.0], [46.0], [64.0], [1.0], [8.0], [64.0], [64.0], [22.0], [64.0], [53.0], [20.0], [64.0], [1.0], [64.0], [64.0], [63.0], [64.0], [64.0], [28.0], [64.0], [64.0], [64.0], [6.0], [64.0], [14.0], [3.0], [64.0], [50.0], [64.0], [1.0], [16.0], [64.0], [64.0], [64.0], [64.0], [6.0], [64.0], [64.0], [64.0], [21.0], [64.0], [51.0], [63.0], [48.0], [1.0], [64.0], [24.0], [64.0], [64.0], [64.0], [29.0], [47.0], [64.0], [64.0], [64.0], [64.0], [64.0], [60.0], [64.0], [29.0], [64.0], [10.0], [64.0], [64.0], [64.0], [1.0], [29.0], [64.0], [64.0], [59.0], [64.0], [14.0], [28.0], [8.0], [64.0], [64.0], [64.0], [64.0], [64.0], [64.0], [29.0], [64.0], [46.0], [20.0], [64.0], [57.0], [8.0], [7.0], [29.0], [64.0], [64.0], [29.0], [64.0], [64.0], [64.0], [29.0], [64.0], [9.0], [64.0], [64.0], [64.0], [64.0], [64.0], [16.0], [64.0], [27.0], [64.0], [20.0], [56.0], [64.0], [64.0], [36.0], [64.0], [28.0], [64.0], [27.0], [64.0], [51.0], [64.0], [29.0], [64.0], [64.0], [43.0], [64.0], [64.0], [64.0], [13.0], [1.0], [64.0], [27.0], [64.0], [64.0], [30.0], [64.0], [15.0], [64.0], [64.0], [64.0], [63.0], [64.0], [64.0], [23.0], [54.0], [64.0], [64.0], [41.0], [64.0], [29.0], [64.0], [64.0], [29.0], [14.0], [17.0], [64.0], [56.0], [1.0], [64.0], [36.0], [64.0], [46.0], [10.0], [7.0], [26.0], [64.0], [29.0], [1.0], [22.0], [64.0], [35.0], [64.0], [64.0], [8.0], [64.0], [64.0], [64.0], [10.0], [64.0], [8.0], [64.0], [64.0], [64.0], [64.0], [3.0], [20.0], [64.0], [64.0], [2.0], [29.0], [64.0], [23.0], [23.0], [64.0], [64.0], [64.0], [64.0], [13.0], [64.0], [29.0], [64.0], [64.0], [4.0], [59.0], [64.0], [29.0], [14.0], [13.0], [64.0], [64.0], [64.0], [16.0], [11.0], [64.0], [11.0], [36.0], [43.0], [2.0], [64.0], [64.0], [64.0], [64.0], [11.0], [64.0], [24.0], [11.0], [2.0], [64.0], [7.0], [36.0], [64.0], [48.0], [1.0], [11.0], [11.0], [64.0], [16.0], [37.0], [17.0], [64.0], [64.0], [64.0], [64.0], [1.0], [10.0], [35.0], [64.0], [64.0], [52.0], [1.0], [64.0], [64.0], [64.0], [64.0], [38.0], [64.0], [28.0], [54.0], [62.0], [29.0], [64.0], [64.0], [64.0], [64.0], [64.0], [64.0], [64.0], [21.0], [40.0], [1.0], [64.0], [29.0], [64.0], [64.0], [64.0], [64.0], [15.0], [4.0], [64.0], [64.0], [64.0], [1.0], [4.0], [64.0], [64.0], [64.0], [64.0], [64.0], [64.0], [64.0], [4.0], [64.0], [64.0], [64.0], [64.0], [64.0], [29.0], [1.0], [64.0], [3.0], [38.0], [64.0], [64.0], [64.0], [64.0], [64.0], [10.0], [64.0], [64.0], [64.0], [64.0], [64.0], [3.0], [64.0], [29.0], [64.0], [64.0], [64.0], [64.0], [64.0], [64.0], [64.0], [64.0], [36.0], [64.0], [46.0], [17.0], [5.0], [64.0], [64.0], [4.0], [64.0], [39.0], [64.0], [64.0], [38.0], [1.0], [64.0], [18.0], [11.0], [64.0], [64.0], [64.0], [64.0], [64.0], [9.0], [64.0], [64.0], [28.0], [15.0], [11.0], [64.0], [64.0], [64.0], [64.0], [49.0], [64.0], [32.0], [21.0], [29.0], [64.0], [64.0], [64.0], [64.0], [22.0], [64.0], [64.0], [64.0], [64.0], [64.0], [64.0], [19.0], [19.0], [40.0], [64.0], [64.0], [10.0], [55.0], [64.0], [4.0], [64.0], [29.0], [64.0], [64.0], [28.0], [64.0], [50.0], [15.0], [64.0], [36.0], [64.0], [64.0], [64.0], [64.0], [42.0], [23.0], [64.0], [64.0], [64.0], [64.0], [31.0], [64.0], [64.0], [64.0], [4.0], [7.0], [50.0], [64.0], [14.0], [64.0], [41.0], [64.0], [3.0], [64.0], [64.0], [64.0], [64.0], [28.0], [10.0], [64.0], [64.0], [64.0], [64.0], [19.0], [64.0], [64.0], [36.0], [64.0], [64.0], [44.0], [17.0], [64.0], [5.0], [8.0], [64.0], [8.0], [1.0], [3.0], [64.0], [52.0], [46.0], [64.0], [64.0], [64.0], [8.0], [64.0], [2.0], [64.0], [64.0], [64.0], [13.0], [64.0], [64.0], [30.0], [57.0], [64.0], [64.0], [64.0], [8.0], [64.0], [64.0], [30.0], [52.0], [10.0], [64.0], [13.0], [17.0], [64.0], [64.0], [64.0], [64.0], [64.0], [64.0], [64.0], [64.0], [33.0], [37.0], [64.0], [64.0], [47.0], [8.0], [56.0], [32.0], [59.0], [36.0], [64.0], [58.0], [57.0], [64.0], [9.0], [64.0], [12.0], [64.0], [64.0], [64.0], [2.0], [27.0], [64.0], [8.0], [18.0], [64.0], [23.0], [35.0], [29.0], [2.0], [64.0], [19.0], [64.0], [64.0], [21.0], [64.0], [64.0], [61.0], [16.0], [3.0], [64.0], [64.0], [64.0], [16.0], [29.0], [64.0], [64.0], [36.0], [32.0], [64.0], [64.0], [64.0], [64.0], [64.0], [64.0], [64.0], [64.0], [22.0], [41.0], [33.0], [64.0], [1.0], [64.0], [64.0], [64.0], [64.0], [64.0], [64.0], [27.0], [55.0], [64.0], [64.0], [29.0], [64.0], [64.0], [64.0], [64.0], [64.0], [64.0], [11.0], [8.0], [8.0], [15.0], [64.0], [3.0], [43.0], [64.0], [64.0], [6.0], [64.0], [29.0], [23.0], [42.0], [45.0], [64.0], [9.0], [14.0], [54.0], [58.0], [50.0], [64.0], [28.0], [64.0], [29.0], [29.0], [64.0], [10.0], [64.0], [3.0], [60.0], [8.0], [38.0], [64.0], [36.0], [8.0], [40.0], [63.0], [64.0], [4.0], [19.0], [64.0], [64.0], [3.0], [64.0], [10.0], [64.0], [64.0], [64.0], [8.0], [64.0], [64.0], [50.0], [64.0], [64.0], [64.0], [64.0], [59.0], [64.0], [64.0], [28.0], [16.0], [64.0], [64.0], [27.0], [12.0], [64.0], [64.0], [64.0], [64.0], [37.0], [48.0], [57.0], [19.0], [41.0], [64.0], [64.0], [64.0], [64.0], [64.0], [4.0], [26.0], [29.0], [64.0], [16.0], [64.0], [53.0], [64.0], [64.0], [10.0], [64.0], [64.0], [25.0], [4.0], [19.0], [57.0], [35.0], [13.0], [64.0], [5.0], [64.0], [4.0], [64.0], [64.0], [9.0], [36.0], [64.0], [64.0], [64.0], [27.0], [1.0], [64.0], [46.0], [64.0], [4.0], [64.0], [64.0], [64.0], [64.0], [17.0], [64.0], [64.0], [64.0], [5.0], [25.0], [40.0], [8.0], [30.0], [18.0], [64.0], [64.0], [64.0], [64.0], [64.0], [64.0], [52.0], [64.0], [29.0], [64.0], [64.0], [36.0], [36.0], [23.0], [16.0], [41.0], [64.0], [1.0], [35.0], [7.0], [59.0], [53.0], [4.0], [64.0], [64.0], [64.0], [14.0], [8.0], [64.0], [64.0], [64.0], [64.0], [4.0], [2.0], [64.0], [3.0], [64.0], [8.0], [64.0], [64.0], [64.0], [64.0], [8.0], [64.0], [8.0], [64.0], [64.0], [64.0], [64.0], [64.0], [21.0], [2.0], [64.0], [47.0], [64.0], [21.0], [8.0], [44.0], [64.0], [17.0], [64.0], [29.0], [64.0], [35.0], [64.0], [43.0], [64.0], [64.0], [6.0], [40.0], [64.0], [17.0], [64.0], [64.0], [23.0], [64.0], [64.0], [4.0], [29.0], [11.0], [7.0], [64.0], [64.0], [21.0], [64.0], [4.0], [64.0], [64.0], [16.0], [64.0], [64.0], [64.0], [64.0], [58.0], [64.0], [64.0], [64.0], [28.0], [64.0], [8.0], [26.0], [64.0], [64.0], [64.0], [64.0], [25.0], [7.0], [64.0], [3.0], [38.0], [64.0], [64.0], [64.0], [64.0], [64.0], [64.0], [64.0], [57.0], [64.0], [8.0], [64.0], [21.0], [9.0], [64.0], [23.0], [15.0], [8.0], [64.0], [64.0], [4.0], [64.0], [26.0], [64.0], [5.0], [64.0], [43.0], [64.0], [52.0], [64.0], [58.0], [26.0], [64.0], [64.0], [64.0], [8.0], [64.0], [14.0], [2.0], [9.0], [36.0], [29.0], [64.0], [8.0], [64.0], [21.0], [9.0], [64.0], [64.0], [64.0], [19.0], [64.0], [1.0], [64.0], [46.0], [64.0], [64.0], [64.0], [49.0], [64.0], [64.0], [64.0], [7.0], [2.0], [64.0], [64.0], [64.0], [30.0], [64.0], [64.0], [26.0], [64.0], [30.0], [58.0], [26.0], [64.0], [64.0], [64.0], [64.0], [64.0], [18.0], [64.0], [53.0], [43.0], [64.0], [64.0], [64.0], [64.0], [1.0], [64.0], [12.0], [9.0], [64.0], [21.0], [64.0], [38.0], [21.0], [29.0], [5.0], [8.0], [64.0], [16.0], [64.0], [5.0], [64.0], [29.0], [64.0], [20.0], [64.0], [64.0], [16.0], [9.0], [64.0], [1.0], [10.0], [1.0], [64.0], [64.0], [64.0], [13.0], [64.0], [64.0], [23.0], [64.0], [11.0], [64.0], [2.0], [13.0], [49.0], [64.0], [28.0], [64.0], [64.0], [29.0], [64.0], [9.0], [64.0], [60.0], [64.0], [64.0], [64.0], [35.0], [64.0], [3.0], [64.0], [64.0], [8.0], [10.0], [64.0], [29.0], [45.0], [64.0], [3.0], [64.0], [64.0], [64.0], [64.0], [8.0], [64.0], [64.0], [64.0], [29.0], [23.0], [5.0], [29.0], [64.0], [1.0], [3.0], [64.0], [64.0], [19.0], [10.0], [64.0], [31.0], [64.0], [64.0], [64.0], [64.0], [64.0], [64.0], [64.0], [64.0], [64.0], [26.0], [64.0], [51.0], [64.0], [29.0], [4.0], [48.0], [17.0], [64.0], [64.0], [17.0], [64.0], [64.0], [64.0], [64.0], [23.0], [20.0], [10.0], [64.0], [64.0], [64.0], [60.0], [64.0], [64.0], [64.0], [64.0], [22.0], [36.0], [64.0], [27.0], [22.0], [64.0], [64.0], [64.0], [62.0], [1.0], [17.0], [57.0], [17.0], [64.0], [64.0], [53.0], [6.0], [19.0], [23.0], [22.0], [64.0], [8.0], [64.0], [29.0], [40.0], [64.0], [64.0], [64.0], [29.0], [64.0], [9.0], [64.0], [64.0], [60.0], [49.0], [64.0], [64.0], [64.0], [64.0], [64.0], [64.0], [64.0], [64.0], [57.0], [64.0], [64.0], [7.0], [64.0], [4.0], [1.0], [64.0], [36.0], [64.0], [48.0], [8.0], [64.0], [22.0], [64.0], [64.0], [47.0], [64.0], [28.0], [64.0], [29.0], [4.0], [64.0], [9.0], [64.0], [64.0], [64.0], [7.0], [29.0], [64.0], [58.0], [64.0], [64.0], [64.0], [64.0], [3.0], [11.0], [64.0], [8.0], [27.0], [64.0], [10.0], [64.0], [64.0], [64.0], [64.0], [37.0], [36.0], [55.0], [46.0], [64.0], [64.0], [64.0], [29.0], [29.0], [64.0], [64.0], [64.0], [64.0], [64.0], [29.0]]\n",
      "정확도 : 0.6287685615719214\n"
     ]
    }
   ],
   "source": [
    "import pandas as pd\n",
    " \n",
    "from sklearn import datasets\n",
    "from sklearn.model_selection import train_test_split\n",
    "from sklearn.ensemble import RandomForestClassifier\n",
    "from sklearn import metrics\n",
    "\n",
    "# 학습 진행\n",
    "forest = RandomForestClassifier(n_estimators=100)\n",
    "forest.fit(x_train, y_train)\n",
    " \n",
    "# 예측 \n",
    "y_pred = forest.predict(X_test)\n",
    "print(y_pred)\n",
    "print(list(y_test))\n",
    " \n",
    "# 정확도 확인\n",
    "print('정확도 :', metrics.accuracy_score(y_test, y_pred))"
   ]
  },
  {
   "cell_type": "markdown",
   "metadata": {},
   "source": [
    "# 과금여부로 결정트리, 랜덤포레스트"
   ]
  },
  {
   "cell_type": "code",
   "execution_count": 20,
   "metadata": {},
   "outputs": [
    {
     "name": "stdout",
     "output_type": "stream",
     "text": [
      "0.839\n",
      "0.8576666666666667\n"
     ]
    }
   ],
   "source": [
    "# ======================================================================================================================\n",
    "\n",
    "\n",
    "# data.survived.sum()\n",
    "\n",
    "#훈련세트, 테스트세트 나누기\n",
    "from sklearn.model_selection import train_test_split\n",
    "\n",
    "y = data['cash']\n",
    "\n",
    "# shap에서 겹치는 공통 변수\n",
    "# x = data[['combat_play_time',\n",
    "#  'death',\n",
    "#  'enchant_count',\n",
    "#  'etc_cnt',\n",
    "#  'etc_cnt_plg',\n",
    "#  'exp_recovery',\n",
    "#  'level',\n",
    "#  'non_combat_play_time',\n",
    "#  'num_opponent',\n",
    "#  'party_exp',\n",
    "#  'play_char_cnt',\n",
    "#  'pledge_combat_cnt',\n",
    "#  'private_shop',\n",
    "#  'quest_exp',\n",
    "#  'random_attacker_cnt',\n",
    "#  'random_attacker_cnt_plg',\n",
    "#  'random_defender_cnt',\n",
    "#  'random_defender_cnt_plg',\n",
    "#  'same_pledge_cnt_plg',\n",
    "#  'sell_item_cnt',\n",
    "#  'temp_cnt',\n",
    "#  'temp_cnt_plg']]\n",
    "\n",
    "x = data[['acc_id','playtime', 'npc_kill',\n",
    "       'solo_exp', 'party_exp', 'quest_exp', 'rich_monster', 'death', 'revive',\n",
    "       'exp_recovery', 'fishing', 'private_shop', 'game_money_change',\n",
    "       'enchant_count', 'level', 'pledge_cnt', 'random_attacker_cnt',\n",
    "       'random_defender_cnt', 'temp_cnt', 'same_pledge_cnt', 'etc_cnt',\n",
    "       'num_opponent',  'sell_item_cnt','amount_spent_pay', 'buy_item_cnt',\n",
    "       'play_char_cnt', 'combat_char_cnt', 'pledge_combat_cnt',\n",
    "       'random_attacker_cnt_plg', 'random_defender_cnt_plg',\n",
    "       'same_pledge_cnt_plg', 'temp_cnt_plg', 'etc_cnt_plg',\n",
    "       'combat_play_time', 'non_combat_play_time']]\n",
    "\n",
    "\n",
    "\n",
    "\n",
    "\n",
    "\n",
    "\n",
    "train_x, test_x, train_y, test_y = train_test_split(x, y, test_size = 0.3)\n",
    "\n",
    "train_x.shape, test_x.shape, train_y.shape, test_y.shape\n",
    "\n",
    "## DecisionTree\n",
    "\n",
    "from sklearn.tree import DecisionTreeClassifier\n",
    "from sklearn.ensemble import RandomForestClassifier\n",
    "\n",
    "decision = DecisionTreeClassifier(max_depth = 7).fit(train_x,train_y)\n",
    "# print(decision.score(train_x, train_y))\n",
    "print(decision.score(test_x, test_y))\n",
    "\n",
    "from sklearn.tree import export_graphviz\n",
    "import graphviz\n",
    "import pydot\n",
    "\n",
    "export_graphviz(decision,\n",
    "                feature_names = x.columns,\n",
    "                class_names = ['No_cash', 'Yes_cash'],\n",
    "                out_file = 'decisionTree1.dot',\n",
    "                impurity = True,\n",
    "                filled = True)\n",
    "\n",
    "# Encoding 중요\n",
    "# (graph,) = pydot.graph_from_dot_file('decisionTree1.dot', encoding='utf8')\n",
    "\n",
    "# Dot 파일을 Png 이미지로 저장\n",
    "# graph.write_png('decisionTree1.png')\n",
    "\n",
    "with open('decisionTree1.dot') as f:\n",
    "    dot_graph = str(open(\"decisionTree1.dot\", \"rb\").read(), 'utf8')\n",
    "\n",
    "src = graphviz.Source(dot_graph)\n",
    "src.render('payment-lable.gv', view=True)\n",
    "\n",
    "\n",
    "# ======================================================================================================================\n",
    "rfc = RandomForestClassifier(n_estimators=200)\n",
    "rfc.fit(train_x,train_y)\n",
    "# print(clf.score(train_x, train_y))\n",
    "print(rfc.score(test_x, test_y))\n",
    "rfc_y_score = rfc.predict_proba(test_x)"
   ]
  },
  {
   "cell_type": "markdown",
   "metadata": {},
   "source": [
    "### 랜덤포레스트 결과에서 예측값 뽑기"
   ]
  },
  {
   "cell_type": "code",
   "execution_count": null,
   "metadata": {},
   "outputs": [],
   "source": [
    "rfc_y_score = rfc.predict(data1)\n",
    "rfc_y = pd.DataFrame(rfc_y_score, columns = ['cash_predict'])\n",
    "print(type(rfc_y))"
   ]
  },
  {
   "cell_type": "code",
   "execution_count": null,
   "metadata": {},
   "outputs": [],
   "source": [
    "data_cash = pd.concat([data1, rfc_y], axis=1)\n",
    "data_cash.head()\n",
    "rfc_y.shape\n",
    "print(len(data_cash.columns))"
   ]
  },
  {
   "cell_type": "code",
   "execution_count": null,
   "metadata": {},
   "outputs": [],
   "source": [
    "data_cash = data_cash.merge(amount_spent, on='acc_id', how='inner')\n",
    "print(data_cash.columns)\n",
    "data_cash.shape\n",
    "print(data_cash[data_cash['cash_predict']==1].shape, data_cash[data_cash['amount_spent']>0].shape)\n",
    "print(data_cash[data_cash['cash_predict']==0].shape, data_cash[data_cash['amount_spent']==0].shape)"
   ]
  },
  {
   "cell_type": "code",
   "execution_count": null,
   "metadata": {},
   "outputs": [],
   "source": [
    "data_cash_yes = data_cash[data_cash['cash_predict']==1]\n",
    "data_cash_yes.columns\n",
    "\n",
    "y_data = [[i] for i in data_cash_yes['amount_spent'].tolist() ]\n",
    "y= y_data \n",
    "\n",
    "data_cash_yes.drop(['acc_id','amount_spent','cash_predict'], axis=1, inplace=True)\n",
    "\n",
    "x_data = [ data_cash_yes.iloc[i,:].tolist() for i in range(len(data_cash_yes.index.values))]\n",
    "X = x_data\n",
    "\n",
    "from sklearn.model_selection import train_test_split\n",
    "\n",
    "x_train, X_test, y_train, y_test = train_test_split(X, y, test_size = 1/3, random_state = 70) #42\n",
    "\n",
    "# multi_variable_linear_regression.py\n",
    "# 4"
   ]
  },
  {
   "cell_type": "code",
   "execution_count": 23,
   "metadata": {},
   "outputs": [
    {
     "name": "stdout",
     "output_type": "stream",
     "text": [
      "<class 'pandas.core.frame.DataFrame'>\n",
      "36\n"
     ]
    },
    {
     "data": {
      "text/plain": [
       "Index(['acc_id', 'playtime', 'npc_kill', 'solo_exp', 'party_exp', 'quest_exp',\n",
       "       'rich_monster', 'death', 'revive', 'exp_recovery', 'fishing',\n",
       "       'private_shop', 'game_money_change', 'enchant_count', 'level',\n",
       "       'pledge_cnt', 'random_attacker_cnt', 'random_defender_cnt', 'temp_cnt',\n",
       "       'same_pledge_cnt', 'etc_cnt', 'num_opponent', 'amount_spent_pay',\n",
       "       'sell_item_cnt', 'buy_item_cnt', 'play_char_cnt', 'combat_char_cnt',\n",
       "       'pledge_combat_cnt', 'random_attacker_cnt_plg',\n",
       "       'random_defender_cnt_plg', 'same_pledge_cnt_plg', 'temp_cnt_plg',\n",
       "       'etc_cnt_plg', 'combat_play_time', 'non_combat_play_time',\n",
       "       'cash_predict'],\n",
       "      dtype='object')"
      ]
     },
     "execution_count": 23,
     "metadata": {},
     "output_type": "execute_result"
    }
   ],
   "source": [
    "import tensorflow as tf\n",
    "\n",
    "\n",
    "X = tf.placeholder(tf.float32,shape=[None,data_cash_yes.shape[1]])\n",
    "Y = tf.placeholder(tf.float32,shape=[None,1])\n",
    "\n",
    "W = tf.Variable(tf.random_normal([data_cash_yes.shape[1],1]), name='weight')\n",
    "b = tf.Variable(tf.random_normal([1]), name='bias')\n",
    "\n",
    "hypothesis = tf.matmul(X,W) + b  #\n",
    "\n",
    "cost = tf.reduce_mean(tf.square(hypothesis - Y))\n",
    "\n",
    "optimizer = tf.train.AdamOptimizer(learning_rate=3e-1)\n",
    "train = optimizer.minimize(cost)\n",
    "\n",
    "\n",
    "\n",
    "# RMSE( root-mean-square error ) : 평균 제곱 근 오차\n",
    "# 평균 제곱근편차(RMSD) 또는 평균 제곱근오차(RMSE)는 추정값 또는 모델이 예측한 값과\n",
    "# 실제 환경에서 관찰되는 값의 차이를 다룰 때 흔히 사용하는 측도이다.\n",
    "# 정밀도를 표현하는데 적합하다.\n",
    "\n",
    "targets = tf.placeholder(tf.float32,[None,1])  # 답(Y)\n",
    "predictions = tf.placeholder(tf.float32,[None,1]) # 예측 값\n",
    "rmse = tf.sqrt(tf.reduce_mean(tf.square(targets-predictions)))\n",
    "\n",
    "sess = tf.Session()\n",
    "sess.run(tf.global_variables_initializer())\n",
    "\n",
    "# start training\n",
    "for step in range(10001):\n",
    "    cost_val, W_val, b_val, _ = \\\n",
    "        sess.run([cost, W, b, train],\n",
    "                 feed_dict={X:x_data, Y:y_data})\n",
    "    if step % 1000 == 0:\n",
    "        print(step, cost_val, W_val, b_val)\n",
    "\n",
    "# Test step\n",
    "test_predict = sess.run(hypothesis,feed_dict={X:X_test})\n",
    "rmse_val = sess.run(rmse,feed_dict={targets:y_test,predictions:test_predict})\n",
    "print('RMSE: {}'.format(rmse_val))\n",
    "\n",
    "\n",
    "total_error = tf.reduce_sum(tf.square(tf.subtract(y_test, tf.reduce_mean(y_test))))\n",
    "unexplained_error = tf.reduce_sum(tf.square(tf.subtract(y_test, test_predict)))\n",
    "R_squared = tf.subtract(1.0,tf.divide( unexplained_error,total_error))\n",
    "\n",
    "print('R_sqr: {}'.format(sess.run(R_squared)))\n",
    "\n",
    "prd = sess.run(hypothesis, feed_dict = {X:X_test})"
   ]
  },
  {
   "cell_type": "code",
   "execution_count": null,
   "metadata": {},
   "outputs": [],
   "source": [
    "import pandas as pd\n",
    " \n",
    "from sklearn import datasets\n",
    "from sklearn.model_selection import train_test_split\n",
    "from sklearn.ensemble import RandomForestClassifier\n",
    "from sklearn import metrics\n",
    " \n",
    "if __name__ == '__main__':\n",
    "    iris = datasets.load_iris()\n",
    "    print('아이리스 종류 :', iris.target_names)\n",
    "    print('target : [0:setosa, 1:versicolor, 2:virginica]')\n",
    "    print('데어터 수 :', len(iris.data))\n",
    "    print('데이터 열 이름 :', iris.feature_names)\n",
    " \n",
    "    # iris data Dataframe으로\n",
    "    data = pd.DataFrame(\n",
    "        {\n",
    "            'sepal length': iris.data[:, 0],\n",
    "            'sepal width': iris.data[:, 1],\n",
    "            'petal length': iris.data[:, 2],\n",
    "            'petal width': iris.data[:, 3],\n",
    "            'species': iris.target\n",
    "        }\n",
    "    )\n",
    "    print(data.head())\n",
    " \n",
    "    x = data[['sepal length', 'sepal width', 'petal length', 'petal width']]\n",
    "    y = data['species']\n",
    " \n",
    "    # 테스트 데이터 30%\n",
    "    x_train, x_test, y_train, y_test = train_test_split(x, y, test_size=0.3)\n",
    "    print(len(x_train))\n",
    "    print(len(x_test))\n",
    "    print(len(y_train))\n",
    "    print(len(y_test))\n",
    " \n",
    "    # 학습 진행\n",
    "    forest = RandomForestClassifier(n_estimators=100)\n",
    "    forest.fit(x_train, y_train)\n",
    " \n",
    "    # 예측\n",
    "    y_pred = forest.predict(x_test)\n",
    "    print(y_pred)\n",
    "    print(list(y_test))\n",
    " \n",
    "    # 정확도 확인\n",
    "    print('정확도 :', metrics.accuracy_score(y_test, y_pred))"
   ]
  }
 ],
 "metadata": {
  "kernelspec": {
   "display_name": "Python 3",
   "language": "python",
   "name": "python3"
  },
  "language_info": {
   "codemirror_mode": {
    "name": "ipython",
    "version": 3
   },
   "file_extension": ".py",
   "mimetype": "text/x-python",
   "name": "python",
   "nbconvert_exporter": "python",
   "pygments_lexer": "ipython3",
   "version": "3.7.3"
  }
 },
 "nbformat": 4,
 "nbformat_minor": 2
}
