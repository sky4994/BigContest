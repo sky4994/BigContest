{
 "cells": [
  {
   "cell_type": "markdown",
   "metadata": {},
   "source": [
    "# 랜덤포레스트 적용"
   ]
  },
  {
   "cell_type": "markdown",
   "metadata": {},
   "source": [
    "## corr() 결과 양의 값으로 나온 변수중 가장 의미 있는 3가지(개인상점, 플레이시간, 낚시)와 생존"
   ]
  },
  {
   "cell_type": "code",
   "execution_count": 1,
   "metadata": {},
   "outputs": [],
   "source": [
    "# https://github.com/Swalloow/Kaggle/blob/master/Titanic%20Survivors/Titanic%20RandomForest.ipynb/\n",
    "# 설명 : https://swalloow.github.io/decison-randomforest\n",
    "import numpy as np\n",
    "import pandas as pd\n"
   ]
  },
  {
   "cell_type": "markdown",
   "metadata": {},
   "source": [
    "## Load Data"
   ]
  },
  {
   "cell_type": "code",
   "execution_count": 2,
   "metadata": {},
   "outputs": [],
   "source": [
    "\n",
    "activity_raw = pd.read_csv('C:/Users/CPB06GameN/Desktop/PROGRAM/big/2019빅콘테스트_챔피언스리그_데이터_수정/train_label.csv')\n",
    "label_raw = pd.read_csv('C:/Users/CPB06GameN/Desktop/PROGRAM/big/2019빅콘테스트_챔피언스리그_데이터_수정/train_activity.csv')\n"
   ]
  },
  {
   "cell_type": "code",
   "execution_count": 3,
   "metadata": {},
   "outputs": [
    {
     "data": {
      "text/plain": [
       "acc_id             int64\n",
       "survival_time      int64\n",
       "amount_spent     float64\n",
       "dtype: object"
      ]
     },
     "execution_count": 3,
     "metadata": {},
     "output_type": "execute_result"
    }
   ],
   "source": [
    "activity_raw.dtypes"
   ]
  },
  {
   "cell_type": "code",
   "execution_count": 4,
   "metadata": {},
   "outputs": [],
   "source": [
    "activity = activity_raw\n",
    "label = label_raw"
   ]
  },
  {
   "cell_type": "code",
   "execution_count": 5,
   "metadata": {},
   "outputs": [],
   "source": [
    "act_label = label.merge(activity, on ='acc_id', how='inner')"
   ]
  },
  {
   "cell_type": "code",
   "execution_count": 6,
   "metadata": {},
   "outputs": [],
   "source": [
    "act_label_grp = act_label.groupby('acc_id',as_index=False).sum()"
   ]
  },
  {
   "cell_type": "code",
   "execution_count": 7,
   "metadata": {},
   "outputs": [
    {
     "name": "stdout",
     "output_type": "stream",
     "text": [
      "(40000, 18)\n"
     ]
    },
    {
     "data": {
      "text/html": [
       "<div>\n",
       "<style scoped>\n",
       "    .dataframe tbody tr th:only-of-type {\n",
       "        vertical-align: middle;\n",
       "    }\n",
       "\n",
       "    .dataframe tbody tr th {\n",
       "        vertical-align: top;\n",
       "    }\n",
       "\n",
       "    .dataframe thead th {\n",
       "        text-align: right;\n",
       "    }\n",
       "</style>\n",
       "<table border=\"1\" class=\"dataframe\">\n",
       "  <thead>\n",
       "    <tr style=\"text-align: right;\">\n",
       "      <th></th>\n",
       "      <th>acc_id</th>\n",
       "      <th>day</th>\n",
       "      <th>char_id</th>\n",
       "      <th>playtime</th>\n",
       "      <th>npc_kill</th>\n",
       "      <th>solo_exp</th>\n",
       "      <th>party_exp</th>\n",
       "      <th>quest_exp</th>\n",
       "      <th>rich_monster</th>\n",
       "      <th>death</th>\n",
       "      <th>revive</th>\n",
       "      <th>exp_recovery</th>\n",
       "      <th>fishing</th>\n",
       "      <th>private_shop</th>\n",
       "      <th>game_money_change</th>\n",
       "      <th>enchant_count</th>\n",
       "      <th>survival_time</th>\n",
       "      <th>amount_spent</th>\n",
       "    </tr>\n",
       "  </thead>\n",
       "  <tbody>\n",
       "    <tr>\n",
       "      <th>0</th>\n",
       "      <td>2</td>\n",
       "      <td>406</td>\n",
       "      <td>6540744</td>\n",
       "      <td>91.533663</td>\n",
       "      <td>0.000000</td>\n",
       "      <td>0.000000</td>\n",
       "      <td>0.000000</td>\n",
       "      <td>0.000000</td>\n",
       "      <td>0</td>\n",
       "      <td>0.000000</td>\n",
       "      <td>0.000000</td>\n",
       "      <td>0.0</td>\n",
       "      <td>0.000000</td>\n",
       "      <td>84.900753</td>\n",
       "      <td>-0.008746</td>\n",
       "      <td>0.0</td>\n",
       "      <td>1792</td>\n",
       "      <td>0.000000</td>\n",
       "    </tr>\n",
       "    <tr>\n",
       "      <th>1</th>\n",
       "      <td>5</td>\n",
       "      <td>409</td>\n",
       "      <td>3851049</td>\n",
       "      <td>6.116132</td>\n",
       "      <td>3.236452</td>\n",
       "      <td>2.155434</td>\n",
       "      <td>0.695285</td>\n",
       "      <td>0.111055</td>\n",
       "      <td>9</td>\n",
       "      <td>0.245883</td>\n",
       "      <td>0.247337</td>\n",
       "      <td>0.0</td>\n",
       "      <td>3.442909</td>\n",
       "      <td>0.000000</td>\n",
       "      <td>0.145146</td>\n",
       "      <td>0.0</td>\n",
       "      <td>1080</td>\n",
       "      <td>0.000000</td>\n",
       "    </tr>\n",
       "    <tr>\n",
       "      <th>2</th>\n",
       "      <td>8</td>\n",
       "      <td>1764</td>\n",
       "      <td>26228439</td>\n",
       "      <td>18.797802</td>\n",
       "      <td>31.172609</td>\n",
       "      <td>31.489136</td>\n",
       "      <td>0.000000</td>\n",
       "      <td>1.561055</td>\n",
       "      <td>2</td>\n",
       "      <td>91.960416</td>\n",
       "      <td>92.504000</td>\n",
       "      <td>0.0</td>\n",
       "      <td>4.807823</td>\n",
       "      <td>0.000000</td>\n",
       "      <td>0.020353</td>\n",
       "      <td>0.0</td>\n",
       "      <td>8512</td>\n",
       "      <td>2.701235</td>\n",
       "    </tr>\n",
       "    <tr>\n",
       "      <th>3</th>\n",
       "      <td>17</td>\n",
       "      <td>760</td>\n",
       "      <td>8548136</td>\n",
       "      <td>28.464708</td>\n",
       "      <td>30.456852</td>\n",
       "      <td>9.255848</td>\n",
       "      <td>8.823094</td>\n",
       "      <td>2.322365</td>\n",
       "      <td>21</td>\n",
       "      <td>1.721184</td>\n",
       "      <td>1.731358</td>\n",
       "      <td>0.0</td>\n",
       "      <td>13.990954</td>\n",
       "      <td>0.000000</td>\n",
       "      <td>-0.027696</td>\n",
       "      <td>0.0</td>\n",
       "      <td>3328</td>\n",
       "      <td>3.673394</td>\n",
       "    </tr>\n",
       "    <tr>\n",
       "      <th>4</th>\n",
       "      <td>20</td>\n",
       "      <td>610</td>\n",
       "      <td>5571452</td>\n",
       "      <td>25.588043</td>\n",
       "      <td>34.100184</td>\n",
       "      <td>0.274902</td>\n",
       "      <td>0.080060</td>\n",
       "      <td>0.083483</td>\n",
       "      <td>8</td>\n",
       "      <td>0.983534</td>\n",
       "      <td>0.989348</td>\n",
       "      <td>0.0</td>\n",
       "      <td>4.295766</td>\n",
       "      <td>2.917510</td>\n",
       "      <td>-0.370192</td>\n",
       "      <td>0.0</td>\n",
       "      <td>2432</td>\n",
       "      <td>1.981197</td>\n",
       "    </tr>\n",
       "  </tbody>\n",
       "</table>\n",
       "</div>"
      ],
      "text/plain": [
       "   acc_id   day   char_id   playtime   npc_kill   solo_exp  party_exp  \\\n",
       "0       2   406   6540744  91.533663   0.000000   0.000000   0.000000   \n",
       "1       5   409   3851049   6.116132   3.236452   2.155434   0.695285   \n",
       "2       8  1764  26228439  18.797802  31.172609  31.489136   0.000000   \n",
       "3      17   760   8548136  28.464708  30.456852   9.255848   8.823094   \n",
       "4      20   610   5571452  25.588043  34.100184   0.274902   0.080060   \n",
       "\n",
       "   quest_exp  rich_monster      death     revive  exp_recovery    fishing  \\\n",
       "0   0.000000             0   0.000000   0.000000           0.0   0.000000   \n",
       "1   0.111055             9   0.245883   0.247337           0.0   3.442909   \n",
       "2   1.561055             2  91.960416  92.504000           0.0   4.807823   \n",
       "3   2.322365            21   1.721184   1.731358           0.0  13.990954   \n",
       "4   0.083483             8   0.983534   0.989348           0.0   4.295766   \n",
       "\n",
       "   private_shop  game_money_change  enchant_count  survival_time  amount_spent  \n",
       "0     84.900753          -0.008746            0.0           1792      0.000000  \n",
       "1      0.000000           0.145146            0.0           1080      0.000000  \n",
       "2      0.000000           0.020353            0.0           8512      2.701235  \n",
       "3      0.000000          -0.027696            0.0           3328      3.673394  \n",
       "4      2.917510          -0.370192            0.0           2432      1.981197  "
      ]
     },
     "execution_count": 7,
     "metadata": {},
     "output_type": "execute_result"
    }
   ],
   "source": [
    "print(act_label_grp.shape)\n",
    "act_label_grp.head()"
   ]
  },
  {
   "cell_type": "code",
   "execution_count": 8,
   "metadata": {
    "scrolled": true
   },
   "outputs": [
    {
     "data": {
      "text/html": [
       "<div>\n",
       "<style scoped>\n",
       "    .dataframe tbody tr th:only-of-type {\n",
       "        vertical-align: middle;\n",
       "    }\n",
       "\n",
       "    .dataframe tbody tr th {\n",
       "        vertical-align: top;\n",
       "    }\n",
       "\n",
       "    .dataframe thead th {\n",
       "        text-align: right;\n",
       "    }\n",
       "</style>\n",
       "<table border=\"1\" class=\"dataframe\">\n",
       "  <thead>\n",
       "    <tr style=\"text-align: right;\">\n",
       "      <th></th>\n",
       "      <th>acc_id</th>\n",
       "      <th>playtime</th>\n",
       "      <th>npc_kill</th>\n",
       "      <th>solo_exp</th>\n",
       "      <th>party_exp</th>\n",
       "      <th>quest_exp</th>\n",
       "      <th>rich_monster</th>\n",
       "      <th>death</th>\n",
       "      <th>revive</th>\n",
       "      <th>exp_recovery</th>\n",
       "      <th>fishing</th>\n",
       "      <th>private_shop</th>\n",
       "      <th>game_money_change</th>\n",
       "      <th>enchant_count</th>\n",
       "      <th>survival_time</th>\n",
       "      <th>survived</th>\n",
       "    </tr>\n",
       "  </thead>\n",
       "  <tbody>\n",
       "    <tr>\n",
       "      <th>0</th>\n",
       "      <td>2</td>\n",
       "      <td>91.533663</td>\n",
       "      <td>0.000000</td>\n",
       "      <td>0.000000</td>\n",
       "      <td>0.000000</td>\n",
       "      <td>0.000000</td>\n",
       "      <td>0</td>\n",
       "      <td>0.000000</td>\n",
       "      <td>0.000000</td>\n",
       "      <td>0.0</td>\n",
       "      <td>0.000000</td>\n",
       "      <td>84.900753</td>\n",
       "      <td>-0.008746</td>\n",
       "      <td>0.0</td>\n",
       "      <td>1792</td>\n",
       "      <td>death</td>\n",
       "    </tr>\n",
       "    <tr>\n",
       "      <th>1</th>\n",
       "      <td>5</td>\n",
       "      <td>6.116132</td>\n",
       "      <td>3.236452</td>\n",
       "      <td>2.155434</td>\n",
       "      <td>0.695285</td>\n",
       "      <td>0.111055</td>\n",
       "      <td>9</td>\n",
       "      <td>0.245883</td>\n",
       "      <td>0.247337</td>\n",
       "      <td>0.0</td>\n",
       "      <td>3.442909</td>\n",
       "      <td>0.000000</td>\n",
       "      <td>0.145146</td>\n",
       "      <td>0.0</td>\n",
       "      <td>1080</td>\n",
       "      <td>death</td>\n",
       "    </tr>\n",
       "    <tr>\n",
       "      <th>2</th>\n",
       "      <td>8</td>\n",
       "      <td>18.797802</td>\n",
       "      <td>31.172609</td>\n",
       "      <td>31.489136</td>\n",
       "      <td>0.000000</td>\n",
       "      <td>1.561055</td>\n",
       "      <td>2</td>\n",
       "      <td>91.960416</td>\n",
       "      <td>92.504000</td>\n",
       "      <td>0.0</td>\n",
       "      <td>4.807823</td>\n",
       "      <td>0.000000</td>\n",
       "      <td>0.020353</td>\n",
       "      <td>0.0</td>\n",
       "      <td>8512</td>\n",
       "      <td>death</td>\n",
       "    </tr>\n",
       "    <tr>\n",
       "      <th>3</th>\n",
       "      <td>17</td>\n",
       "      <td>28.464708</td>\n",
       "      <td>30.456852</td>\n",
       "      <td>9.255848</td>\n",
       "      <td>8.823094</td>\n",
       "      <td>2.322365</td>\n",
       "      <td>21</td>\n",
       "      <td>1.721184</td>\n",
       "      <td>1.731358</td>\n",
       "      <td>0.0</td>\n",
       "      <td>13.990954</td>\n",
       "      <td>0.000000</td>\n",
       "      <td>-0.027696</td>\n",
       "      <td>0.0</td>\n",
       "      <td>3328</td>\n",
       "      <td>death</td>\n",
       "    </tr>\n",
       "    <tr>\n",
       "      <th>4</th>\n",
       "      <td>20</td>\n",
       "      <td>25.588043</td>\n",
       "      <td>34.100184</td>\n",
       "      <td>0.274902</td>\n",
       "      <td>0.080060</td>\n",
       "      <td>0.083483</td>\n",
       "      <td>8</td>\n",
       "      <td>0.983534</td>\n",
       "      <td>0.989348</td>\n",
       "      <td>0.0</td>\n",
       "      <td>4.295766</td>\n",
       "      <td>2.917510</td>\n",
       "      <td>-0.370192</td>\n",
       "      <td>0.0</td>\n",
       "      <td>2432</td>\n",
       "      <td>death</td>\n",
       "    </tr>\n",
       "  </tbody>\n",
       "</table>\n",
       "</div>"
      ],
      "text/plain": [
       "   acc_id   playtime   npc_kill   solo_exp  party_exp  quest_exp  \\\n",
       "0       2  91.533663   0.000000   0.000000   0.000000   0.000000   \n",
       "1       5   6.116132   3.236452   2.155434   0.695285   0.111055   \n",
       "2       8  18.797802  31.172609  31.489136   0.000000   1.561055   \n",
       "3      17  28.464708  30.456852   9.255848   8.823094   2.322365   \n",
       "4      20  25.588043  34.100184   0.274902   0.080060   0.083483   \n",
       "\n",
       "   rich_monster      death     revive  exp_recovery    fishing  private_shop  \\\n",
       "0             0   0.000000   0.000000           0.0   0.000000     84.900753   \n",
       "1             9   0.245883   0.247337           0.0   3.442909      0.000000   \n",
       "2             2  91.960416  92.504000           0.0   4.807823      0.000000   \n",
       "3            21   1.721184   1.731358           0.0  13.990954      0.000000   \n",
       "4             8   0.983534   0.989348           0.0   4.295766      2.917510   \n",
       "\n",
       "   game_money_change  enchant_count  survival_time survived  \n",
       "0          -0.008746            0.0           1792    death  \n",
       "1           0.145146            0.0           1080    death  \n",
       "2           0.020353            0.0           8512    death  \n",
       "3          -0.027696            0.0           3328    death  \n",
       "4          -0.370192            0.0           2432    death  "
      ]
     },
     "execution_count": 8,
     "metadata": {},
     "output_type": "execute_result"
    }
   ],
   "source": [
    "data = act_label_grp.drop(['day','char_id','amount_spent'], axis =1)\n",
    "data['survived'] = np.where(data['survival_time'] == 64, 'survived','death')\n",
    "data.head()"
   ]
  },
  {
   "cell_type": "code",
   "execution_count": 9,
   "metadata": {},
   "outputs": [
    {
     "data": {
      "text/plain": [
       "((28000, 13), (12000, 13), (28000,), (12000,))"
      ]
     },
     "execution_count": 9,
     "metadata": {},
     "output_type": "execute_result"
    }
   ],
   "source": [
    "#훈련세트, 테스트세트 나누기\n",
    "from sklearn.model_selection import train_test_split\n",
    "\n",
    "x = data.iloc[:,:-1]\n",
    "x.drop('survival_time', axis=1, inplace = True)\n",
    "x.drop('acc_id', axis=1, inplace = True)\n",
    "y = data.loc[:,'survived']\n",
    "\n",
    "train_x, test_x, train_y, test_y = train_test_split(x,y, test_size = 0.3)\n",
    "\n",
    "train_x.shape, test_x.shape, train_y.shape, test_y.shape\n"
   ]
  },
  {
   "cell_type": "markdown",
   "metadata": {},
   "source": [
    "## DecisionTree"
   ]
  },
  {
   "cell_type": "code",
   "execution_count": 10,
   "metadata": {},
   "outputs": [],
   "source": [
    "from sklearn.tree import DecisionTreeClassifier"
   ]
  },
  {
   "cell_type": "code",
   "execution_count": 11,
   "metadata": {},
   "outputs": [
    {
     "name": "stdout",
     "output_type": "stream",
     "text": [
      "0.9989166666666667\n"
     ]
    }
   ],
   "source": [
    "decision = DecisionTreeClassifier(max_depth = 3, random_state = 7).fit(train_x,train_y)\n",
    "print(decision.score(test_x, test_y))"
   ]
  },
  {
   "cell_type": "markdown",
   "metadata": {},
   "source": [
    "## RandomForest"
   ]
  },
  {
   "cell_type": "code",
   "execution_count": 19,
   "metadata": {},
   "outputs": [],
   "source": [
    "from sklearn.ensemble import RandomForestClassifier\n",
    "from sklearn.tree import DecisionTreeClassifier, export_graphviz\n",
    "from sklearn import tree\n",
    "from sklearn.datasets import load_wine\n",
    "from IPython.display import SVG\n",
    "from graphviz import Source\n",
    "from IPython.display import display\n",
    "import graphviz"
   ]
  },
  {
   "cell_type": "code",
   "execution_count": 20,
   "metadata": {},
   "outputs": [
    {
     "name": "stdout",
     "output_type": "stream",
     "text": [
      "0.9990833333333333\n"
     ]
    }
   ],
   "source": [
    "forst = RandomForestClassifier(n_estimators=500)\n",
    "forst.fit(train_x,train_y)\n",
    "print(forst.score(test_x, test_y))"
   ]
  },
  {
   "cell_type": "code",
   "execution_count": 24,
   "metadata": {},
   "outputs": [
    {
     "ename": "NotFittedError",
     "evalue": "This RandomForestClassifier instance is not fitted yet. Call 'fit' with appropriate arguments before using this method.",
     "output_type": "error",
     "traceback": [
      "\u001b[1;31m---------------------------------------------------------------------------\u001b[0m",
      "\u001b[1;31mNotFittedError\u001b[0m                            Traceback (most recent call last)",
      "\u001b[1;32m<ipython-input-24-501cbb4f9fcd>\u001b[0m in \u001b[0;36m<module>\u001b[1;34m\u001b[0m\n\u001b[0;32m      3\u001b[0m     \u001b[0mfeature_names\u001b[0m \u001b[1;33m=\u001b[0m \u001b[0mx\u001b[0m\u001b[1;33m.\u001b[0m\u001b[0mcolumns\u001b[0m\u001b[1;33m,\u001b[0m\u001b[1;33m\u001b[0m\u001b[1;33m\u001b[0m\u001b[0m\n\u001b[0;32m      4\u001b[0m     \u001b[0mclass_names\u001b[0m \u001b[1;33m=\u001b[0m \u001b[1;33m[\u001b[0m\u001b[1;34m'Death'\u001b[0m\u001b[1;33m,\u001b[0m \u001b[1;34m'Survived'\u001b[0m\u001b[1;33m]\u001b[0m\u001b[1;33m,\u001b[0m\u001b[1;33m\u001b[0m\u001b[1;33m\u001b[0m\u001b[0m\n\u001b[1;32m----> 5\u001b[1;33m     out_file = \"C:/Users/CPB06GameN/Desktop/PROGRAM/big/game.dot\")\n\u001b[0m",
      "\u001b[1;32m~\\Anaconda3\\lib\\site-packages\\sklearn\\tree\\export.py\u001b[0m in \u001b[0;36mexport_graphviz\u001b[1;34m(decision_tree, out_file, max_depth, feature_names, class_names, label, filled, leaves_parallel, impurity, node_ids, proportion, rotate, rounded, special_characters, precision)\u001b[0m\n\u001b[0;32m    394\u001b[0m                 \u001b[0mout_file\u001b[0m\u001b[1;33m.\u001b[0m\u001b[0mwrite\u001b[0m\u001b[1;33m(\u001b[0m\u001b[1;34m'%d -> %d ;\\n'\u001b[0m \u001b[1;33m%\u001b[0m \u001b[1;33m(\u001b[0m\u001b[0mparent\u001b[0m\u001b[1;33m,\u001b[0m \u001b[0mnode_id\u001b[0m\u001b[1;33m)\u001b[0m\u001b[1;33m)\u001b[0m\u001b[1;33m\u001b[0m\u001b[1;33m\u001b[0m\u001b[0m\n\u001b[0;32m    395\u001b[0m \u001b[1;33m\u001b[0m\u001b[0m\n\u001b[1;32m--> 396\u001b[1;33m     \u001b[0mcheck_is_fitted\u001b[0m\u001b[1;33m(\u001b[0m\u001b[0mdecision_tree\u001b[0m\u001b[1;33m,\u001b[0m \u001b[1;34m'tree_'\u001b[0m\u001b[1;33m)\u001b[0m\u001b[1;33m\u001b[0m\u001b[1;33m\u001b[0m\u001b[0m\n\u001b[0m\u001b[0;32m    397\u001b[0m     \u001b[0mown_file\u001b[0m \u001b[1;33m=\u001b[0m \u001b[1;32mFalse\u001b[0m\u001b[1;33m\u001b[0m\u001b[1;33m\u001b[0m\u001b[0m\n\u001b[0;32m    398\u001b[0m     \u001b[0mreturn_string\u001b[0m \u001b[1;33m=\u001b[0m \u001b[1;32mFalse\u001b[0m\u001b[1;33m\u001b[0m\u001b[1;33m\u001b[0m\u001b[0m\n",
      "\u001b[1;32m~\\Anaconda3\\lib\\site-packages\\sklearn\\utils\\validation.py\u001b[0m in \u001b[0;36mcheck_is_fitted\u001b[1;34m(estimator, attributes, msg, all_or_any)\u001b[0m\n\u001b[0;32m    949\u001b[0m \u001b[1;33m\u001b[0m\u001b[0m\n\u001b[0;32m    950\u001b[0m     \u001b[1;32mif\u001b[0m \u001b[1;32mnot\u001b[0m \u001b[0mall_or_any\u001b[0m\u001b[1;33m(\u001b[0m\u001b[1;33m[\u001b[0m\u001b[0mhasattr\u001b[0m\u001b[1;33m(\u001b[0m\u001b[0mestimator\u001b[0m\u001b[1;33m,\u001b[0m \u001b[0mattr\u001b[0m\u001b[1;33m)\u001b[0m \u001b[1;32mfor\u001b[0m \u001b[0mattr\u001b[0m \u001b[1;32min\u001b[0m \u001b[0mattributes\u001b[0m\u001b[1;33m]\u001b[0m\u001b[1;33m)\u001b[0m\u001b[1;33m:\u001b[0m\u001b[1;33m\u001b[0m\u001b[1;33m\u001b[0m\u001b[0m\n\u001b[1;32m--> 951\u001b[1;33m         \u001b[1;32mraise\u001b[0m \u001b[0mNotFittedError\u001b[0m\u001b[1;33m(\u001b[0m\u001b[0mmsg\u001b[0m \u001b[1;33m%\u001b[0m \u001b[1;33m{\u001b[0m\u001b[1;34m'name'\u001b[0m\u001b[1;33m:\u001b[0m \u001b[0mtype\u001b[0m\u001b[1;33m(\u001b[0m\u001b[0mestimator\u001b[0m\u001b[1;33m)\u001b[0m\u001b[1;33m.\u001b[0m\u001b[0m__name__\u001b[0m\u001b[1;33m}\u001b[0m\u001b[1;33m)\u001b[0m\u001b[1;33m\u001b[0m\u001b[1;33m\u001b[0m\u001b[0m\n\u001b[0m\u001b[0;32m    952\u001b[0m \u001b[1;33m\u001b[0m\u001b[0m\n\u001b[0;32m    953\u001b[0m \u001b[1;33m\u001b[0m\u001b[0m\n",
      "\u001b[1;31mNotFittedError\u001b[0m: This RandomForestClassifier instance is not fitted yet. Call 'fit' with appropriate arguments before using this method."
     ]
    }
   ],
   "source": [
    "export_graphviz(\n",
    "    forst,\n",
    "    feature_names = x.columns,\n",
    "    class_names = ['Death', 'Survived'],\n",
    "    out_file = \"C:/Users/CPB06GameN/Desktop/PROGRAM/big/game.dot\",\n",
    "    impurity=True, \n",
    "    filled=True)"
   ]
  },
  {
   "cell_type": "code",
   "execution_count": null,
   "metadata": {},
   "outputs": [],
   "source": [
    "\n",
    "with open(\"C:/Users/CPB06GameN/Desktop/PROGRAM/big/game.dot\") as f:\n",
    "#     dot_graph = str(open(\"game.dot\", \"rb\").read(), 'utf8')\n",
    "#     dot_graph = f.read()\n",
    "    dot_graph = str(open(\"C:/Users/CPB06GameN/Desktop/PROGRAM/big/game.dot\", \"rb\").read(), 'utf8')\n",
    "\n",
    "graphviz.Source(dot_graph)  # gini(지니)값은 불순도를 의미 -> 값이 작을수록 순도가 높음.\n",
    "\n"
   ]
  },
  {
   "cell_type": "code",
   "execution_count": 81,
   "metadata": {},
   "outputs": [
    {
     "ename": "AttributeError",
     "evalue": "'RandomForestClassifier' object has no attribute 'export_graphviz'",
     "output_type": "error",
     "traceback": [
      "\u001b[1;31m---------------------------------------------------------------------------\u001b[0m",
      "\u001b[1;31mAttributeError\u001b[0m                            Traceback (most recent call last)",
      "\u001b[1;32m<ipython-input-81-f9e385df3a0a>\u001b[0m in \u001b[0;36m<module>\u001b[1;34m\u001b[0m\n\u001b[1;32m----> 1\u001b[1;33m graph = Source(forst.export_graphviz(estimator, out_file=None\n\u001b[0m\u001b[0;32m      2\u001b[0m    \u001b[1;33m,\u001b[0m \u001b[0mfeature_names\u001b[0m\u001b[1;33m=\u001b[0m\u001b[0mx\u001b[0m\u001b[1;33m.\u001b[0m\u001b[0mcolumns\u001b[0m\u001b[1;33m,\u001b[0m \u001b[0mclass_names\u001b[0m\u001b[1;33m=\u001b[0m\u001b[1;33m[\u001b[0m\u001b[1;34m'survived'\u001b[0m\u001b[1;33m,\u001b[0m\u001b[1;34m'death'\u001b[0m\u001b[1;33m]\u001b[0m\u001b[1;33m\u001b[0m\u001b[1;33m\u001b[0m\u001b[0m\n\u001b[0;32m      3\u001b[0m    , filled = True))\n\u001b[0;32m      4\u001b[0m \u001b[0mdisplay\u001b[0m\u001b[1;33m(\u001b[0m\u001b[0mSVG\u001b[0m\u001b[1;33m(\u001b[0m\u001b[0mgraph\u001b[0m\u001b[1;33m.\u001b[0m\u001b[0mpipe\u001b[0m\u001b[1;33m(\u001b[0m\u001b[0mformat\u001b[0m\u001b[1;33m=\u001b[0m\u001b[1;34m'svg'\u001b[0m\u001b[1;33m)\u001b[0m\u001b[1;33m)\u001b[0m\u001b[1;33m)\u001b[0m\u001b[1;33m\u001b[0m\u001b[1;33m\u001b[0m\u001b[0m\n",
      "\u001b[1;31mAttributeError\u001b[0m: 'RandomForestClassifier' object has no attribute 'export_graphviz'"
     ]
    }
   ],
   "source": [
    "graph = Source(forst.export_graphviz(estimator, out_file=None\n",
    "   , feature_names=x.columns, class_names=['survived','death'] \n",
    "   , filled = True))\n",
    "display(SVG(graph.pipe(format='svg')))"
   ]
  },
  {
   "cell_type": "code",
   "execution_count": null,
   "metadata": {},
   "outputs": [],
   "source": []
  },
  {
   "cell_type": "code",
   "execution_count": null,
   "metadata": {},
   "outputs": [],
   "source": []
  }
 ],
 "metadata": {
  "kernelspec": {
   "display_name": "Python 3",
   "language": "python",
   "name": "python3"
  },
  "language_info": {
   "codemirror_mode": {
    "name": "ipython",
    "version": 3
   },
   "file_extension": ".py",
   "mimetype": "text/x-python",
   "name": "python",
   "nbconvert_exporter": "python",
   "pygments_lexer": "ipython3",
   "version": "3.7.3"
  }
 },
 "nbformat": 4,
 "nbformat_minor": 2
}
